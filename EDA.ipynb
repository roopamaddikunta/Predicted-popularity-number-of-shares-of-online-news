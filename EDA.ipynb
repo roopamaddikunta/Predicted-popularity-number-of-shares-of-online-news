{
 "cells": [
  {
   "cell_type": "markdown",
   "metadata": {},
   "source": [
    "# Online News Popularity\n",
    "\n",
    "   Online news popularity dataset has features about articles published by Mashable in a period of two years . Aim is to predict the popularity based on the shares it has got. Dataset taken from https://archive.ics.uci.edu/ml/datasets/Online+News+Popularity"
   ]
  },
  {
   "cell_type": "code",
   "execution_count": 2,
   "metadata": {
    "collapsed": false
   },
   "outputs": [
    {
     "name": "stdout",
     "output_type": "stream",
     "text": [
      "Populating the interactive namespace from numpy and matplotlib\n"
     ]
    }
   ],
   "source": [
    "import pandas as pd\n",
    "%pylab inline\n",
    "\n",
    "import numpy as np\n",
    "from sklearn.cross_validation import train_test_split\n",
    "import math\n"
   ]
  },
  {
   "cell_type": "code",
   "execution_count": 3,
   "metadata": {
    "collapsed": true
   },
   "outputs": [],
   "source": [
    "df=pd.read_csv(\"OnlineNewsPopularity.csv\")"
   ]
  },
  {
   "cell_type": "code",
   "execution_count": 4,
   "metadata": {
    "collapsed": false
   },
   "outputs": [
    {
     "data": {
      "text/html": [
       "<div>\n",
       "<table border=\"1\" class=\"dataframe\">\n",
       "  <thead>\n",
       "    <tr style=\"text-align: right;\">\n",
       "      <th></th>\n",
       "      <th>url</th>\n",
       "      <th>timedelta</th>\n",
       "      <th>n_tokens_title</th>\n",
       "      <th>n_tokens_content</th>\n",
       "      <th>n_unique_tokens</th>\n",
       "      <th>n_non_stop_words</th>\n",
       "      <th>n_non_stop_unique_tokens</th>\n",
       "      <th>num_hrefs</th>\n",
       "      <th>num_self_hrefs</th>\n",
       "      <th>num_imgs</th>\n",
       "      <th>...</th>\n",
       "      <th>min_positive_polarity</th>\n",
       "      <th>max_positive_polarity</th>\n",
       "      <th>avg_negative_polarity</th>\n",
       "      <th>min_negative_polarity</th>\n",
       "      <th>max_negative_polarity</th>\n",
       "      <th>title_subjectivity</th>\n",
       "      <th>title_sentiment_polarity</th>\n",
       "      <th>abs_title_subjectivity</th>\n",
       "      <th>abs_title_sentiment_polarity</th>\n",
       "      <th>shares</th>\n",
       "    </tr>\n",
       "  </thead>\n",
       "  <tbody>\n",
       "    <tr>\n",
       "      <th>0</th>\n",
       "      <td>http://mashable.com/2013/01/07/amazon-instant-...</td>\n",
       "      <td>731.0</td>\n",
       "      <td>12.0</td>\n",
       "      <td>219.0</td>\n",
       "      <td>0.663594</td>\n",
       "      <td>1.0</td>\n",
       "      <td>0.815385</td>\n",
       "      <td>4.0</td>\n",
       "      <td>2.0</td>\n",
       "      <td>1.0</td>\n",
       "      <td>...</td>\n",
       "      <td>0.100000</td>\n",
       "      <td>0.7</td>\n",
       "      <td>-0.350000</td>\n",
       "      <td>-0.600</td>\n",
       "      <td>-0.200000</td>\n",
       "      <td>0.500000</td>\n",
       "      <td>-0.187500</td>\n",
       "      <td>0.000000</td>\n",
       "      <td>0.187500</td>\n",
       "      <td>593</td>\n",
       "    </tr>\n",
       "    <tr>\n",
       "      <th>1</th>\n",
       "      <td>http://mashable.com/2013/01/07/ap-samsung-spon...</td>\n",
       "      <td>731.0</td>\n",
       "      <td>9.0</td>\n",
       "      <td>255.0</td>\n",
       "      <td>0.604743</td>\n",
       "      <td>1.0</td>\n",
       "      <td>0.791946</td>\n",
       "      <td>3.0</td>\n",
       "      <td>1.0</td>\n",
       "      <td>1.0</td>\n",
       "      <td>...</td>\n",
       "      <td>0.033333</td>\n",
       "      <td>0.7</td>\n",
       "      <td>-0.118750</td>\n",
       "      <td>-0.125</td>\n",
       "      <td>-0.100000</td>\n",
       "      <td>0.000000</td>\n",
       "      <td>0.000000</td>\n",
       "      <td>0.500000</td>\n",
       "      <td>0.000000</td>\n",
       "      <td>711</td>\n",
       "    </tr>\n",
       "    <tr>\n",
       "      <th>2</th>\n",
       "      <td>http://mashable.com/2013/01/07/apple-40-billio...</td>\n",
       "      <td>731.0</td>\n",
       "      <td>9.0</td>\n",
       "      <td>211.0</td>\n",
       "      <td>0.575130</td>\n",
       "      <td>1.0</td>\n",
       "      <td>0.663866</td>\n",
       "      <td>3.0</td>\n",
       "      <td>1.0</td>\n",
       "      <td>1.0</td>\n",
       "      <td>...</td>\n",
       "      <td>0.100000</td>\n",
       "      <td>1.0</td>\n",
       "      <td>-0.466667</td>\n",
       "      <td>-0.800</td>\n",
       "      <td>-0.133333</td>\n",
       "      <td>0.000000</td>\n",
       "      <td>0.000000</td>\n",
       "      <td>0.500000</td>\n",
       "      <td>0.000000</td>\n",
       "      <td>1500</td>\n",
       "    </tr>\n",
       "    <tr>\n",
       "      <th>3</th>\n",
       "      <td>http://mashable.com/2013/01/07/astronaut-notre...</td>\n",
       "      <td>731.0</td>\n",
       "      <td>9.0</td>\n",
       "      <td>531.0</td>\n",
       "      <td>0.503788</td>\n",
       "      <td>1.0</td>\n",
       "      <td>0.665635</td>\n",
       "      <td>9.0</td>\n",
       "      <td>0.0</td>\n",
       "      <td>1.0</td>\n",
       "      <td>...</td>\n",
       "      <td>0.136364</td>\n",
       "      <td>0.8</td>\n",
       "      <td>-0.369697</td>\n",
       "      <td>-0.600</td>\n",
       "      <td>-0.166667</td>\n",
       "      <td>0.000000</td>\n",
       "      <td>0.000000</td>\n",
       "      <td>0.500000</td>\n",
       "      <td>0.000000</td>\n",
       "      <td>1200</td>\n",
       "    </tr>\n",
       "    <tr>\n",
       "      <th>4</th>\n",
       "      <td>http://mashable.com/2013/01/07/att-u-verse-apps/</td>\n",
       "      <td>731.0</td>\n",
       "      <td>13.0</td>\n",
       "      <td>1072.0</td>\n",
       "      <td>0.415646</td>\n",
       "      <td>1.0</td>\n",
       "      <td>0.540890</td>\n",
       "      <td>19.0</td>\n",
       "      <td>19.0</td>\n",
       "      <td>20.0</td>\n",
       "      <td>...</td>\n",
       "      <td>0.033333</td>\n",
       "      <td>1.0</td>\n",
       "      <td>-0.220192</td>\n",
       "      <td>-0.500</td>\n",
       "      <td>-0.050000</td>\n",
       "      <td>0.454545</td>\n",
       "      <td>0.136364</td>\n",
       "      <td>0.045455</td>\n",
       "      <td>0.136364</td>\n",
       "      <td>505</td>\n",
       "    </tr>\n",
       "    <tr>\n",
       "      <th>5</th>\n",
       "      <td>http://mashable.com/2013/01/07/beewi-smart-toys/</td>\n",
       "      <td>731.0</td>\n",
       "      <td>10.0</td>\n",
       "      <td>370.0</td>\n",
       "      <td>0.559889</td>\n",
       "      <td>1.0</td>\n",
       "      <td>0.698198</td>\n",
       "      <td>2.0</td>\n",
       "      <td>2.0</td>\n",
       "      <td>0.0</td>\n",
       "      <td>...</td>\n",
       "      <td>0.136364</td>\n",
       "      <td>0.6</td>\n",
       "      <td>-0.195000</td>\n",
       "      <td>-0.400</td>\n",
       "      <td>-0.100000</td>\n",
       "      <td>0.642857</td>\n",
       "      <td>0.214286</td>\n",
       "      <td>0.142857</td>\n",
       "      <td>0.214286</td>\n",
       "      <td>855</td>\n",
       "    </tr>\n",
       "    <tr>\n",
       "      <th>6</th>\n",
       "      <td>http://mashable.com/2013/01/07/bodymedia-armba...</td>\n",
       "      <td>731.0</td>\n",
       "      <td>8.0</td>\n",
       "      <td>960.0</td>\n",
       "      <td>0.418163</td>\n",
       "      <td>1.0</td>\n",
       "      <td>0.549834</td>\n",
       "      <td>21.0</td>\n",
       "      <td>20.0</td>\n",
       "      <td>20.0</td>\n",
       "      <td>...</td>\n",
       "      <td>0.100000</td>\n",
       "      <td>1.0</td>\n",
       "      <td>-0.224479</td>\n",
       "      <td>-0.500</td>\n",
       "      <td>-0.050000</td>\n",
       "      <td>0.000000</td>\n",
       "      <td>0.000000</td>\n",
       "      <td>0.500000</td>\n",
       "      <td>0.000000</td>\n",
       "      <td>556</td>\n",
       "    </tr>\n",
       "    <tr>\n",
       "      <th>7</th>\n",
       "      <td>http://mashable.com/2013/01/07/canon-poweshot-n/</td>\n",
       "      <td>731.0</td>\n",
       "      <td>12.0</td>\n",
       "      <td>989.0</td>\n",
       "      <td>0.433574</td>\n",
       "      <td>1.0</td>\n",
       "      <td>0.572108</td>\n",
       "      <td>20.0</td>\n",
       "      <td>20.0</td>\n",
       "      <td>20.0</td>\n",
       "      <td>...</td>\n",
       "      <td>0.100000</td>\n",
       "      <td>1.0</td>\n",
       "      <td>-0.242778</td>\n",
       "      <td>-0.500</td>\n",
       "      <td>-0.050000</td>\n",
       "      <td>1.000000</td>\n",
       "      <td>0.500000</td>\n",
       "      <td>0.500000</td>\n",
       "      <td>0.500000</td>\n",
       "      <td>891</td>\n",
       "    </tr>\n",
       "    <tr>\n",
       "      <th>8</th>\n",
       "      <td>http://mashable.com/2013/01/07/car-of-the-futu...</td>\n",
       "      <td>731.0</td>\n",
       "      <td>11.0</td>\n",
       "      <td>97.0</td>\n",
       "      <td>0.670103</td>\n",
       "      <td>1.0</td>\n",
       "      <td>0.836735</td>\n",
       "      <td>2.0</td>\n",
       "      <td>0.0</td>\n",
       "      <td>0.0</td>\n",
       "      <td>...</td>\n",
       "      <td>0.400000</td>\n",
       "      <td>0.8</td>\n",
       "      <td>-0.125000</td>\n",
       "      <td>-0.125</td>\n",
       "      <td>-0.125000</td>\n",
       "      <td>0.125000</td>\n",
       "      <td>0.000000</td>\n",
       "      <td>0.375000</td>\n",
       "      <td>0.000000</td>\n",
       "      <td>3600</td>\n",
       "    </tr>\n",
       "    <tr>\n",
       "      <th>9</th>\n",
       "      <td>http://mashable.com/2013/01/07/chuck-hagel-web...</td>\n",
       "      <td>731.0</td>\n",
       "      <td>10.0</td>\n",
       "      <td>231.0</td>\n",
       "      <td>0.636364</td>\n",
       "      <td>1.0</td>\n",
       "      <td>0.797101</td>\n",
       "      <td>4.0</td>\n",
       "      <td>1.0</td>\n",
       "      <td>1.0</td>\n",
       "      <td>...</td>\n",
       "      <td>0.100000</td>\n",
       "      <td>0.5</td>\n",
       "      <td>-0.238095</td>\n",
       "      <td>-0.500</td>\n",
       "      <td>-0.100000</td>\n",
       "      <td>0.000000</td>\n",
       "      <td>0.000000</td>\n",
       "      <td>0.500000</td>\n",
       "      <td>0.000000</td>\n",
       "      <td>710</td>\n",
       "    </tr>\n",
       "  </tbody>\n",
       "</table>\n",
       "<p>10 rows × 61 columns</p>\n",
       "</div>"
      ],
      "text/plain": [
       "                                                 url   timedelta  \\\n",
       "0  http://mashable.com/2013/01/07/amazon-instant-...       731.0   \n",
       "1  http://mashable.com/2013/01/07/ap-samsung-spon...       731.0   \n",
       "2  http://mashable.com/2013/01/07/apple-40-billio...       731.0   \n",
       "3  http://mashable.com/2013/01/07/astronaut-notre...       731.0   \n",
       "4   http://mashable.com/2013/01/07/att-u-verse-apps/       731.0   \n",
       "5   http://mashable.com/2013/01/07/beewi-smart-toys/       731.0   \n",
       "6  http://mashable.com/2013/01/07/bodymedia-armba...       731.0   \n",
       "7   http://mashable.com/2013/01/07/canon-poweshot-n/       731.0   \n",
       "8  http://mashable.com/2013/01/07/car-of-the-futu...       731.0   \n",
       "9  http://mashable.com/2013/01/07/chuck-hagel-web...       731.0   \n",
       "\n",
       "    n_tokens_title   n_tokens_content   n_unique_tokens   n_non_stop_words  \\\n",
       "0             12.0              219.0          0.663594                1.0   \n",
       "1              9.0              255.0          0.604743                1.0   \n",
       "2              9.0              211.0          0.575130                1.0   \n",
       "3              9.0              531.0          0.503788                1.0   \n",
       "4             13.0             1072.0          0.415646                1.0   \n",
       "5             10.0              370.0          0.559889                1.0   \n",
       "6              8.0              960.0          0.418163                1.0   \n",
       "7             12.0              989.0          0.433574                1.0   \n",
       "8             11.0               97.0          0.670103                1.0   \n",
       "9             10.0              231.0          0.636364                1.0   \n",
       "\n",
       "    n_non_stop_unique_tokens   num_hrefs   num_self_hrefs   num_imgs   ...     \\\n",
       "0                   0.815385         4.0              2.0        1.0   ...      \n",
       "1                   0.791946         3.0              1.0        1.0   ...      \n",
       "2                   0.663866         3.0              1.0        1.0   ...      \n",
       "3                   0.665635         9.0              0.0        1.0   ...      \n",
       "4                   0.540890        19.0             19.0       20.0   ...      \n",
       "5                   0.698198         2.0              2.0        0.0   ...      \n",
       "6                   0.549834        21.0             20.0       20.0   ...      \n",
       "7                   0.572108        20.0             20.0       20.0   ...      \n",
       "8                   0.836735         2.0              0.0        0.0   ...      \n",
       "9                   0.797101         4.0              1.0        1.0   ...      \n",
       "\n",
       "    min_positive_polarity   max_positive_polarity   avg_negative_polarity  \\\n",
       "0                0.100000                     0.7               -0.350000   \n",
       "1                0.033333                     0.7               -0.118750   \n",
       "2                0.100000                     1.0               -0.466667   \n",
       "3                0.136364                     0.8               -0.369697   \n",
       "4                0.033333                     1.0               -0.220192   \n",
       "5                0.136364                     0.6               -0.195000   \n",
       "6                0.100000                     1.0               -0.224479   \n",
       "7                0.100000                     1.0               -0.242778   \n",
       "8                0.400000                     0.8               -0.125000   \n",
       "9                0.100000                     0.5               -0.238095   \n",
       "\n",
       "    min_negative_polarity   max_negative_polarity   title_subjectivity  \\\n",
       "0                  -0.600               -0.200000             0.500000   \n",
       "1                  -0.125               -0.100000             0.000000   \n",
       "2                  -0.800               -0.133333             0.000000   \n",
       "3                  -0.600               -0.166667             0.000000   \n",
       "4                  -0.500               -0.050000             0.454545   \n",
       "5                  -0.400               -0.100000             0.642857   \n",
       "6                  -0.500               -0.050000             0.000000   \n",
       "7                  -0.500               -0.050000             1.000000   \n",
       "8                  -0.125               -0.125000             0.125000   \n",
       "9                  -0.500               -0.100000             0.000000   \n",
       "\n",
       "    title_sentiment_polarity   abs_title_subjectivity  \\\n",
       "0                  -0.187500                 0.000000   \n",
       "1                   0.000000                 0.500000   \n",
       "2                   0.000000                 0.500000   \n",
       "3                   0.000000                 0.500000   \n",
       "4                   0.136364                 0.045455   \n",
       "5                   0.214286                 0.142857   \n",
       "6                   0.000000                 0.500000   \n",
       "7                   0.500000                 0.500000   \n",
       "8                   0.000000                 0.375000   \n",
       "9                   0.000000                 0.500000   \n",
       "\n",
       "    abs_title_sentiment_polarity   shares  \n",
       "0                       0.187500      593  \n",
       "1                       0.000000      711  \n",
       "2                       0.000000     1500  \n",
       "3                       0.000000     1200  \n",
       "4                       0.136364      505  \n",
       "5                       0.214286      855  \n",
       "6                       0.000000      556  \n",
       "7                       0.500000      891  \n",
       "8                       0.000000     3600  \n",
       "9                       0.000000      710  \n",
       "\n",
       "[10 rows x 61 columns]"
      ]
     },
     "execution_count": 4,
     "metadata": {},
     "output_type": "execute_result"
    }
   ],
   "source": [
    "df.head(10)"
   ]
  },
  {
   "cell_type": "code",
   "execution_count": 4,
   "metadata": {
    "collapsed": false
   },
   "outputs": [
    {
     "data": {
      "text/plain": [
       "Index([u'url', u' timedelta', u' n_tokens_title', u' n_tokens_content',\n",
       "       u' n_unique_tokens', u' n_non_stop_words', u' n_non_stop_unique_tokens',\n",
       "       u' num_hrefs', u' num_self_hrefs', u' num_imgs', u' num_videos',\n",
       "       u' average_token_length', u' num_keywords',\n",
       "       u' data_channel_is_lifestyle', u' data_channel_is_entertainment',\n",
       "       u' data_channel_is_bus', u' data_channel_is_socmed',\n",
       "       u' data_channel_is_tech', u' data_channel_is_world', u' kw_min_min',\n",
       "       u' kw_max_min', u' kw_avg_min', u' kw_min_max', u' kw_max_max',\n",
       "       u' kw_avg_max', u' kw_min_avg', u' kw_max_avg', u' kw_avg_avg',\n",
       "       u' self_reference_min_shares', u' self_reference_max_shares',\n",
       "       u' self_reference_avg_sharess', u' weekday_is_monday',\n",
       "       u' weekday_is_tuesday', u' weekday_is_wednesday',\n",
       "       u' weekday_is_thursday', u' weekday_is_friday', u' weekday_is_saturday',\n",
       "       u' weekday_is_sunday', u' is_weekend', u' LDA_00', u' LDA_01',\n",
       "       u' LDA_02', u' LDA_03', u' LDA_04', u' global_subjectivity',\n",
       "       u' global_sentiment_polarity', u' global_rate_positive_words',\n",
       "       u' global_rate_negative_words', u' rate_positive_words',\n",
       "       u' rate_negative_words', u' avg_positive_polarity',\n",
       "       u' min_positive_polarity', u' max_positive_polarity',\n",
       "       u' avg_negative_polarity', u' min_negative_polarity',\n",
       "       u' max_negative_polarity', u' title_subjectivity',\n",
       "       u' title_sentiment_polarity', u' abs_title_subjectivity',\n",
       "       u' abs_title_sentiment_polarity', u' shares'],\n",
       "      dtype='object')"
      ]
     },
     "execution_count": 4,
     "metadata": {},
     "output_type": "execute_result"
    }
   ],
   "source": [
    "df.columns"
   ]
  },
  {
   "cell_type": "code",
   "execution_count": 5,
   "metadata": {
    "collapsed": true
   },
   "outputs": [],
   "source": [
    "df = df.rename(columns = {\n",
    "       'url': ' url'\n",
    "        \n",
    "    })"
   ]
  },
  {
   "cell_type": "code",
   "execution_count": 6,
   "metadata": {
    "collapsed": true
   },
   "outputs": [],
   "source": [
    "df.rename(columns=lambda x: x[1:], inplace=True)"
   ]
  },
  {
   "cell_type": "code",
   "execution_count": 7,
   "metadata": {
    "collapsed": false
   },
   "outputs": [
    {
     "data": {
      "text/plain": [
       "Index([u'url', u'timedelta', u'n_tokens_title', u'n_tokens_content',\n",
       "       u'n_unique_tokens', u'n_non_stop_words', u'n_non_stop_unique_tokens',\n",
       "       u'num_hrefs', u'num_self_hrefs', u'num_imgs', u'num_videos',\n",
       "       u'average_token_length', u'num_keywords', u'data_channel_is_lifestyle',\n",
       "       u'data_channel_is_entertainment', u'data_channel_is_bus',\n",
       "       u'data_channel_is_socmed', u'data_channel_is_tech',\n",
       "       u'data_channel_is_world', u'kw_min_min', u'kw_max_min', u'kw_avg_min',\n",
       "       u'kw_min_max', u'kw_max_max', u'kw_avg_max', u'kw_min_avg',\n",
       "       u'kw_max_avg', u'kw_avg_avg', u'self_reference_min_shares',\n",
       "       u'self_reference_max_shares', u'self_reference_avg_sharess',\n",
       "       u'weekday_is_monday', u'weekday_is_tuesday', u'weekday_is_wednesday',\n",
       "       u'weekday_is_thursday', u'weekday_is_friday', u'weekday_is_saturday',\n",
       "       u'weekday_is_sunday', u'is_weekend', u'LDA_00', u'LDA_01', u'LDA_02',\n",
       "       u'LDA_03', u'LDA_04', u'global_subjectivity',\n",
       "       u'global_sentiment_polarity', u'global_rate_positive_words',\n",
       "       u'global_rate_negative_words', u'rate_positive_words',\n",
       "       u'rate_negative_words', u'avg_positive_polarity',\n",
       "       u'min_positive_polarity', u'max_positive_polarity',\n",
       "       u'avg_negative_polarity', u'min_negative_polarity',\n",
       "       u'max_negative_polarity', u'title_subjectivity',\n",
       "       u'title_sentiment_polarity', u'abs_title_subjectivity',\n",
       "       u'abs_title_sentiment_polarity', u'shares'],\n",
       "      dtype='object')"
      ]
     },
     "execution_count": 7,
     "metadata": {},
     "output_type": "execute_result"
    }
   ],
   "source": [
    "df.columns"
   ]
  },
  {
   "cell_type": "code",
   "execution_count": 8,
   "metadata": {
    "collapsed": false
   },
   "outputs": [
    {
     "data": {
      "text/plain": [
       "91.0     104\n",
       "72.0     102\n",
       "84.0     101\n",
       "59.0      99\n",
       "29.0      99\n",
       "210.0     97\n",
       "182.0     96\n",
       "37.0      95\n",
       "28.0      95\n",
       "127.0     94\n",
       "161.0     94\n",
       "52.0      94\n",
       "77.0      93\n",
       "35.0      93\n",
       "23.0      93\n",
       "79.0      93\n",
       "100.0     92\n",
       "36.0      92\n",
       "92.0      92\n",
       "66.0      92\n",
       "71.0      91\n",
       "169.0     90\n",
       "121.0     90\n",
       "49.0      90\n",
       "126.0     90\n",
       "135.0     90\n",
       "50.0      89\n",
       "64.0      89\n",
       "70.0      89\n",
       "260.0     89\n",
       "        ... \n",
       "243.0     19\n",
       "432.0     19\n",
       "522.0     19\n",
       "264.0     19\n",
       "145.0     19\n",
       "481.0     19\n",
       "543.0     19\n",
       "495.0     19\n",
       "557.0     19\n",
       "677.0     19\n",
       "621.0     19\n",
       "383.0     19\n",
       "494.0     18\n",
       "691.0     18\n",
       "508.0     18\n",
       "585.0     18\n",
       "404.0     18\n",
       "299.0     18\n",
       "684.0     18\n",
       "369.0     17\n",
       "571.0     17\n",
       "705.0     17\n",
       "719.0     17\n",
       "291.0     16\n",
       "635.0     16\n",
       "375.0     15\n",
       "376.0     15\n",
       "656.0     15\n",
       "730.0     12\n",
       "8.0        8\n",
       "Name: timedelta, dtype: int64"
      ]
     },
     "execution_count": 8,
     "metadata": {},
     "output_type": "execute_result"
    }
   ],
   "source": [
    "df.timedelta.value_counts()"
   ]
  },
  {
   "cell_type": "code",
   "execution_count": 14,
   "metadata": {
    "collapsed": false
   },
   "outputs": [
    {
     "data": {
      "text/plain": [
       "<matplotlib.axes._subplots.AxesSubplot at 0xfb6c630>"
      ]
     },
     "execution_count": 14,
     "metadata": {},
     "output_type": "execute_result"
    },
    {
     "data": {
      "image/png": "[encoded data removed]",
      "text/plain": [
       "<matplotlib.figure.Figure at 0xfa33e48>"
      ]
     },
     "metadata": {},
     "output_type": "display_data"
    }
   ],
   "source": [
    "df.timedelta.value_counts().plot('hist')"
   ]
  },
  {
   "cell_type": "code",
   "execution_count": 9,
   "metadata": {
    "collapsed": false
   },
   "outputs": [
    {
     "data": {
      "text/html": [
       "<div>\n",
       "<table border=\"1\" class=\"dataframe\">\n",
       "  <thead>\n",
       "    <tr style=\"text-align: right;\">\n",
       "      <th></th>\n",
       "      <th>url</th>\n",
       "      <th>timedelta</th>\n",
       "      <th>n_tokens_title</th>\n",
       "      <th>n_tokens_content</th>\n",
       "      <th>n_unique_tokens</th>\n",
       "      <th>n_non_stop_words</th>\n",
       "      <th>n_non_stop_unique_tokens</th>\n",
       "      <th>num_hrefs</th>\n",
       "      <th>num_self_hrefs</th>\n",
       "      <th>num_imgs</th>\n",
       "      <th>...</th>\n",
       "      <th>min_positive_polarity</th>\n",
       "      <th>max_positive_polarity</th>\n",
       "      <th>avg_negative_polarity</th>\n",
       "      <th>min_negative_polarity</th>\n",
       "      <th>max_negative_polarity</th>\n",
       "      <th>title_subjectivity</th>\n",
       "      <th>title_sentiment_polarity</th>\n",
       "      <th>abs_title_subjectivity</th>\n",
       "      <th>abs_title_sentiment_polarity</th>\n",
       "      <th>shares</th>\n",
       "    </tr>\n",
       "  </thead>\n",
       "  <tbody>\n",
       "  </tbody>\n",
       "</table>\n",
       "<p>0 rows × 61 columns</p>\n",
       "</div>"
      ],
      "text/plain": [
       "Empty DataFrame\n",
       "Columns: [url, timedelta, n_tokens_title, n_tokens_content, n_unique_tokens, n_non_stop_words, n_non_stop_unique_tokens, num_hrefs, num_self_hrefs, num_imgs, num_videos, average_token_length, num_keywords, data_channel_is_lifestyle, data_channel_is_entertainment, data_channel_is_bus, data_channel_is_socmed, data_channel_is_tech, data_channel_is_world, kw_min_min, kw_max_min, kw_avg_min, kw_min_max, kw_max_max, kw_avg_max, kw_min_avg, kw_max_avg, kw_avg_avg, self_reference_min_shares, self_reference_max_shares, self_reference_avg_sharess, weekday_is_monday, weekday_is_tuesday, weekday_is_wednesday, weekday_is_thursday, weekday_is_friday, weekday_is_saturday, weekday_is_sunday, is_weekend, LDA_00, LDA_01, LDA_02, LDA_03, LDA_04, global_subjectivity, global_sentiment_polarity, global_rate_positive_words, global_rate_negative_words, rate_positive_words, rate_negative_words, avg_positive_polarity, min_positive_polarity, max_positive_polarity, avg_negative_polarity, min_negative_polarity, max_negative_polarity, title_subjectivity, title_sentiment_polarity, abs_title_subjectivity, abs_title_sentiment_polarity, shares]\n",
       "Index: []\n",
       "\n",
       "[0 rows x 61 columns]"
      ]
     },
     "execution_count": 9,
     "metadata": {},
     "output_type": "execute_result"
    }
   ],
   "source": [
    "df[df.timedelta.isnull()]"
   ]
  },
  {
   "cell_type": "code",
   "execution_count": 10,
   "metadata": {
    "collapsed": false
   },
   "outputs": [
    {
     "data": {
      "text/plain": [
       "(39644, 61)"
      ]
     },
     "execution_count": 10,
     "metadata": {},
     "output_type": "execute_result"
    }
   ],
   "source": [
    "df.shape"
   ]
  },
  {
   "cell_type": "code",
   "execution_count": 9,
   "metadata": {
    "collapsed": false
   },
   "outputs": [
    {
     "data": {
      "text/html": [
       "<div>\n",
       "<table border=\"1\" class=\"dataframe\">\n",
       "  <thead>\n",
       "    <tr style=\"text-align: right;\">\n",
       "      <th></th>\n",
       "      <th>url</th>\n",
       "      <th>timedelta</th>\n",
       "      <th>n_tokens_title</th>\n",
       "      <th>n_tokens_content</th>\n",
       "      <th>n_unique_tokens</th>\n",
       "      <th>n_non_stop_words</th>\n",
       "      <th>n_non_stop_unique_tokens</th>\n",
       "      <th>num_hrefs</th>\n",
       "      <th>num_self_hrefs</th>\n",
       "      <th>num_imgs</th>\n",
       "      <th>...</th>\n",
       "      <th>min_positive_polarity</th>\n",
       "      <th>max_positive_polarity</th>\n",
       "      <th>avg_negative_polarity</th>\n",
       "      <th>min_negative_polarity</th>\n",
       "      <th>max_negative_polarity</th>\n",
       "      <th>title_subjectivity</th>\n",
       "      <th>title_sentiment_polarity</th>\n",
       "      <th>abs_title_subjectivity</th>\n",
       "      <th>abs_title_sentiment_polarity</th>\n",
       "      <th>shares</th>\n",
       "    </tr>\n",
       "  </thead>\n",
       "  <tbody>\n",
       "    <tr>\n",
       "      <th>0</th>\n",
       "      <td>False</td>\n",
       "      <td>False</td>\n",
       "      <td>False</td>\n",
       "      <td>False</td>\n",
       "      <td>False</td>\n",
       "      <td>False</td>\n",
       "      <td>False</td>\n",
       "      <td>False</td>\n",
       "      <td>False</td>\n",
       "      <td>False</td>\n",
       "      <td>...</td>\n",
       "      <td>False</td>\n",
       "      <td>False</td>\n",
       "      <td>False</td>\n",
       "      <td>False</td>\n",
       "      <td>False</td>\n",
       "      <td>False</td>\n",
       "      <td>False</td>\n",
       "      <td>False</td>\n",
       "      <td>False</td>\n",
       "      <td>False</td>\n",
       "    </tr>\n",
       "    <tr>\n",
       "      <th>1</th>\n",
       "      <td>False</td>\n",
       "      <td>False</td>\n",
       "      <td>False</td>\n",
       "      <td>False</td>\n",
       "      <td>False</td>\n",
       "      <td>False</td>\n",
       "      <td>False</td>\n",
       "      <td>False</td>\n",
       "      <td>False</td>\n",
       "      <td>False</td>\n",
       "      <td>...</td>\n",
       "      <td>False</td>\n",
       "      <td>False</td>\n",
       "      <td>False</td>\n",
       "      <td>False</td>\n",
       "      <td>False</td>\n",
       "      <td>False</td>\n",
       "      <td>False</td>\n",
       "      <td>False</td>\n",
       "      <td>False</td>\n",
       "      <td>False</td>\n",
       "    </tr>\n",
       "    <tr>\n",
       "      <th>2</th>\n",
       "      <td>False</td>\n",
       "      <td>False</td>\n",
       "      <td>False</td>\n",
       "      <td>False</td>\n",
       "      <td>False</td>\n",
       "      <td>False</td>\n",
       "      <td>False</td>\n",
       "      <td>False</td>\n",
       "      <td>False</td>\n",
       "      <td>False</td>\n",
       "      <td>...</td>\n",
       "      <td>False</td>\n",
       "      <td>False</td>\n",
       "      <td>False</td>\n",
       "      <td>False</td>\n",
       "      <td>False</td>\n",
       "      <td>False</td>\n",
       "      <td>False</td>\n",
       "      <td>False</td>\n",
       "      <td>False</td>\n",
       "      <td>False</td>\n",
       "    </tr>\n",
       "    <tr>\n",
       "      <th>3</th>\n",
       "      <td>False</td>\n",
       "      <td>False</td>\n",
       "      <td>False</td>\n",
       "      <td>False</td>\n",
       "      <td>False</td>\n",
       "      <td>False</td>\n",
       "      <td>False</td>\n",
       "      <td>False</td>\n",
       "      <td>False</td>\n",
       "      <td>False</td>\n",
       "      <td>...</td>\n",
       "      <td>False</td>\n",
       "      <td>False</td>\n",
       "      <td>False</td>\n",
       "      <td>False</td>\n",
       "      <td>False</td>\n",
       "      <td>False</td>\n",
       "      <td>False</td>\n",
       "      <td>False</td>\n",
       "      <td>False</td>\n",
       "      <td>False</td>\n",
       "    </tr>\n",
       "    <tr>\n",
       "      <th>4</th>\n",
       "      <td>False</td>\n",
       "      <td>False</td>\n",
       "      <td>False</td>\n",
       "      <td>False</td>\n",
       "      <td>False</td>\n",
       "      <td>False</td>\n",
       "      <td>False</td>\n",
       "      <td>False</td>\n",
       "      <td>False</td>\n",
       "      <td>False</td>\n",
       "      <td>...</td>\n",
       "      <td>False</td>\n",
       "      <td>False</td>\n",
       "      <td>False</td>\n",
       "      <td>False</td>\n",
       "      <td>False</td>\n",
       "      <td>False</td>\n",
       "      <td>False</td>\n",
       "      <td>False</td>\n",
       "      <td>False</td>\n",
       "      <td>False</td>\n",
       "    </tr>\n",
       "    <tr>\n",
       "      <th>5</th>\n",
       "      <td>False</td>\n",
       "      <td>False</td>\n",
       "      <td>False</td>\n",
       "      <td>False</td>\n",
       "      <td>False</td>\n",
       "      <td>False</td>\n",
       "      <td>False</td>\n",
       "      <td>False</td>\n",
       "      <td>False</td>\n",
       "      <td>False</td>\n",
       "      <td>...</td>\n",
       "      <td>False</td>\n",
       "      <td>False</td>\n",
       "      <td>False</td>\n",
       "      <td>False</td>\n",
       "      <td>False</td>\n",
       "      <td>False</td>\n",
       "      <td>False</td>\n",
       "      <td>False</td>\n",
       "      <td>False</td>\n",
       "      <td>False</td>\n",
       "    </tr>\n",
       "    <tr>\n",
       "      <th>6</th>\n",
       "      <td>False</td>\n",
       "      <td>False</td>\n",
       "      <td>False</td>\n",
       "      <td>False</td>\n",
       "      <td>False</td>\n",
       "      <td>False</td>\n",
       "      <td>False</td>\n",
       "      <td>False</td>\n",
       "      <td>False</td>\n",
       "      <td>False</td>\n",
       "      <td>...</td>\n",
       "      <td>False</td>\n",
       "      <td>False</td>\n",
       "      <td>False</td>\n",
       "      <td>False</td>\n",
       "      <td>False</td>\n",
       "      <td>False</td>\n",
       "      <td>False</td>\n",
       "      <td>False</td>\n",
       "      <td>False</td>\n",
       "      <td>False</td>\n",
       "    </tr>\n",
       "    <tr>\n",
       "      <th>7</th>\n",
       "      <td>False</td>\n",
       "      <td>False</td>\n",
       "      <td>False</td>\n",
       "      <td>False</td>\n",
       "      <td>False</td>\n",
       "      <td>False</td>\n",
       "      <td>False</td>\n",
       "      <td>False</td>\n",
       "      <td>False</td>\n",
       "      <td>False</td>\n",
       "      <td>...</td>\n",
       "      <td>False</td>\n",
       "      <td>False</td>\n",
       "      <td>False</td>\n",
       "      <td>False</td>\n",
       "      <td>False</td>\n",
       "      <td>False</td>\n",
       "      <td>False</td>\n",
       "      <td>False</td>\n",
       "      <td>False</td>\n",
       "      <td>False</td>\n",
       "    </tr>\n",
       "    <tr>\n",
       "      <th>8</th>\n",
       "      <td>False</td>\n",
       "      <td>False</td>\n",
       "      <td>False</td>\n",
       "      <td>False</td>\n",
       "      <td>False</td>\n",
       "      <td>False</td>\n",
       "      <td>False</td>\n",
       "      <td>False</td>\n",
       "      <td>False</td>\n",
       "      <td>False</td>\n",
       "      <td>...</td>\n",
       "      <td>False</td>\n",
       "      <td>False</td>\n",
       "      <td>False</td>\n",
       "      <td>False</td>\n",
       "      <td>False</td>\n",
       "      <td>False</td>\n",
       "      <td>False</td>\n",
       "      <td>False</td>\n",
       "      <td>False</td>\n",
       "      <td>False</td>\n",
       "    </tr>\n",
       "    <tr>\n",
       "      <th>9</th>\n",
       "      <td>False</td>\n",
       "      <td>False</td>\n",
       "      <td>False</td>\n",
       "      <td>False</td>\n",
       "      <td>False</td>\n",
       "      <td>False</td>\n",
       "      <td>False</td>\n",
       "      <td>False</td>\n",
       "      <td>False</td>\n",
       "      <td>False</td>\n",
       "      <td>...</td>\n",
       "      <td>False</td>\n",
       "      <td>False</td>\n",
       "      <td>False</td>\n",
       "      <td>False</td>\n",
       "      <td>False</td>\n",
       "      <td>False</td>\n",
       "      <td>False</td>\n",
       "      <td>False</td>\n",
       "      <td>False</td>\n",
       "      <td>False</td>\n",
       "    </tr>\n",
       "    <tr>\n",
       "      <th>10</th>\n",
       "      <td>False</td>\n",
       "      <td>False</td>\n",
       "      <td>False</td>\n",
       "      <td>False</td>\n",
       "      <td>False</td>\n",
       "      <td>False</td>\n",
       "      <td>False</td>\n",
       "      <td>False</td>\n",
       "      <td>False</td>\n",
       "      <td>False</td>\n",
       "      <td>...</td>\n",
       "      <td>False</td>\n",
       "      <td>False</td>\n",
       "      <td>False</td>\n",
       "      <td>False</td>\n",
       "      <td>False</td>\n",
       "      <td>False</td>\n",
       "      <td>False</td>\n",
       "      <td>False</td>\n",
       "      <td>False</td>\n",
       "      <td>False</td>\n",
       "    </tr>\n",
       "    <tr>\n",
       "      <th>11</th>\n",
       "      <td>False</td>\n",
       "      <td>False</td>\n",
       "      <td>False</td>\n",
       "      <td>False</td>\n",
       "      <td>False</td>\n",
       "      <td>False</td>\n",
       "      <td>False</td>\n",
       "      <td>False</td>\n",
       "      <td>False</td>\n",
       "      <td>False</td>\n",
       "      <td>...</td>\n",
       "      <td>False</td>\n",
       "      <td>False</td>\n",
       "      <td>False</td>\n",
       "      <td>False</td>\n",
       "      <td>False</td>\n",
       "      <td>False</td>\n",
       "      <td>False</td>\n",
       "      <td>False</td>\n",
       "      <td>False</td>\n",
       "      <td>False</td>\n",
       "    </tr>\n",
       "    <tr>\n",
       "      <th>12</th>\n",
       "      <td>False</td>\n",
       "      <td>False</td>\n",
       "      <td>False</td>\n",
       "      <td>False</td>\n",
       "      <td>False</td>\n",
       "      <td>False</td>\n",
       "      <td>False</td>\n",
       "      <td>False</td>\n",
       "      <td>False</td>\n",
       "      <td>False</td>\n",
       "      <td>...</td>\n",
       "      <td>False</td>\n",
       "      <td>False</td>\n",
       "      <td>False</td>\n",
       "      <td>False</td>\n",
       "      <td>False</td>\n",
       "      <td>False</td>\n",
       "      <td>False</td>\n",
       "      <td>False</td>\n",
       "      <td>False</td>\n",
       "      <td>False</td>\n",
       "    </tr>\n",
       "    <tr>\n",
       "      <th>13</th>\n",
       "      <td>False</td>\n",
       "      <td>False</td>\n",
       "      <td>False</td>\n",
       "      <td>False</td>\n",
       "      <td>False</td>\n",
       "      <td>False</td>\n",
       "      <td>False</td>\n",
       "      <td>False</td>\n",
       "      <td>False</td>\n",
       "      <td>False</td>\n",
       "      <td>...</td>\n",
       "      <td>False</td>\n",
       "      <td>False</td>\n",
       "      <td>False</td>\n",
       "      <td>False</td>\n",
       "      <td>False</td>\n",
       "      <td>False</td>\n",
       "      <td>False</td>\n",
       "      <td>False</td>\n",
       "      <td>False</td>\n",
       "      <td>False</td>\n",
       "    </tr>\n",
       "    <tr>\n",
       "      <th>14</th>\n",
       "      <td>False</td>\n",
       "      <td>False</td>\n",
       "      <td>False</td>\n",
       "      <td>False</td>\n",
       "      <td>False</td>\n",
       "      <td>False</td>\n",
       "      <td>False</td>\n",
       "      <td>False</td>\n",
       "      <td>False</td>\n",
       "      <td>False</td>\n",
       "      <td>...</td>\n",
       "      <td>False</td>\n",
       "      <td>False</td>\n",
       "      <td>False</td>\n",
       "      <td>False</td>\n",
       "      <td>False</td>\n",
       "      <td>False</td>\n",
       "      <td>False</td>\n",
       "      <td>False</td>\n",
       "      <td>False</td>\n",
       "      <td>False</td>\n",
       "    </tr>\n",
       "    <tr>\n",
       "      <th>15</th>\n",
       "      <td>False</td>\n",
       "      <td>False</td>\n",
       "      <td>False</td>\n",
       "      <td>False</td>\n",
       "      <td>False</td>\n",
       "      <td>False</td>\n",
       "      <td>False</td>\n",
       "      <td>False</td>\n",
       "      <td>False</td>\n",
       "      <td>False</td>\n",
       "      <td>...</td>\n",
       "      <td>False</td>\n",
       "      <td>False</td>\n",
       "      <td>False</td>\n",
       "      <td>False</td>\n",
       "      <td>False</td>\n",
       "      <td>False</td>\n",
       "      <td>False</td>\n",
       "      <td>False</td>\n",
       "      <td>False</td>\n",
       "      <td>False</td>\n",
       "    </tr>\n",
       "    <tr>\n",
       "      <th>16</th>\n",
       "      <td>False</td>\n",
       "      <td>False</td>\n",
       "      <td>False</td>\n",
       "      <td>False</td>\n",
       "      <td>False</td>\n",
       "      <td>False</td>\n",
       "      <td>False</td>\n",
       "      <td>False</td>\n",
       "      <td>False</td>\n",
       "      <td>False</td>\n",
       "      <td>...</td>\n",
       "      <td>False</td>\n",
       "      <td>False</td>\n",
       "      <td>False</td>\n",
       "      <td>False</td>\n",
       "      <td>False</td>\n",
       "      <td>False</td>\n",
       "      <td>False</td>\n",
       "      <td>False</td>\n",
       "      <td>False</td>\n",
       "      <td>False</td>\n",
       "    </tr>\n",
       "    <tr>\n",
       "      <th>17</th>\n",
       "      <td>False</td>\n",
       "      <td>False</td>\n",
       "      <td>False</td>\n",
       "      <td>False</td>\n",
       "      <td>False</td>\n",
       "      <td>False</td>\n",
       "      <td>False</td>\n",
       "      <td>False</td>\n",
       "      <td>False</td>\n",
       "      <td>False</td>\n",
       "      <td>...</td>\n",
       "      <td>False</td>\n",
       "      <td>False</td>\n",
       "      <td>False</td>\n",
       "      <td>False</td>\n",
       "      <td>False</td>\n",
       "      <td>False</td>\n",
       "      <td>False</td>\n",
       "      <td>False</td>\n",
       "      <td>False</td>\n",
       "      <td>False</td>\n",
       "    </tr>\n",
       "    <tr>\n",
       "      <th>18</th>\n",
       "      <td>False</td>\n",
       "      <td>False</td>\n",
       "      <td>False</td>\n",
       "      <td>False</td>\n",
       "      <td>False</td>\n",
       "      <td>False</td>\n",
       "      <td>False</td>\n",
       "      <td>False</td>\n",
       "      <td>False</td>\n",
       "      <td>False</td>\n",
       "      <td>...</td>\n",
       "      <td>False</td>\n",
       "      <td>False</td>\n",
       "      <td>False</td>\n",
       "      <td>False</td>\n",
       "      <td>False</td>\n",
       "      <td>False</td>\n",
       "      <td>False</td>\n",
       "      <td>False</td>\n",
       "      <td>False</td>\n",
       "      <td>False</td>\n",
       "    </tr>\n",
       "    <tr>\n",
       "      <th>19</th>\n",
       "      <td>False</td>\n",
       "      <td>False</td>\n",
       "      <td>False</td>\n",
       "      <td>False</td>\n",
       "      <td>False</td>\n",
       "      <td>False</td>\n",
       "      <td>False</td>\n",
       "      <td>False</td>\n",
       "      <td>False</td>\n",
       "      <td>False</td>\n",
       "      <td>...</td>\n",
       "      <td>False</td>\n",
       "      <td>False</td>\n",
       "      <td>False</td>\n",
       "      <td>False</td>\n",
       "      <td>False</td>\n",
       "      <td>False</td>\n",
       "      <td>False</td>\n",
       "      <td>False</td>\n",
       "      <td>False</td>\n",
       "      <td>False</td>\n",
       "    </tr>\n",
       "    <tr>\n",
       "      <th>20</th>\n",
       "      <td>False</td>\n",
       "      <td>False</td>\n",
       "      <td>False</td>\n",
       "      <td>False</td>\n",
       "      <td>False</td>\n",
       "      <td>False</td>\n",
       "      <td>False</td>\n",
       "      <td>False</td>\n",
       "      <td>False</td>\n",
       "      <td>False</td>\n",
       "      <td>...</td>\n",
       "      <td>False</td>\n",
       "      <td>False</td>\n",
       "      <td>False</td>\n",
       "      <td>False</td>\n",
       "      <td>False</td>\n",
       "      <td>False</td>\n",
       "      <td>False</td>\n",
       "      <td>False</td>\n",
       "      <td>False</td>\n",
       "      <td>False</td>\n",
       "    </tr>\n",
       "    <tr>\n",
       "      <th>21</th>\n",
       "      <td>False</td>\n",
       "      <td>False</td>\n",
       "      <td>False</td>\n",
       "      <td>False</td>\n",
       "      <td>False</td>\n",
       "      <td>False</td>\n",
       "      <td>False</td>\n",
       "      <td>False</td>\n",
       "      <td>False</td>\n",
       "      <td>False</td>\n",
       "      <td>...</td>\n",
       "      <td>False</td>\n",
       "      <td>False</td>\n",
       "      <td>False</td>\n",
       "      <td>False</td>\n",
       "      <td>False</td>\n",
       "      <td>False</td>\n",
       "      <td>False</td>\n",
       "      <td>False</td>\n",
       "      <td>False</td>\n",
       "      <td>False</td>\n",
       "    </tr>\n",
       "    <tr>\n",
       "      <th>22</th>\n",
       "      <td>False</td>\n",
       "      <td>False</td>\n",
       "      <td>False</td>\n",
       "      <td>False</td>\n",
       "      <td>False</td>\n",
       "      <td>False</td>\n",
       "      <td>False</td>\n",
       "      <td>False</td>\n",
       "      <td>False</td>\n",
       "      <td>False</td>\n",
       "      <td>...</td>\n",
       "      <td>False</td>\n",
       "      <td>False</td>\n",
       "      <td>False</td>\n",
       "      <td>False</td>\n",
       "      <td>False</td>\n",
       "      <td>False</td>\n",
       "      <td>False</td>\n",
       "      <td>False</td>\n",
       "      <td>False</td>\n",
       "      <td>False</td>\n",
       "    </tr>\n",
       "    <tr>\n",
       "      <th>23</th>\n",
       "      <td>False</td>\n",
       "      <td>False</td>\n",
       "      <td>False</td>\n",
       "      <td>False</td>\n",
       "      <td>False</td>\n",
       "      <td>False</td>\n",
       "      <td>False</td>\n",
       "      <td>False</td>\n",
       "      <td>False</td>\n",
       "      <td>False</td>\n",
       "      <td>...</td>\n",
       "      <td>False</td>\n",
       "      <td>False</td>\n",
       "      <td>False</td>\n",
       "      <td>False</td>\n",
       "      <td>False</td>\n",
       "      <td>False</td>\n",
       "      <td>False</td>\n",
       "      <td>False</td>\n",
       "      <td>False</td>\n",
       "      <td>False</td>\n",
       "    </tr>\n",
       "    <tr>\n",
       "      <th>24</th>\n",
       "      <td>False</td>\n",
       "      <td>False</td>\n",
       "      <td>False</td>\n",
       "      <td>False</td>\n",
       "      <td>False</td>\n",
       "      <td>False</td>\n",
       "      <td>False</td>\n",
       "      <td>False</td>\n",
       "      <td>False</td>\n",
       "      <td>False</td>\n",
       "      <td>...</td>\n",
       "      <td>False</td>\n",
       "      <td>False</td>\n",
       "      <td>False</td>\n",
       "      <td>False</td>\n",
       "      <td>False</td>\n",
       "      <td>False</td>\n",
       "      <td>False</td>\n",
       "      <td>False</td>\n",
       "      <td>False</td>\n",
       "      <td>False</td>\n",
       "    </tr>\n",
       "    <tr>\n",
       "      <th>25</th>\n",
       "      <td>False</td>\n",
       "      <td>False</td>\n",
       "      <td>False</td>\n",
       "      <td>False</td>\n",
       "      <td>False</td>\n",
       "      <td>False</td>\n",
       "      <td>False</td>\n",
       "      <td>False</td>\n",
       "      <td>False</td>\n",
       "      <td>False</td>\n",
       "      <td>...</td>\n",
       "      <td>False</td>\n",
       "      <td>False</td>\n",
       "      <td>False</td>\n",
       "      <td>False</td>\n",
       "      <td>False</td>\n",
       "      <td>False</td>\n",
       "      <td>False</td>\n",
       "      <td>False</td>\n",
       "      <td>False</td>\n",
       "      <td>False</td>\n",
       "    </tr>\n",
       "    <tr>\n",
       "      <th>26</th>\n",
       "      <td>False</td>\n",
       "      <td>False</td>\n",
       "      <td>False</td>\n",
       "      <td>False</td>\n",
       "      <td>False</td>\n",
       "      <td>False</td>\n",
       "      <td>False</td>\n",
       "      <td>False</td>\n",
       "      <td>False</td>\n",
       "      <td>False</td>\n",
       "      <td>...</td>\n",
       "      <td>False</td>\n",
       "      <td>False</td>\n",
       "      <td>False</td>\n",
       "      <td>False</td>\n",
       "      <td>False</td>\n",
       "      <td>False</td>\n",
       "      <td>False</td>\n",
       "      <td>False</td>\n",
       "      <td>False</td>\n",
       "      <td>False</td>\n",
       "    </tr>\n",
       "    <tr>\n",
       "      <th>27</th>\n",
       "      <td>False</td>\n",
       "      <td>False</td>\n",
       "      <td>False</td>\n",
       "      <td>False</td>\n",
       "      <td>False</td>\n",
       "      <td>False</td>\n",
       "      <td>False</td>\n",
       "      <td>False</td>\n",
       "      <td>False</td>\n",
       "      <td>False</td>\n",
       "      <td>...</td>\n",
       "      <td>False</td>\n",
       "      <td>False</td>\n",
       "      <td>False</td>\n",
       "      <td>False</td>\n",
       "      <td>False</td>\n",
       "      <td>False</td>\n",
       "      <td>False</td>\n",
       "      <td>False</td>\n",
       "      <td>False</td>\n",
       "      <td>False</td>\n",
       "    </tr>\n",
       "    <tr>\n",
       "      <th>28</th>\n",
       "      <td>False</td>\n",
       "      <td>False</td>\n",
       "      <td>False</td>\n",
       "      <td>False</td>\n",
       "      <td>False</td>\n",
       "      <td>False</td>\n",
       "      <td>False</td>\n",
       "      <td>False</td>\n",
       "      <td>False</td>\n",
       "      <td>False</td>\n",
       "      <td>...</td>\n",
       "      <td>False</td>\n",
       "      <td>False</td>\n",
       "      <td>False</td>\n",
       "      <td>False</td>\n",
       "      <td>False</td>\n",
       "      <td>False</td>\n",
       "      <td>False</td>\n",
       "      <td>False</td>\n",
       "      <td>False</td>\n",
       "      <td>False</td>\n",
       "    </tr>\n",
       "    <tr>\n",
       "      <th>29</th>\n",
       "      <td>False</td>\n",
       "      <td>False</td>\n",
       "      <td>False</td>\n",
       "      <td>False</td>\n",
       "      <td>False</td>\n",
       "      <td>False</td>\n",
       "      <td>False</td>\n",
       "      <td>False</td>\n",
       "      <td>False</td>\n",
       "      <td>False</td>\n",
       "      <td>...</td>\n",
       "      <td>False</td>\n",
       "      <td>False</td>\n",
       "      <td>False</td>\n",
       "      <td>False</td>\n",
       "      <td>False</td>\n",
       "      <td>False</td>\n",
       "      <td>False</td>\n",
       "      <td>False</td>\n",
       "      <td>False</td>\n",
       "      <td>False</td>\n",
       "    </tr>\n",
       "    <tr>\n",
       "      <th>...</th>\n",
       "      <td>...</td>\n",
       "      <td>...</td>\n",
       "      <td>...</td>\n",
       "      <td>...</td>\n",
       "      <td>...</td>\n",
       "      <td>...</td>\n",
       "      <td>...</td>\n",
       "      <td>...</td>\n",
       "      <td>...</td>\n",
       "      <td>...</td>\n",
       "      <td>...</td>\n",
       "      <td>...</td>\n",
       "      <td>...</td>\n",
       "      <td>...</td>\n",
       "      <td>...</td>\n",
       "      <td>...</td>\n",
       "      <td>...</td>\n",
       "      <td>...</td>\n",
       "      <td>...</td>\n",
       "      <td>...</td>\n",
       "      <td>...</td>\n",
       "    </tr>\n",
       "    <tr>\n",
       "      <th>39614</th>\n",
       "      <td>False</td>\n",
       "      <td>False</td>\n",
       "      <td>False</td>\n",
       "      <td>False</td>\n",
       "      <td>False</td>\n",
       "      <td>False</td>\n",
       "      <td>False</td>\n",
       "      <td>False</td>\n",
       "      <td>False</td>\n",
       "      <td>False</td>\n",
       "      <td>...</td>\n",
       "      <td>False</td>\n",
       "      <td>False</td>\n",
       "      <td>False</td>\n",
       "      <td>False</td>\n",
       "      <td>False</td>\n",
       "      <td>False</td>\n",
       "      <td>False</td>\n",
       "      <td>False</td>\n",
       "      <td>False</td>\n",
       "      <td>False</td>\n",
       "    </tr>\n",
       "    <tr>\n",
       "      <th>39615</th>\n",
       "      <td>False</td>\n",
       "      <td>False</td>\n",
       "      <td>False</td>\n",
       "      <td>False</td>\n",
       "      <td>False</td>\n",
       "      <td>False</td>\n",
       "      <td>False</td>\n",
       "      <td>False</td>\n",
       "      <td>False</td>\n",
       "      <td>False</td>\n",
       "      <td>...</td>\n",
       "      <td>False</td>\n",
       "      <td>False</td>\n",
       "      <td>False</td>\n",
       "      <td>False</td>\n",
       "      <td>False</td>\n",
       "      <td>False</td>\n",
       "      <td>False</td>\n",
       "      <td>False</td>\n",
       "      <td>False</td>\n",
       "      <td>False</td>\n",
       "    </tr>\n",
       "    <tr>\n",
       "      <th>39616</th>\n",
       "      <td>False</td>\n",
       "      <td>False</td>\n",
       "      <td>False</td>\n",
       "      <td>False</td>\n",
       "      <td>False</td>\n",
       "      <td>False</td>\n",
       "      <td>False</td>\n",
       "      <td>False</td>\n",
       "      <td>False</td>\n",
       "      <td>False</td>\n",
       "      <td>...</td>\n",
       "      <td>False</td>\n",
       "      <td>False</td>\n",
       "      <td>False</td>\n",
       "      <td>False</td>\n",
       "      <td>False</td>\n",
       "      <td>False</td>\n",
       "      <td>False</td>\n",
       "      <td>False</td>\n",
       "      <td>False</td>\n",
       "      <td>False</td>\n",
       "    </tr>\n",
       "    <tr>\n",
       "      <th>39617</th>\n",
       "      <td>False</td>\n",
       "      <td>False</td>\n",
       "      <td>False</td>\n",
       "      <td>False</td>\n",
       "      <td>False</td>\n",
       "      <td>False</td>\n",
       "      <td>False</td>\n",
       "      <td>False</td>\n",
       "      <td>False</td>\n",
       "      <td>False</td>\n",
       "      <td>...</td>\n",
       "      <td>False</td>\n",
       "      <td>False</td>\n",
       "      <td>False</td>\n",
       "      <td>False</td>\n",
       "      <td>False</td>\n",
       "      <td>False</td>\n",
       "      <td>False</td>\n",
       "      <td>False</td>\n",
       "      <td>False</td>\n",
       "      <td>False</td>\n",
       "    </tr>\n",
       "    <tr>\n",
       "      <th>39618</th>\n",
       "      <td>False</td>\n",
       "      <td>False</td>\n",
       "      <td>False</td>\n",
       "      <td>False</td>\n",
       "      <td>False</td>\n",
       "      <td>False</td>\n",
       "      <td>False</td>\n",
       "      <td>False</td>\n",
       "      <td>False</td>\n",
       "      <td>False</td>\n",
       "      <td>...</td>\n",
       "      <td>False</td>\n",
       "      <td>False</td>\n",
       "      <td>False</td>\n",
       "      <td>False</td>\n",
       "      <td>False</td>\n",
       "      <td>False</td>\n",
       "      <td>False</td>\n",
       "      <td>False</td>\n",
       "      <td>False</td>\n",
       "      <td>False</td>\n",
       "    </tr>\n",
       "    <tr>\n",
       "      <th>39619</th>\n",
       "      <td>False</td>\n",
       "      <td>False</td>\n",
       "      <td>False</td>\n",
       "      <td>False</td>\n",
       "      <td>False</td>\n",
       "      <td>False</td>\n",
       "      <td>False</td>\n",
       "      <td>False</td>\n",
       "      <td>False</td>\n",
       "      <td>False</td>\n",
       "      <td>...</td>\n",
       "      <td>False</td>\n",
       "      <td>False</td>\n",
       "      <td>False</td>\n",
       "      <td>False</td>\n",
       "      <td>False</td>\n",
       "      <td>False</td>\n",
       "      <td>False</td>\n",
       "      <td>False</td>\n",
       "      <td>False</td>\n",
       "      <td>False</td>\n",
       "    </tr>\n",
       "    <tr>\n",
       "      <th>39620</th>\n",
       "      <td>False</td>\n",
       "      <td>False</td>\n",
       "      <td>False</td>\n",
       "      <td>False</td>\n",
       "      <td>False</td>\n",
       "      <td>False</td>\n",
       "      <td>False</td>\n",
       "      <td>False</td>\n",
       "      <td>False</td>\n",
       "      <td>False</td>\n",
       "      <td>...</td>\n",
       "      <td>False</td>\n",
       "      <td>False</td>\n",
       "      <td>False</td>\n",
       "      <td>False</td>\n",
       "      <td>False</td>\n",
       "      <td>False</td>\n",
       "      <td>False</td>\n",
       "      <td>False</td>\n",
       "      <td>False</td>\n",
       "      <td>False</td>\n",
       "    </tr>\n",
       "    <tr>\n",
       "      <th>39621</th>\n",
       "      <td>False</td>\n",
       "      <td>False</td>\n",
       "      <td>False</td>\n",
       "      <td>False</td>\n",
       "      <td>False</td>\n",
       "      <td>False</td>\n",
       "      <td>False</td>\n",
       "      <td>False</td>\n",
       "      <td>False</td>\n",
       "      <td>False</td>\n",
       "      <td>...</td>\n",
       "      <td>False</td>\n",
       "      <td>False</td>\n",
       "      <td>False</td>\n",
       "      <td>False</td>\n",
       "      <td>False</td>\n",
       "      <td>False</td>\n",
       "      <td>False</td>\n",
       "      <td>False</td>\n",
       "      <td>False</td>\n",
       "      <td>False</td>\n",
       "    </tr>\n",
       "    <tr>\n",
       "      <th>39622</th>\n",
       "      <td>False</td>\n",
       "      <td>False</td>\n",
       "      <td>False</td>\n",
       "      <td>False</td>\n",
       "      <td>False</td>\n",
       "      <td>False</td>\n",
       "      <td>False</td>\n",
       "      <td>False</td>\n",
       "      <td>False</td>\n",
       "      <td>False</td>\n",
       "      <td>...</td>\n",
       "      <td>False</td>\n",
       "      <td>False</td>\n",
       "      <td>False</td>\n",
       "      <td>False</td>\n",
       "      <td>False</td>\n",
       "      <td>False</td>\n",
       "      <td>False</td>\n",
       "      <td>False</td>\n",
       "      <td>False</td>\n",
       "      <td>False</td>\n",
       "    </tr>\n",
       "    <tr>\n",
       "      <th>39623</th>\n",
       "      <td>False</td>\n",
       "      <td>False</td>\n",
       "      <td>False</td>\n",
       "      <td>False</td>\n",
       "      <td>False</td>\n",
       "      <td>False</td>\n",
       "      <td>False</td>\n",
       "      <td>False</td>\n",
       "      <td>False</td>\n",
       "      <td>False</td>\n",
       "      <td>...</td>\n",
       "      <td>False</td>\n",
       "      <td>False</td>\n",
       "      <td>False</td>\n",
       "      <td>False</td>\n",
       "      <td>False</td>\n",
       "      <td>False</td>\n",
       "      <td>False</td>\n",
       "      <td>False</td>\n",
       "      <td>False</td>\n",
       "      <td>False</td>\n",
       "    </tr>\n",
       "    <tr>\n",
       "      <th>39624</th>\n",
       "      <td>False</td>\n",
       "      <td>False</td>\n",
       "      <td>False</td>\n",
       "      <td>False</td>\n",
       "      <td>False</td>\n",
       "      <td>False</td>\n",
       "      <td>False</td>\n",
       "      <td>False</td>\n",
       "      <td>False</td>\n",
       "      <td>False</td>\n",
       "      <td>...</td>\n",
       "      <td>False</td>\n",
       "      <td>False</td>\n",
       "      <td>False</td>\n",
       "      <td>False</td>\n",
       "      <td>False</td>\n",
       "      <td>False</td>\n",
       "      <td>False</td>\n",
       "      <td>False</td>\n",
       "      <td>False</td>\n",
       "      <td>False</td>\n",
       "    </tr>\n",
       "    <tr>\n",
       "      <th>39625</th>\n",
       "      <td>False</td>\n",
       "      <td>False</td>\n",
       "      <td>False</td>\n",
       "      <td>False</td>\n",
       "      <td>False</td>\n",
       "      <td>False</td>\n",
       "      <td>False</td>\n",
       "      <td>False</td>\n",
       "      <td>False</td>\n",
       "      <td>False</td>\n",
       "      <td>...</td>\n",
       "      <td>False</td>\n",
       "      <td>False</td>\n",
       "      <td>False</td>\n",
       "      <td>False</td>\n",
       "      <td>False</td>\n",
       "      <td>False</td>\n",
       "      <td>False</td>\n",
       "      <td>False</td>\n",
       "      <td>False</td>\n",
       "      <td>False</td>\n",
       "    </tr>\n",
       "    <tr>\n",
       "      <th>39626</th>\n",
       "      <td>False</td>\n",
       "      <td>False</td>\n",
       "      <td>False</td>\n",
       "      <td>False</td>\n",
       "      <td>False</td>\n",
       "      <td>False</td>\n",
       "      <td>False</td>\n",
       "      <td>False</td>\n",
       "      <td>False</td>\n",
       "      <td>False</td>\n",
       "      <td>...</td>\n",
       "      <td>False</td>\n",
       "      <td>False</td>\n",
       "      <td>False</td>\n",
       "      <td>False</td>\n",
       "      <td>False</td>\n",
       "      <td>False</td>\n",
       "      <td>False</td>\n",
       "      <td>False</td>\n",
       "      <td>False</td>\n",
       "      <td>False</td>\n",
       "    </tr>\n",
       "    <tr>\n",
       "      <th>39627</th>\n",
       "      <td>False</td>\n",
       "      <td>False</td>\n",
       "      <td>False</td>\n",
       "      <td>False</td>\n",
       "      <td>False</td>\n",
       "      <td>False</td>\n",
       "      <td>False</td>\n",
       "      <td>False</td>\n",
       "      <td>False</td>\n",
       "      <td>False</td>\n",
       "      <td>...</td>\n",
       "      <td>False</td>\n",
       "      <td>False</td>\n",
       "      <td>False</td>\n",
       "      <td>False</td>\n",
       "      <td>False</td>\n",
       "      <td>False</td>\n",
       "      <td>False</td>\n",
       "      <td>False</td>\n",
       "      <td>False</td>\n",
       "      <td>False</td>\n",
       "    </tr>\n",
       "    <tr>\n",
       "      <th>39628</th>\n",
       "      <td>False</td>\n",
       "      <td>False</td>\n",
       "      <td>False</td>\n",
       "      <td>False</td>\n",
       "      <td>False</td>\n",
       "      <td>False</td>\n",
       "      <td>False</td>\n",
       "      <td>False</td>\n",
       "      <td>False</td>\n",
       "      <td>False</td>\n",
       "      <td>...</td>\n",
       "      <td>False</td>\n",
       "      <td>False</td>\n",
       "      <td>False</td>\n",
       "      <td>False</td>\n",
       "      <td>False</td>\n",
       "      <td>False</td>\n",
       "      <td>False</td>\n",
       "      <td>False</td>\n",
       "      <td>False</td>\n",
       "      <td>False</td>\n",
       "    </tr>\n",
       "    <tr>\n",
       "      <th>39629</th>\n",
       "      <td>False</td>\n",
       "      <td>False</td>\n",
       "      <td>False</td>\n",
       "      <td>False</td>\n",
       "      <td>False</td>\n",
       "      <td>False</td>\n",
       "      <td>False</td>\n",
       "      <td>False</td>\n",
       "      <td>False</td>\n",
       "      <td>False</td>\n",
       "      <td>...</td>\n",
       "      <td>False</td>\n",
       "      <td>False</td>\n",
       "      <td>False</td>\n",
       "      <td>False</td>\n",
       "      <td>False</td>\n",
       "      <td>False</td>\n",
       "      <td>False</td>\n",
       "      <td>False</td>\n",
       "      <td>False</td>\n",
       "      <td>False</td>\n",
       "    </tr>\n",
       "    <tr>\n",
       "      <th>39630</th>\n",
       "      <td>False</td>\n",
       "      <td>False</td>\n",
       "      <td>False</td>\n",
       "      <td>False</td>\n",
       "      <td>False</td>\n",
       "      <td>False</td>\n",
       "      <td>False</td>\n",
       "      <td>False</td>\n",
       "      <td>False</td>\n",
       "      <td>False</td>\n",
       "      <td>...</td>\n",
       "      <td>False</td>\n",
       "      <td>False</td>\n",
       "      <td>False</td>\n",
       "      <td>False</td>\n",
       "      <td>False</td>\n",
       "      <td>False</td>\n",
       "      <td>False</td>\n",
       "      <td>False</td>\n",
       "      <td>False</td>\n",
       "      <td>False</td>\n",
       "    </tr>\n",
       "    <tr>\n",
       "      <th>39631</th>\n",
       "      <td>False</td>\n",
       "      <td>False</td>\n",
       "      <td>False</td>\n",
       "      <td>False</td>\n",
       "      <td>False</td>\n",
       "      <td>False</td>\n",
       "      <td>False</td>\n",
       "      <td>False</td>\n",
       "      <td>False</td>\n",
       "      <td>False</td>\n",
       "      <td>...</td>\n",
       "      <td>False</td>\n",
       "      <td>False</td>\n",
       "      <td>False</td>\n",
       "      <td>False</td>\n",
       "      <td>False</td>\n",
       "      <td>False</td>\n",
       "      <td>False</td>\n",
       "      <td>False</td>\n",
       "      <td>False</td>\n",
       "      <td>False</td>\n",
       "    </tr>\n",
       "    <tr>\n",
       "      <th>39632</th>\n",
       "      <td>False</td>\n",
       "      <td>False</td>\n",
       "      <td>False</td>\n",
       "      <td>False</td>\n",
       "      <td>False</td>\n",
       "      <td>False</td>\n",
       "      <td>False</td>\n",
       "      <td>False</td>\n",
       "      <td>False</td>\n",
       "      <td>False</td>\n",
       "      <td>...</td>\n",
       "      <td>False</td>\n",
       "      <td>False</td>\n",
       "      <td>False</td>\n",
       "      <td>False</td>\n",
       "      <td>False</td>\n",
       "      <td>False</td>\n",
       "      <td>False</td>\n",
       "      <td>False</td>\n",
       "      <td>False</td>\n",
       "      <td>False</td>\n",
       "    </tr>\n",
       "    <tr>\n",
       "      <th>39633</th>\n",
       "      <td>False</td>\n",
       "      <td>False</td>\n",
       "      <td>False</td>\n",
       "      <td>False</td>\n",
       "      <td>False</td>\n",
       "      <td>False</td>\n",
       "      <td>False</td>\n",
       "      <td>False</td>\n",
       "      <td>False</td>\n",
       "      <td>False</td>\n",
       "      <td>...</td>\n",
       "      <td>False</td>\n",
       "      <td>False</td>\n",
       "      <td>False</td>\n",
       "      <td>False</td>\n",
       "      <td>False</td>\n",
       "      <td>False</td>\n",
       "      <td>False</td>\n",
       "      <td>False</td>\n",
       "      <td>False</td>\n",
       "      <td>False</td>\n",
       "    </tr>\n",
       "    <tr>\n",
       "      <th>39634</th>\n",
       "      <td>False</td>\n",
       "      <td>False</td>\n",
       "      <td>False</td>\n",
       "      <td>False</td>\n",
       "      <td>False</td>\n",
       "      <td>False</td>\n",
       "      <td>False</td>\n",
       "      <td>False</td>\n",
       "      <td>False</td>\n",
       "      <td>False</td>\n",
       "      <td>...</td>\n",
       "      <td>False</td>\n",
       "      <td>False</td>\n",
       "      <td>False</td>\n",
       "      <td>False</td>\n",
       "      <td>False</td>\n",
       "      <td>False</td>\n",
       "      <td>False</td>\n",
       "      <td>False</td>\n",
       "      <td>False</td>\n",
       "      <td>False</td>\n",
       "    </tr>\n",
       "    <tr>\n",
       "      <th>39635</th>\n",
       "      <td>False</td>\n",
       "      <td>False</td>\n",
       "      <td>False</td>\n",
       "      <td>False</td>\n",
       "      <td>False</td>\n",
       "      <td>False</td>\n",
       "      <td>False</td>\n",
       "      <td>False</td>\n",
       "      <td>False</td>\n",
       "      <td>False</td>\n",
       "      <td>...</td>\n",
       "      <td>False</td>\n",
       "      <td>False</td>\n",
       "      <td>False</td>\n",
       "      <td>False</td>\n",
       "      <td>False</td>\n",
       "      <td>False</td>\n",
       "      <td>False</td>\n",
       "      <td>False</td>\n",
       "      <td>False</td>\n",
       "      <td>False</td>\n",
       "    </tr>\n",
       "    <tr>\n",
       "      <th>39636</th>\n",
       "      <td>False</td>\n",
       "      <td>False</td>\n",
       "      <td>False</td>\n",
       "      <td>False</td>\n",
       "      <td>False</td>\n",
       "      <td>False</td>\n",
       "      <td>False</td>\n",
       "      <td>False</td>\n",
       "      <td>False</td>\n",
       "      <td>False</td>\n",
       "      <td>...</td>\n",
       "      <td>False</td>\n",
       "      <td>False</td>\n",
       "      <td>False</td>\n",
       "      <td>False</td>\n",
       "      <td>False</td>\n",
       "      <td>False</td>\n",
       "      <td>False</td>\n",
       "      <td>False</td>\n",
       "      <td>False</td>\n",
       "      <td>False</td>\n",
       "    </tr>\n",
       "    <tr>\n",
       "      <th>39637</th>\n",
       "      <td>False</td>\n",
       "      <td>False</td>\n",
       "      <td>False</td>\n",
       "      <td>False</td>\n",
       "      <td>False</td>\n",
       "      <td>False</td>\n",
       "      <td>False</td>\n",
       "      <td>False</td>\n",
       "      <td>False</td>\n",
       "      <td>False</td>\n",
       "      <td>...</td>\n",
       "      <td>False</td>\n",
       "      <td>False</td>\n",
       "      <td>False</td>\n",
       "      <td>False</td>\n",
       "      <td>False</td>\n",
       "      <td>False</td>\n",
       "      <td>False</td>\n",
       "      <td>False</td>\n",
       "      <td>False</td>\n",
       "      <td>False</td>\n",
       "    </tr>\n",
       "    <tr>\n",
       "      <th>39638</th>\n",
       "      <td>False</td>\n",
       "      <td>False</td>\n",
       "      <td>False</td>\n",
       "      <td>False</td>\n",
       "      <td>False</td>\n",
       "      <td>False</td>\n",
       "      <td>False</td>\n",
       "      <td>False</td>\n",
       "      <td>False</td>\n",
       "      <td>False</td>\n",
       "      <td>...</td>\n",
       "      <td>False</td>\n",
       "      <td>False</td>\n",
       "      <td>False</td>\n",
       "      <td>False</td>\n",
       "      <td>False</td>\n",
       "      <td>False</td>\n",
       "      <td>False</td>\n",
       "      <td>False</td>\n",
       "      <td>False</td>\n",
       "      <td>False</td>\n",
       "    </tr>\n",
       "    <tr>\n",
       "      <th>39639</th>\n",
       "      <td>False</td>\n",
       "      <td>False</td>\n",
       "      <td>False</td>\n",
       "      <td>False</td>\n",
       "      <td>False</td>\n",
       "      <td>False</td>\n",
       "      <td>False</td>\n",
       "      <td>False</td>\n",
       "      <td>False</td>\n",
       "      <td>False</td>\n",
       "      <td>...</td>\n",
       "      <td>False</td>\n",
       "      <td>False</td>\n",
       "      <td>False</td>\n",
       "      <td>False</td>\n",
       "      <td>False</td>\n",
       "      <td>False</td>\n",
       "      <td>False</td>\n",
       "      <td>False</td>\n",
       "      <td>False</td>\n",
       "      <td>False</td>\n",
       "    </tr>\n",
       "    <tr>\n",
       "      <th>39640</th>\n",
       "      <td>False</td>\n",
       "      <td>False</td>\n",
       "      <td>False</td>\n",
       "      <td>False</td>\n",
       "      <td>False</td>\n",
       "      <td>False</td>\n",
       "      <td>False</td>\n",
       "      <td>False</td>\n",
       "      <td>False</td>\n",
       "      <td>False</td>\n",
       "      <td>...</td>\n",
       "      <td>False</td>\n",
       "      <td>False</td>\n",
       "      <td>False</td>\n",
       "      <td>False</td>\n",
       "      <td>False</td>\n",
       "      <td>False</td>\n",
       "      <td>False</td>\n",
       "      <td>False</td>\n",
       "      <td>False</td>\n",
       "      <td>False</td>\n",
       "    </tr>\n",
       "    <tr>\n",
       "      <th>39641</th>\n",
       "      <td>False</td>\n",
       "      <td>False</td>\n",
       "      <td>False</td>\n",
       "      <td>False</td>\n",
       "      <td>False</td>\n",
       "      <td>False</td>\n",
       "      <td>False</td>\n",
       "      <td>False</td>\n",
       "      <td>False</td>\n",
       "      <td>False</td>\n",
       "      <td>...</td>\n",
       "      <td>False</td>\n",
       "      <td>False</td>\n",
       "      <td>False</td>\n",
       "      <td>False</td>\n",
       "      <td>False</td>\n",
       "      <td>False</td>\n",
       "      <td>False</td>\n",
       "      <td>False</td>\n",
       "      <td>False</td>\n",
       "      <td>False</td>\n",
       "    </tr>\n",
       "    <tr>\n",
       "      <th>39642</th>\n",
       "      <td>False</td>\n",
       "      <td>False</td>\n",
       "      <td>False</td>\n",
       "      <td>False</td>\n",
       "      <td>False</td>\n",
       "      <td>False</td>\n",
       "      <td>False</td>\n",
       "      <td>False</td>\n",
       "      <td>False</td>\n",
       "      <td>False</td>\n",
       "      <td>...</td>\n",
       "      <td>False</td>\n",
       "      <td>False</td>\n",
       "      <td>False</td>\n",
       "      <td>False</td>\n",
       "      <td>False</td>\n",
       "      <td>False</td>\n",
       "      <td>False</td>\n",
       "      <td>False</td>\n",
       "      <td>False</td>\n",
       "      <td>False</td>\n",
       "    </tr>\n",
       "    <tr>\n",
       "      <th>39643</th>\n",
       "      <td>False</td>\n",
       "      <td>False</td>\n",
       "      <td>False</td>\n",
       "      <td>False</td>\n",
       "      <td>False</td>\n",
       "      <td>False</td>\n",
       "      <td>False</td>\n",
       "      <td>False</td>\n",
       "      <td>False</td>\n",
       "      <td>False</td>\n",
       "      <td>...</td>\n",
       "      <td>False</td>\n",
       "      <td>False</td>\n",
       "      <td>False</td>\n",
       "      <td>False</td>\n",
       "      <td>False</td>\n",
       "      <td>False</td>\n",
       "      <td>False</td>\n",
       "      <td>False</td>\n",
       "      <td>False</td>\n",
       "      <td>False</td>\n",
       "    </tr>\n",
       "  </tbody>\n",
       "</table>\n",
       "<p>39644 rows × 61 columns</p>\n",
       "</div>"
      ],
      "text/plain": [
       "         url timedelta n_tokens_title n_tokens_content n_unique_tokens  \\\n",
       "0      False     False          False            False           False   \n",
       "1      False     False          False            False           False   \n",
       "2      False     False          False            False           False   \n",
       "3      False     False          False            False           False   \n",
       "4      False     False          False            False           False   \n",
       "5      False     False          False            False           False   \n",
       "6      False     False          False            False           False   \n",
       "7      False     False          False            False           False   \n",
       "8      False     False          False            False           False   \n",
       "9      False     False          False            False           False   \n",
       "10     False     False          False            False           False   \n",
       "11     False     False          False            False           False   \n",
       "12     False     False          False            False           False   \n",
       "13     False     False          False            False           False   \n",
       "14     False     False          False            False           False   \n",
       "15     False     False          False            False           False   \n",
       "16     False     False          False            False           False   \n",
       "17     False     False          False            False           False   \n",
       "18     False     False          False            False           False   \n",
       "19     False     False          False            False           False   \n",
       "20     False     False          False            False           False   \n",
       "21     False     False          False            False           False   \n",
       "22     False     False          False            False           False   \n",
       "23     False     False          False            False           False   \n",
       "24     False     False          False            False           False   \n",
       "25     False     False          False            False           False   \n",
       "26     False     False          False            False           False   \n",
       "27     False     False          False            False           False   \n",
       "28     False     False          False            False           False   \n",
       "29     False     False          False            False           False   \n",
       "...      ...       ...            ...              ...             ...   \n",
       "39614  False     False          False            False           False   \n",
       "39615  False     False          False            False           False   \n",
       "39616  False     False          False            False           False   \n",
       "39617  False     False          False            False           False   \n",
       "39618  False     False          False            False           False   \n",
       "39619  False     False          False            False           False   \n",
       "39620  False     False          False            False           False   \n",
       "39621  False     False          False            False           False   \n",
       "39622  False     False          False            False           False   \n",
       "39623  False     False          False            False           False   \n",
       "39624  False     False          False            False           False   \n",
       "39625  False     False          False            False           False   \n",
       "39626  False     False          False            False           False   \n",
       "39627  False     False          False            False           False   \n",
       "39628  False     False          False            False           False   \n",
       "39629  False     False          False            False           False   \n",
       "39630  False     False          False            False           False   \n",
       "39631  False     False          False            False           False   \n",
       "39632  False     False          False            False           False   \n",
       "39633  False     False          False            False           False   \n",
       "39634  False     False          False            False           False   \n",
       "39635  False     False          False            False           False   \n",
       "39636  False     False          False            False           False   \n",
       "39637  False     False          False            False           False   \n",
       "39638  False     False          False            False           False   \n",
       "39639  False     False          False            False           False   \n",
       "39640  False     False          False            False           False   \n",
       "39641  False     False          False            False           False   \n",
       "39642  False     False          False            False           False   \n",
       "39643  False     False          False            False           False   \n",
       "\n",
       "      n_non_stop_words n_non_stop_unique_tokens num_hrefs num_self_hrefs  \\\n",
       "0                False                    False     False          False   \n",
       "1                False                    False     False          False   \n",
       "2                False                    False     False          False   \n",
       "3                False                    False     False          False   \n",
       "4                False                    False     False          False   \n",
       "5                False                    False     False          False   \n",
       "6                False                    False     False          False   \n",
       "7                False                    False     False          False   \n",
       "8                False                    False     False          False   \n",
       "9                False                    False     False          False   \n",
       "10               False                    False     False          False   \n",
       "11               False                    False     False          False   \n",
       "12               False                    False     False          False   \n",
       "13               False                    False     False          False   \n",
       "14               False                    False     False          False   \n",
       "15               False                    False     False          False   \n",
       "16               False                    False     False          False   \n",
       "17               False                    False     False          False   \n",
       "18               False                    False     False          False   \n",
       "19               False                    False     False          False   \n",
       "20               False                    False     False          False   \n",
       "21               False                    False     False          False   \n",
       "22               False                    False     False          False   \n",
       "23               False                    False     False          False   \n",
       "24               False                    False     False          False   \n",
       "25               False                    False     False          False   \n",
       "26               False                    False     False          False   \n",
       "27               False                    False     False          False   \n",
       "28               False                    False     False          False   \n",
       "29               False                    False     False          False   \n",
       "...                ...                      ...       ...            ...   \n",
       "39614            False                    False     False          False   \n",
       "39615            False                    False     False          False   \n",
       "39616            False                    False     False          False   \n",
       "39617            False                    False     False          False   \n",
       "39618            False                    False     False          False   \n",
       "39619            False                    False     False          False   \n",
       "39620            False                    False     False          False   \n",
       "39621            False                    False     False          False   \n",
       "39622            False                    False     False          False   \n",
       "39623            False                    False     False          False   \n",
       "39624            False                    False     False          False   \n",
       "39625            False                    False     False          False   \n",
       "39626            False                    False     False          False   \n",
       "39627            False                    False     False          False   \n",
       "39628            False                    False     False          False   \n",
       "39629            False                    False     False          False   \n",
       "39630            False                    False     False          False   \n",
       "39631            False                    False     False          False   \n",
       "39632            False                    False     False          False   \n",
       "39633            False                    False     False          False   \n",
       "39634            False                    False     False          False   \n",
       "39635            False                    False     False          False   \n",
       "39636            False                    False     False          False   \n",
       "39637            False                    False     False          False   \n",
       "39638            False                    False     False          False   \n",
       "39639            False                    False     False          False   \n",
       "39640            False                    False     False          False   \n",
       "39641            False                    False     False          False   \n",
       "39642            False                    False     False          False   \n",
       "39643            False                    False     False          False   \n",
       "\n",
       "      num_imgs  ...   min_positive_polarity max_positive_polarity  \\\n",
       "0        False  ...                   False                 False   \n",
       "1        False  ...                   False                 False   \n",
       "2        False  ...                   False                 False   \n",
       "3        False  ...                   False                 False   \n",
       "4        False  ...                   False                 False   \n",
       "5        False  ...                   False                 False   \n",
       "6        False  ...                   False                 False   \n",
       "7        False  ...                   False                 False   \n",
       "8        False  ...                   False                 False   \n",
       "9        False  ...                   False                 False   \n",
       "10       False  ...                   False                 False   \n",
       "11       False  ...                   False                 False   \n",
       "12       False  ...                   False                 False   \n",
       "13       False  ...                   False                 False   \n",
       "14       False  ...                   False                 False   \n",
       "15       False  ...                   False                 False   \n",
       "16       False  ...                   False                 False   \n",
       "17       False  ...                   False                 False   \n",
       "18       False  ...                   False                 False   \n",
       "19       False  ...                   False                 False   \n",
       "20       False  ...                   False                 False   \n",
       "21       False  ...                   False                 False   \n",
       "22       False  ...                   False                 False   \n",
       "23       False  ...                   False                 False   \n",
       "24       False  ...                   False                 False   \n",
       "25       False  ...                   False                 False   \n",
       "26       False  ...                   False                 False   \n",
       "27       False  ...                   False                 False   \n",
       "28       False  ...                   False                 False   \n",
       "29       False  ...                   False                 False   \n",
       "...        ...  ...                     ...                   ...   \n",
       "39614    False  ...                   False                 False   \n",
       "39615    False  ...                   False                 False   \n",
       "39616    False  ...                   False                 False   \n",
       "39617    False  ...                   False                 False   \n",
       "39618    False  ...                   False                 False   \n",
       "39619    False  ...                   False                 False   \n",
       "39620    False  ...                   False                 False   \n",
       "39621    False  ...                   False                 False   \n",
       "39622    False  ...                   False                 False   \n",
       "39623    False  ...                   False                 False   \n",
       "39624    False  ...                   False                 False   \n",
       "39625    False  ...                   False                 False   \n",
       "39626    False  ...                   False                 False   \n",
       "39627    False  ...                   False                 False   \n",
       "39628    False  ...                   False                 False   \n",
       "39629    False  ...                   False                 False   \n",
       "39630    False  ...                   False                 False   \n",
       "39631    False  ...                   False                 False   \n",
       "39632    False  ...                   False                 False   \n",
       "39633    False  ...                   False                 False   \n",
       "39634    False  ...                   False                 False   \n",
       "39635    False  ...                   False                 False   \n",
       "39636    False  ...                   False                 False   \n",
       "39637    False  ...                   False                 False   \n",
       "39638    False  ...                   False                 False   \n",
       "39639    False  ...                   False                 False   \n",
       "39640    False  ...                   False                 False   \n",
       "39641    False  ...                   False                 False   \n",
       "39642    False  ...                   False                 False   \n",
       "39643    False  ...                   False                 False   \n",
       "\n",
       "      avg_negative_polarity min_negative_polarity max_negative_polarity  \\\n",
       "0                     False                 False                 False   \n",
       "1                     False                 False                 False   \n",
       "2                     False                 False                 False   \n",
       "3                     False                 False                 False   \n",
       "4                     False                 False                 False   \n",
       "5                     False                 False                 False   \n",
       "6                     False                 False                 False   \n",
       "7                     False                 False                 False   \n",
       "8                     False                 False                 False   \n",
       "9                     False                 False                 False   \n",
       "10                    False                 False                 False   \n",
       "11                    False                 False                 False   \n",
       "12                    False                 False                 False   \n",
       "13                    False                 False                 False   \n",
       "14                    False                 False                 False   \n",
       "15                    False                 False                 False   \n",
       "16                    False                 False                 False   \n",
       "17                    False                 False                 False   \n",
       "18                    False                 False                 False   \n",
       "19                    False                 False                 False   \n",
       "20                    False                 False                 False   \n",
       "21                    False                 False                 False   \n",
       "22                    False                 False                 False   \n",
       "23                    False                 False                 False   \n",
       "24                    False                 False                 False   \n",
       "25                    False                 False                 False   \n",
       "26                    False                 False                 False   \n",
       "27                    False                 False                 False   \n",
       "28                    False                 False                 False   \n",
       "29                    False                 False                 False   \n",
       "...                     ...                   ...                   ...   \n",
       "39614                 False                 False                 False   \n",
       "39615                 False                 False                 False   \n",
       "39616                 False                 False                 False   \n",
       "39617                 False                 False                 False   \n",
       "39618                 False                 False                 False   \n",
       "39619                 False                 False                 False   \n",
       "39620                 False                 False                 False   \n",
       "39621                 False                 False                 False   \n",
       "39622                 False                 False                 False   \n",
       "39623                 False                 False                 False   \n",
       "39624                 False                 False                 False   \n",
       "39625                 False                 False                 False   \n",
       "39626                 False                 False                 False   \n",
       "39627                 False                 False                 False   \n",
       "39628                 False                 False                 False   \n",
       "39629                 False                 False                 False   \n",
       "39630                 False                 False                 False   \n",
       "39631                 False                 False                 False   \n",
       "39632                 False                 False                 False   \n",
       "39633                 False                 False                 False   \n",
       "39634                 False                 False                 False   \n",
       "39635                 False                 False                 False   \n",
       "39636                 False                 False                 False   \n",
       "39637                 False                 False                 False   \n",
       "39638                 False                 False                 False   \n",
       "39639                 False                 False                 False   \n",
       "39640                 False                 False                 False   \n",
       "39641                 False                 False                 False   \n",
       "39642                 False                 False                 False   \n",
       "39643                 False                 False                 False   \n",
       "\n",
       "      title_subjectivity title_sentiment_polarity abs_title_subjectivity  \\\n",
       "0                  False                    False                  False   \n",
       "1                  False                    False                  False   \n",
       "2                  False                    False                  False   \n",
       "3                  False                    False                  False   \n",
       "4                  False                    False                  False   \n",
       "5                  False                    False                  False   \n",
       "6                  False                    False                  False   \n",
       "7                  False                    False                  False   \n",
       "8                  False                    False                  False   \n",
       "9                  False                    False                  False   \n",
       "10                 False                    False                  False   \n",
       "11                 False                    False                  False   \n",
       "12                 False                    False                  False   \n",
       "13                 False                    False                  False   \n",
       "14                 False                    False                  False   \n",
       "15                 False                    False                  False   \n",
       "16                 False                    False                  False   \n",
       "17                 False                    False                  False   \n",
       "18                 False                    False                  False   \n",
       "19                 False                    False                  False   \n",
       "20                 False                    False                  False   \n",
       "21                 False                    False                  False   \n",
       "22                 False                    False                  False   \n",
       "23                 False                    False                  False   \n",
       "24                 False                    False                  False   \n",
       "25                 False                    False                  False   \n",
       "26                 False                    False                  False   \n",
       "27                 False                    False                  False   \n",
       "28                 False                    False                  False   \n",
       "29                 False                    False                  False   \n",
       "...                  ...                      ...                    ...   \n",
       "39614              False                    False                  False   \n",
       "39615              False                    False                  False   \n",
       "39616              False                    False                  False   \n",
       "39617              False                    False                  False   \n",
       "39618              False                    False                  False   \n",
       "39619              False                    False                  False   \n",
       "39620              False                    False                  False   \n",
       "39621              False                    False                  False   \n",
       "39622              False                    False                  False   \n",
       "39623              False                    False                  False   \n",
       "39624              False                    False                  False   \n",
       "39625              False                    False                  False   \n",
       "39626              False                    False                  False   \n",
       "39627              False                    False                  False   \n",
       "39628              False                    False                  False   \n",
       "39629              False                    False                  False   \n",
       "39630              False                    False                  False   \n",
       "39631              False                    False                  False   \n",
       "39632              False                    False                  False   \n",
       "39633              False                    False                  False   \n",
       "39634              False                    False                  False   \n",
       "39635              False                    False                  False   \n",
       "39636              False                    False                  False   \n",
       "39637              False                    False                  False   \n",
       "39638              False                    False                  False   \n",
       "39639              False                    False                  False   \n",
       "39640              False                    False                  False   \n",
       "39641              False                    False                  False   \n",
       "39642              False                    False                  False   \n",
       "39643              False                    False                  False   \n",
       "\n",
       "      abs_title_sentiment_polarity shares  \n",
       "0                            False  False  \n",
       "1                            False  False  \n",
       "2                            False  False  \n",
       "3                            False  False  \n",
       "4                            False  False  \n",
       "5                            False  False  \n",
       "6                            False  False  \n",
       "7                            False  False  \n",
       "8                            False  False  \n",
       "9                            False  False  \n",
       "10                           False  False  \n",
       "11                           False  False  \n",
       "12                           False  False  \n",
       "13                           False  False  \n",
       "14                           False  False  \n",
       "15                           False  False  \n",
       "16                           False  False  \n",
       "17                           False  False  \n",
       "18                           False  False  \n",
       "19                           False  False  \n",
       "20                           False  False  \n",
       "21                           False  False  \n",
       "22                           False  False  \n",
       "23                           False  False  \n",
       "24                           False  False  \n",
       "25                           False  False  \n",
       "26                           False  False  \n",
       "27                           False  False  \n",
       "28                           False  False  \n",
       "29                           False  False  \n",
       "...                            ...    ...  \n",
       "39614                        False  False  \n",
       "39615                        False  False  \n",
       "39616                        False  False  \n",
       "39617                        False  False  \n",
       "39618                        False  False  \n",
       "39619                        False  False  \n",
       "39620                        False  False  \n",
       "39621                        False  False  \n",
       "39622                        False  False  \n",
       "39623                        False  False  \n",
       "39624                        False  False  \n",
       "39625                        False  False  \n",
       "39626                        False  False  \n",
       "39627                        False  False  \n",
       "39628                        False  False  \n",
       "39629                        False  False  \n",
       "39630                        False  False  \n",
       "39631                        False  False  \n",
       "39632                        False  False  \n",
       "39633                        False  False  \n",
       "39634                        False  False  \n",
       "39635                        False  False  \n",
       "39636                        False  False  \n",
       "39637                        False  False  \n",
       "39638                        False  False  \n",
       "39639                        False  False  \n",
       "39640                        False  False  \n",
       "39641                        False  False  \n",
       "39642                        False  False  \n",
       "39643                        False  False  \n",
       "\n",
       "[39644 rows x 61 columns]"
      ]
     },
     "execution_count": 9,
     "metadata": {},
     "output_type": "execute_result"
    }
   ],
   "source": [
    "df.isnull()"
   ]
  },
  {
   "cell_type": "code",
   "execution_count": 19,
   "metadata": {
    "collapsed": false
   },
   "outputs": [
    {
     "data": {
      "text/plain": [
       "10.0    7358\n",
       "11.0    6960\n",
       "9.0     6278\n",
       "12.0    5299\n",
       "8.0     4227\n",
       "13.0    3509\n",
       "7.0     2120\n",
       "14.0    1733\n",
       "6.0      805\n",
       "15.0     756\n",
       "16.0     259\n",
       "5.0      184\n",
       "17.0      91\n",
       "4.0       28\n",
       "18.0      22\n",
       "19.0       6\n",
       "3.0        5\n",
       "20.0       2\n",
       "23.0       1\n",
       "2.0        1\n",
       "Name: n_tokens_title, dtype: int64"
      ]
     },
     "execution_count": 19,
     "metadata": {},
     "output_type": "execute_result"
    }
   ],
   "source": [
    "df.n_tokens_title.value_counts()"
   ]
  },
  {
   "cell_type": "code",
   "execution_count": 13,
   "metadata": {
    "collapsed": false
   },
   "outputs": [
    {
     "data": {
      "text/plain": [
       "<matplotlib.axes._subplots.AxesSubplot at 0xa824908>"
      ]
     },
     "execution_count": 13,
     "metadata": {},
     "output_type": "execute_result"
    },
    {
     "data": {
      "image/png": "[encoded data removed]",
      "text/plain": [
       "<matplotlib.figure.Figure at 0xf499be0>"
      ]
     },
     "metadata": {},
     "output_type": "display_data"
    }
   ],
   "source": [
    "df.n_tokens_title.value_counts().plot('barh')"
   ]
  },
  {
   "cell_type": "code",
   "execution_count": 20,
   "metadata": {
    "collapsed": false
   },
   "outputs": [
    {
     "data": {
      "text/plain": [
       "0.0       1181\n",
       "286.0      101\n",
       "225.0       86\n",
       "335.0       86\n",
       "279.0       85\n",
       "242.0       84\n",
       "301.0       82\n",
       "246.0       80\n",
       "294.0       80\n",
       "258.0       80\n",
       "232.0       80\n",
       "256.0       79\n",
       "197.0       79\n",
       "318.0       79\n",
       "317.0       78\n",
       "276.0       78\n",
       "230.0       78\n",
       "281.0       78\n",
       "292.0       78\n",
       "209.0       78\n",
       "315.0       78\n",
       "303.0       77\n",
       "235.0       76\n",
       "190.0       76\n",
       "299.0       76\n",
       "223.0       76\n",
       "263.0       76\n",
       "252.0       75\n",
       "240.0       75\n",
       "241.0       75\n",
       "          ... \n",
       "2191.0       1\n",
       "2200.0       1\n",
       "2133.0       1\n",
       "2201.0       1\n",
       "2207.0       1\n",
       "2211.0       1\n",
       "2213.0       1\n",
       "2216.0       1\n",
       "2219.0       1\n",
       "2220.0       1\n",
       "2178.0       1\n",
       "2171.0       1\n",
       "2170.0       1\n",
       "2168.0       1\n",
       "2136.0       1\n",
       "2141.0       1\n",
       "2142.0       1\n",
       "2143.0       1\n",
       "2146.0       1\n",
       "2148.0       1\n",
       "2150.0       1\n",
       "2152.0       1\n",
       "2153.0       1\n",
       "2155.0       1\n",
       "2161.0       1\n",
       "2162.0       1\n",
       "2164.0       1\n",
       "2165.0       1\n",
       "2166.0       1\n",
       "8474.0       1\n",
       "Name: n_tokens_content, dtype: int64"
      ]
     },
     "execution_count": 20,
     "metadata": {},
     "output_type": "execute_result"
    }
   ],
   "source": [
    "df.n_tokens_content.value_counts()"
   ]
  },
  {
   "cell_type": "code",
   "execution_count": 15,
   "metadata": {
    "collapsed": false
   },
   "outputs": [
    {
     "data": {
      "text/plain": [
       "<matplotlib.axes._subplots.AxesSubplot at 0xf499128>"
      ]
     },
     "execution_count": 15,
     "metadata": {},
     "output_type": "execute_result"
    },
    {
     "data": {
      "image/png": "[encoded data removed]",
      "text/plain": [
       "<matplotlib.figure.Figure at 0xfa50588>"
      ]
     },
     "metadata": {},
     "output_type": "display_data"
    }
   ],
   "source": [
    "df.n_tokens_content.value_counts().plot('hist')"
   ]
  },
  {
   "cell_type": "code",
   "execution_count": 21,
   "metadata": {
    "collapsed": false
   },
   "outputs": [
    {
     "data": {
      "text/plain": [
       "0.000000    1181\n",
       "0.666667      10\n",
       "0.552083       9\n",
       "0.649746       8\n",
       "0.648780       8\n",
       "0.653846       8\n",
       "0.623529       8\n",
       "0.613475       8\n",
       "0.642512       8\n",
       "0.674757       8\n",
       "0.618110       8\n",
       "0.640394       8\n",
       "0.636364       8\n",
       "0.656977       8\n",
       "0.694805       8\n",
       "0.740157       8\n",
       "0.560322       7\n",
       "0.602459       7\n",
       "0.569659       7\n",
       "0.653846       7\n",
       "0.621399       7\n",
       "0.685185       7\n",
       "0.601695       7\n",
       "0.656250       7\n",
       "0.670968       7\n",
       "0.592334       7\n",
       "0.697987       7\n",
       "0.666667       7\n",
       "0.784314       7\n",
       "0.636752       7\n",
       "            ... \n",
       "0.411150       1\n",
       "0.283109       1\n",
       "0.556054       1\n",
       "0.444338       1\n",
       "0.501057       1\n",
       "0.446244       1\n",
       "0.393378       1\n",
       "0.393414       1\n",
       "0.467169       1\n",
       "0.508685       1\n",
       "0.530769       1\n",
       "0.580556       1\n",
       "0.625767       1\n",
       "0.500426       1\n",
       "0.493802       1\n",
       "0.474453       1\n",
       "0.497199       1\n",
       "0.447706       1\n",
       "0.588110       1\n",
       "0.630000       1\n",
       "0.452983       1\n",
       "0.474032       1\n",
       "0.484337       1\n",
       "0.528090       1\n",
       "0.632787       1\n",
       "0.693811       1\n",
       "0.597884       1\n",
       "0.493289       1\n",
       "0.464368       1\n",
       "0.474315       1\n",
       "Name: n_unique_tokens, dtype: int64"
      ]
     },
     "execution_count": 21,
     "metadata": {},
     "output_type": "execute_result"
    }
   ],
   "source": [
    "df.n_unique_tokens.value_counts()"
   ]
  },
  {
   "cell_type": "code",
   "execution_count": 17,
   "metadata": {
    "collapsed": false
   },
   "outputs": [
    {
     "data": {
      "text/plain": [
       "<matplotlib.axes._subplots.AxesSubplot at 0x105da780>"
      ]
     },
     "execution_count": 17,
     "metadata": {},
     "output_type": "execute_result"
    },
    {
     "data": {
      "image/png": "[encoded data removed]",
      "text/plain": [
       "<matplotlib.figure.Figure at 0xf8349b0>"
      ]
     },
     "metadata": {},
     "output_type": "display_data"
    }
   ],
   "source": [
    "df.n_unique_tokens.value_counts().plot('hist')"
   ]
  },
  {
   "cell_type": "code",
   "execution_count": 22,
   "metadata": {
    "collapsed": false
   },
   "outputs": [
    {
     "data": {
      "text/plain": [
       "0.0    1181\n",
       "1.0     138\n",
       "1.0     136\n",
       "1.0     133\n",
       "1.0     129\n",
       "1.0     128\n",
       "1.0     127\n",
       "1.0     126\n",
       "1.0     125\n",
       "1.0     124\n",
       "1.0     124\n",
       "1.0     123\n",
       "1.0     123\n",
       "1.0     121\n",
       "1.0     120\n",
       "1.0     120\n",
       "1.0     120\n",
       "1.0     120\n",
       "1.0     120\n",
       "1.0     119\n",
       "1.0     119\n",
       "1.0     119\n",
       "1.0     118\n",
       "1.0     118\n",
       "1.0     118\n",
       "1.0     118\n",
       "1.0     117\n",
       "1.0     117\n",
       "1.0     117\n",
       "1.0     116\n",
       "       ... \n",
       "1.0       1\n",
       "1.0       1\n",
       "1.0       1\n",
       "1.0       1\n",
       "1.0       1\n",
       "1.0       1\n",
       "1.0       1\n",
       "1.0       1\n",
       "1.0       1\n",
       "1.0       1\n",
       "1.0       1\n",
       "1.0       1\n",
       "1.0       1\n",
       "1.0       1\n",
       "1.0       1\n",
       "1.0       1\n",
       "1.0       1\n",
       "1.0       1\n",
       "1.0       1\n",
       "1.0       1\n",
       "1.0       1\n",
       "1.0       1\n",
       "1.0       1\n",
       "1.0       1\n",
       "1.0       1\n",
       "1.0       1\n",
       "1.0       1\n",
       "1.0       1\n",
       "1.0       1\n",
       "1.0       1\n",
       "Name: n_non_stop_words, dtype: int64"
      ]
     },
     "execution_count": 22,
     "metadata": {},
     "output_type": "execute_result"
    }
   ],
   "source": [
    "df.n_non_stop_words.value_counts()"
   ]
  },
  {
   "cell_type": "code",
   "execution_count": 18,
   "metadata": {
    "collapsed": false
   },
   "outputs": [
    {
     "data": {
      "text/plain": [
       "<matplotlib.axes._subplots.AxesSubplot at 0x106063c8>"
      ]
     },
     "execution_count": 18,
     "metadata": {},
     "output_type": "execute_result"
    },
    {
     "data": {
      "image/png": "[encoded data removed]",
      "text/plain": [
       "<matplotlib.figure.Figure at 0x105a0278>"
      ]
     },
     "metadata": {},
     "output_type": "display_data"
    }
   ],
   "source": [
    "df.n_non_stop_words.value_counts().plot('hist')"
   ]
  },
  {
   "cell_type": "code",
   "execution_count": 23,
   "metadata": {
    "collapsed": false
   },
   "outputs": [
    {
     "data": {
      "text/plain": [
       "0.000000    1181\n",
       "0.815534      13\n",
       "0.765625      12\n",
       "0.762821      12\n",
       "0.707865      12\n",
       "0.873239      12\n",
       "0.824427      12\n",
       "0.855670      12\n",
       "0.835052      11\n",
       "0.750000      11\n",
       "0.760000      11\n",
       "0.820225      11\n",
       "0.702970      11\n",
       "0.727273      11\n",
       "0.830986      11\n",
       "0.855263      11\n",
       "0.887097      10\n",
       "0.828283      10\n",
       "0.830000      10\n",
       "0.756250      10\n",
       "0.762590      10\n",
       "0.820513      10\n",
       "0.798246      10\n",
       "0.812500      10\n",
       "0.868852      10\n",
       "0.815789      10\n",
       "0.767442      10\n",
       "0.786517      10\n",
       "0.873418      10\n",
       "0.882353      10\n",
       "            ... \n",
       "0.543750       1\n",
       "0.593985       1\n",
       "0.628049       1\n",
       "0.735690       1\n",
       "0.623060       1\n",
       "0.560331       1\n",
       "0.803109       1\n",
       "0.642336       1\n",
       "0.657692       1\n",
       "0.596154       1\n",
       "0.662763       1\n",
       "0.672566       1\n",
       "0.646341       1\n",
       "0.496614       1\n",
       "0.632495       1\n",
       "0.623337       1\n",
       "0.602151       1\n",
       "0.505063       1\n",
       "0.558511       1\n",
       "0.592445       1\n",
       "0.693925       1\n",
       "0.674322       1\n",
       "0.677987       1\n",
       "0.638060       1\n",
       "0.639362       1\n",
       "0.541254       1\n",
       "0.483073       1\n",
       "0.760797       1\n",
       "0.689895       1\n",
       "0.745033       1\n",
       "Name: n_non_stop_unique_tokens, dtype: int64"
      ]
     },
     "execution_count": 23,
     "metadata": {},
     "output_type": "execute_result"
    }
   ],
   "source": [
    "df.n_non_stop_unique_tokens.value_counts()"
   ]
  },
  {
   "cell_type": "code",
   "execution_count": 19,
   "metadata": {
    "collapsed": false
   },
   "outputs": [
    {
     "data": {
      "text/plain": [
       "<matplotlib.axes._subplots.AxesSubplot at 0x10972a20>"
      ]
     },
     "execution_count": 19,
     "metadata": {},
     "output_type": "execute_result"
    },
    {
     "data": {
      "image/png": "[encoded data removed]",
      "text/plain": [
       "<matplotlib.figure.Figure at 0x1095e128>"
      ]
     },
     "metadata": {},
     "output_type": "display_data"
    }
   ],
   "source": [
    "df.n_non_stop_unique_tokens.value_counts().plot('hist')"
   ]
  },
  {
   "cell_type": "code",
   "execution_count": 24,
   "metadata": {
    "collapsed": false
   },
   "outputs": [
    {
     "data": {
      "text/plain": [
       "4.0      3470\n",
       "5.0      3431\n",
       "6.0      3154\n",
       "3.0      2871\n",
       "7.0      2782\n",
       "8.0      2273\n",
       "9.0      1990\n",
       "2.0      1836\n",
       "10.0     1730\n",
       "11.0     1440\n",
       "0.0      1299\n",
       "12.0     1279\n",
       "13.0     1130\n",
       "1.0       963\n",
       "14.0      962\n",
       "15.0      890\n",
       "16.0      739\n",
       "17.0      661\n",
       "18.0      623\n",
       "19.0      543\n",
       "20.0      526\n",
       "21.0      466\n",
       "22.0      439\n",
       "23.0      378\n",
       "24.0      339\n",
       "25.0      300\n",
       "26.0      258\n",
       "28.0      254\n",
       "27.0      236\n",
       "29.0      213\n",
       "         ... \n",
       "90.0        2\n",
       "97.0        2\n",
       "101.0       1\n",
       "145.0       1\n",
       "148.0       1\n",
       "150.0       1\n",
       "152.0       1\n",
       "153.0       1\n",
       "142.0       1\n",
       "158.0       1\n",
       "159.0       1\n",
       "161.0       1\n",
       "162.0       1\n",
       "171.0       1\n",
       "186.0       1\n",
       "143.0       1\n",
       "124.0       1\n",
       "140.0       1\n",
       "127.0       1\n",
       "123.0       1\n",
       "88.0        1\n",
       "92.0        1\n",
       "116.0       1\n",
       "108.0       1\n",
       "107.0       1\n",
       "106.0       1\n",
       "98.0        1\n",
       "104.0       1\n",
       "187.0       1\n",
       "304.0       1\n",
       "Name: num_hrefs, dtype: int64"
      ]
     },
     "execution_count": 24,
     "metadata": {},
     "output_type": "execute_result"
    }
   ],
   "source": [
    "df.num_hrefs.value_counts()"
   ]
  },
  {
   "cell_type": "code",
   "execution_count": 20,
   "metadata": {
    "collapsed": false
   },
   "outputs": [
    {
     "data": {
      "text/plain": [
       "<matplotlib.axes._subplots.AxesSubplot at 0x10c283c8>"
      ]
     },
     "execution_count": 20,
     "metadata": {},
     "output_type": "execute_result"
    },
    {
     "data": {
      "image/png": "[encoded data removed]",
      "text/plain": [
       "<matplotlib.figure.Figure at 0xf9a46d8>"
      ]
     },
     "metadata": {},
     "output_type": "display_data"
    }
   ],
   "source": [
    "df.num_hrefs.value_counts().plot('hist')"
   ]
  },
  {
   "cell_type": "code",
   "execution_count": 25,
   "metadata": {
    "collapsed": false
   },
   "outputs": [
    {
     "data": {
      "text/plain": [
       "2.0      7624\n",
       "1.0      6788\n",
       "3.0      6612\n",
       "0.0      5350\n",
       "4.0      4603\n",
       "5.0      2922\n",
       "6.0      1851\n",
       "7.0      1127\n",
       "8.0       677\n",
       "9.0       452\n",
       "10.0      325\n",
       "11.0      227\n",
       "12.0      181\n",
       "13.0      122\n",
       "15.0       85\n",
       "14.0       84\n",
       "20.0       69\n",
       "21.0       57\n",
       "16.0       49\n",
       "18.0       42\n",
       "19.0       42\n",
       "17.0       40\n",
       "22.0       31\n",
       "32.0       30\n",
       "23.0       29\n",
       "31.0       28\n",
       "24.0       25\n",
       "25.0       20\n",
       "30.0       19\n",
       "28.0       17\n",
       "29.0       17\n",
       "33.0       15\n",
       "27.0       14\n",
       "26.0       12\n",
       "34.0       11\n",
       "39.0        4\n",
       "51.0        4\n",
       "36.0        4\n",
       "41.0        4\n",
       "40.0        3\n",
       "63.0        3\n",
       "35.0        3\n",
       "38.0        2\n",
       "54.0        2\n",
       "56.0        2\n",
       "49.0        2\n",
       "50.0        2\n",
       "62.0        1\n",
       "60.0        1\n",
       "65.0        1\n",
       "55.0        1\n",
       "44.0        1\n",
       "53.0        1\n",
       "47.0        1\n",
       "43.0        1\n",
       "42.0        1\n",
       "37.0        1\n",
       "74.0        1\n",
       "116.0       1\n",
       "Name: num_self_hrefs, dtype: int64"
      ]
     },
     "execution_count": 25,
     "metadata": {},
     "output_type": "execute_result"
    }
   ],
   "source": [
    "df.num_self_hrefs.value_counts()"
   ]
  },
  {
   "cell_type": "code",
   "execution_count": 22,
   "metadata": {
    "collapsed": false
   },
   "outputs": [
    {
     "data": {
      "text/plain": [
       "<matplotlib.axes._subplots.AxesSubplot at 0x11254c18>"
      ]
     },
     "execution_count": 22,
     "metadata": {},
     "output_type": "execute_result"
    },
    {
     "data": {
      "image/png": "[encoded data removed]",
      "text/plain": [
       "<matplotlib.figure.Figure at 0x1126b320>"
      ]
     },
     "metadata": {},
     "output_type": "display_data"
    }
   ],
   "source": [
    "df.num_self_hrefs.value_counts().plot('barh')"
   ]
  },
  {
   "cell_type": "code",
   "execution_count": null,
   "metadata": {
    "collapsed": true
   },
   "outputs": [],
   "source": []
  },
  {
   "cell_type": "code",
   "execution_count": 26,
   "metadata": {
    "collapsed": false
   },
   "outputs": [
    {
     "data": {
      "text/plain": [
       "1.0      18119\n",
       "0.0       6987\n",
       "2.0       2965\n",
       "3.0       1223\n",
       "11.0      1125\n",
       "10.0       860\n",
       "4.0        668\n",
       "12.0       601\n",
       "6.0        571\n",
       "9.0        546\n",
       "8.0        509\n",
       "13.0       508\n",
       "15.0       498\n",
       "5.0        478\n",
       "7.0        421\n",
       "16.0       399\n",
       "14.0       392\n",
       "20.0       314\n",
       "21.0       258\n",
       "17.0       212\n",
       "18.0       202\n",
       "19.0       175\n",
       "25.0       164\n",
       "22.0       148\n",
       "23.0       114\n",
       "26.0       113\n",
       "30.0        99\n",
       "24.0        79\n",
       "35.0        78\n",
       "32.0        76\n",
       "         ...  \n",
       "75.0         5\n",
       "43.0         5\n",
       "67.0         4\n",
       "99.0         4\n",
       "92.0         4\n",
       "71.0         4\n",
       "62.0         4\n",
       "63.0         3\n",
       "76.0         3\n",
       "80.0         3\n",
       "101.0        2\n",
       "70.0         2\n",
       "111.0        2\n",
       "79.0         2\n",
       "58.0         2\n",
       "66.0         1\n",
       "91.0         1\n",
       "108.0        1\n",
       "57.0         1\n",
       "93.0         1\n",
       "59.0         1\n",
       "83.0         1\n",
       "90.0         1\n",
       "84.0         1\n",
       "65.0         1\n",
       "77.0         1\n",
       "73.0         1\n",
       "69.0         1\n",
       "68.0         1\n",
       "128.0        1\n",
       "Name: num_imgs, dtype: int64"
      ]
     },
     "execution_count": 26,
     "metadata": {},
     "output_type": "execute_result"
    }
   ],
   "source": [
    "df.num_imgs.value_counts()"
   ]
  },
  {
   "cell_type": "code",
   "execution_count": 24,
   "metadata": {
    "collapsed": false
   },
   "outputs": [
    {
     "data": {
      "text/plain": [
       "<matplotlib.axes._subplots.AxesSubplot at 0xdaa8a90>"
      ]
     },
     "execution_count": 24,
     "metadata": {},
     "output_type": "execute_result"
    },
    {
     "data": {
      "image/png": "[encoded data removed]",
      "text/plain": [
       "<matplotlib.figure.Figure at 0xd9dfa90>"
      ]
     },
     "metadata": {},
     "output_type": "display_data"
    }
   ],
   "source": [
    "df.num_imgs.value_counts().plot('hist')"
   ]
  },
  {
   "cell_type": "code",
   "execution_count": 27,
   "metadata": {
    "collapsed": false
   },
   "outputs": [
    {
     "data": {
      "text/plain": [
       "0.0     25026\n",
       "1.0      9483\n",
       "2.0      2189\n",
       "3.0       527\n",
       "11.0      285\n",
       "4.0       245\n",
       "10.0      213\n",
       "21.0      202\n",
       "5.0       149\n",
       "26.0      124\n",
       "6.0       116\n",
       "16.0      103\n",
       "9.0       101\n",
       "7.0        90\n",
       "8.0        82\n",
       "15.0       81\n",
       "12.0       79\n",
       "13.0       73\n",
       "14.0       69\n",
       "25.0       68\n",
       "20.0       59\n",
       "17.0       54\n",
       "18.0       29\n",
       "27.0       28\n",
       "22.0       25\n",
       "19.0       16\n",
       "31.0       15\n",
       "33.0       15\n",
       "24.0       12\n",
       "23.0       11\n",
       "28.0        9\n",
       "73.0        7\n",
       "50.0        7\n",
       "51.0        6\n",
       "34.0        5\n",
       "74.0        5\n",
       "30.0        4\n",
       "32.0        4\n",
       "29.0        3\n",
       "35.0        3\n",
       "58.0        3\n",
       "36.0        2\n",
       "75.0        2\n",
       "38.0        2\n",
       "42.0        2\n",
       "48.0        2\n",
       "59.0        2\n",
       "65.0        2\n",
       "66.0        1\n",
       "49.0        1\n",
       "46.0        1\n",
       "53.0        1\n",
       "91.0        1\n",
       "Name: num_videos, dtype: int64"
      ]
     },
     "execution_count": 27,
     "metadata": {},
     "output_type": "execute_result"
    }
   ],
   "source": [
    "df.num_videos.value_counts()"
   ]
  },
  {
   "cell_type": "code",
   "execution_count": 25,
   "metadata": {
    "collapsed": false
   },
   "outputs": [
    {
     "data": {
      "text/plain": [
       "<matplotlib.axes._subplots.AxesSubplot at 0x126b12e8>"
      ]
     },
     "execution_count": 25,
     "metadata": {},
     "output_type": "execute_result"
    },
    {
     "data": {
      "image/png": "[encoded data removed]",
      "text/plain": [
       "<matplotlib.figure.Figure at 0xd737400>"
      ]
     },
     "metadata": {},
     "output_type": "display_data"
    }
   ],
   "source": [
    "df.num_videos.value_counts().plot('barh')"
   ]
  },
  {
   "cell_type": "code",
   "execution_count": 28,
   "metadata": {
    "collapsed": false
   },
   "outputs": [
    {
     "data": {
      "text/plain": [
       "0.000000    1181\n",
       "5.000000      77\n",
       "4.500000      72\n",
       "4.666667      58\n",
       "4.600000      35\n",
       "4.750000      32\n",
       "4.800000      28\n",
       "4.428571      26\n",
       "4.833333      24\n",
       "4.625000      23\n",
       "4.700000      22\n",
       "4.875000      22\n",
       "4.555556      21\n",
       "4.777778      21\n",
       "4.714286      20\n",
       "4.571429      19\n",
       "4.333333      18\n",
       "4.818182      17\n",
       "4.857143      16\n",
       "4.400000      16\n",
       "4.615385      15\n",
       "4.727273      15\n",
       "4.909091      15\n",
       "4.545455      13\n",
       "4.733333      13\n",
       "4.789474      13\n",
       "4.809524      13\n",
       "4.583333      13\n",
       "4.692308      12\n",
       "4.000000      12\n",
       "            ... \n",
       "4.625912       1\n",
       "4.667851       1\n",
       "4.323690       1\n",
       "4.095420       1\n",
       "4.436992       1\n",
       "4.208748       1\n",
       "4.549587       1\n",
       "4.347463       1\n",
       "4.800752       1\n",
       "4.300567       1\n",
       "4.810613       1\n",
       "4.869674       1\n",
       "4.944591       1\n",
       "4.971014       1\n",
       "4.108553       1\n",
       "4.015564       1\n",
       "4.534591       1\n",
       "4.351377       1\n",
       "4.825316       1\n",
       "4.592798       1\n",
       "4.731501       1\n",
       "4.887218       1\n",
       "4.445437       1\n",
       "4.770925       1\n",
       "4.765363       1\n",
       "4.936000       1\n",
       "4.316800       1\n",
       "4.829016       1\n",
       "5.050691       1\n",
       "4.283364       1\n",
       "Name: average_token_length, dtype: int64"
      ]
     },
     "execution_count": 28,
     "metadata": {},
     "output_type": "execute_result"
    }
   ],
   "source": [
    "df.average_token_length.value_counts()"
   ]
  },
  {
   "cell_type": "code",
   "execution_count": 26,
   "metadata": {
    "collapsed": false
   },
   "outputs": [
    {
     "data": {
      "text/plain": [
       "<matplotlib.axes._subplots.AxesSubplot at 0x12a84780>"
      ]
     },
     "execution_count": 26,
     "metadata": {},
     "output_type": "execute_result"
    },
    {
     "data": {
      "image/png": "[encoded data removed]",
      "text/plain": [
       "<matplotlib.figure.Figure at 0x12a949b0>"
      ]
     },
     "metadata": {},
     "output_type": "display_data"
    }
   ],
   "source": [
    "df.average_token_length.value_counts().plot('hist')"
   ]
  },
  {
   "cell_type": "code",
   "execution_count": 29,
   "metadata": {
    "collapsed": false
   },
   "outputs": [
    {
     "data": {
      "text/plain": [
       "7.0     7322\n",
       "6.0     6801\n",
       "10.0    6708\n",
       "8.0     6094\n",
       "5.0     4829\n",
       "9.0     4732\n",
       "4.0     2427\n",
       "3.0      635\n",
       "1.0       51\n",
       "2.0       45\n",
       "Name: num_keywords, dtype: int64"
      ]
     },
     "execution_count": 29,
     "metadata": {},
     "output_type": "execute_result"
    }
   ],
   "source": [
    "df.num_keywords.value_counts()"
   ]
  },
  {
   "cell_type": "code",
   "execution_count": 27,
   "metadata": {
    "collapsed": false
   },
   "outputs": [
    {
     "data": {
      "text/plain": [
       "<matplotlib.axes._subplots.AxesSubplot at 0x131314a8>"
      ]
     },
     "execution_count": 27,
     "metadata": {},
     "output_type": "execute_result"
    },
    {
     "data": {
      "image/png": "[encoded data removed]",
      "text/plain": [
       "<matplotlib.figure.Figure at 0x12851198>"
      ]
     },
     "metadata": {},
     "output_type": "display_data"
    }
   ],
   "source": [
    "df.num_keywords.value_counts().plot('barh')"
   ]
  },
  {
   "cell_type": "code",
   "execution_count": 30,
   "metadata": {
    "collapsed": false
   },
   "outputs": [
    {
     "data": {
      "text/plain": [
       "0.0    37545\n",
       "1.0     2099\n",
       "Name: data_channel_is_lifestyle, dtype: int64"
      ]
     },
     "execution_count": 30,
     "metadata": {},
     "output_type": "execute_result"
    }
   ],
   "source": [
    "df.data_channel_is_lifestyle.value_counts()"
   ]
  },
  {
   "cell_type": "code",
   "execution_count": 28,
   "metadata": {
    "collapsed": false
   },
   "outputs": [
    {
     "data": {
      "text/plain": [
       "<matplotlib.axes._subplots.AxesSubplot at 0x133a0f98>"
      ]
     },
     "execution_count": 28,
     "metadata": {},
     "output_type": "execute_result"
    },
    {
     "data": {
      "image/png": "[encoded data removed]",
      "text/plain": [
       "<matplotlib.figure.Figure at 0xd737518>"
      ]
     },
     "metadata": {},
     "output_type": "display_data"
    }
   ],
   "source": [
    "df.data_channel_is_lifestyle.value_counts().plot('bar')"
   ]
  },
  {
   "cell_type": "code",
   "execution_count": null,
   "metadata": {
    "collapsed": true
   },
   "outputs": [],
   "source": []
  },
  {
   "cell_type": "code",
   "execution_count": 31,
   "metadata": {
    "collapsed": false
   },
   "outputs": [
    {
     "data": {
      "text/plain": [
       "0.0    32587\n",
       "1.0     7057\n",
       "Name: data_channel_is_entertainment, dtype: int64"
      ]
     },
     "execution_count": 31,
     "metadata": {},
     "output_type": "execute_result"
    }
   ],
   "source": [
    "df.data_channel_is_entertainment.value_counts()"
   ]
  },
  {
   "cell_type": "code",
   "execution_count": 29,
   "metadata": {
    "collapsed": false
   },
   "outputs": [
    {
     "data": {
      "text/plain": [
       "<matplotlib.axes._subplots.AxesSubplot at 0x13633a58>"
      ]
     },
     "execution_count": 29,
     "metadata": {},
     "output_type": "execute_result"
    },
    {
     "data": {
      "image/png": "[encoded data removed]",
      "text/plain": [
       "<matplotlib.figure.Figure at 0xd659a20>"
      ]
     },
     "metadata": {},
     "output_type": "display_data"
    }
   ],
   "source": [
    "df.data_channel_is_entertainment.value_counts().plot('bar')"
   ]
  },
  {
   "cell_type": "code",
   "execution_count": 32,
   "metadata": {
    "collapsed": false
   },
   "outputs": [
    {
     "data": {
      "text/plain": [
       "0.0    33386\n",
       "1.0     6258\n",
       "Name: data_channel_is_bus, dtype: int64"
      ]
     },
     "execution_count": 32,
     "metadata": {},
     "output_type": "execute_result"
    }
   ],
   "source": [
    "df.data_channel_is_bus.value_counts()"
   ]
  },
  {
   "cell_type": "code",
   "execution_count": 30,
   "metadata": {
    "collapsed": false
   },
   "outputs": [
    {
     "data": {
      "text/plain": [
       "<matplotlib.axes._subplots.AxesSubplot at 0x13711da0>"
      ]
     },
     "execution_count": 30,
     "metadata": {},
     "output_type": "execute_result"
    },
    {
     "data": {
      "image/png": "[encoded data removed]",
      "text/plain": [
       "<matplotlib.figure.Figure at 0xd9990f0>"
      ]
     },
     "metadata": {},
     "output_type": "display_data"
    }
   ],
   "source": [
    "df.data_channel_is_bus.value_counts().plot('bar')"
   ]
  },
  {
   "cell_type": "code",
   "execution_count": 33,
   "metadata": {
    "collapsed": false
   },
   "outputs": [
    {
     "data": {
      "text/plain": [
       "0.0    37321\n",
       "1.0     2323\n",
       "Name: data_channel_is_socmed, dtype: int64"
      ]
     },
     "execution_count": 33,
     "metadata": {},
     "output_type": "execute_result"
    }
   ],
   "source": [
    "df.data_channel_is_socmed.value_counts()"
   ]
  },
  {
   "cell_type": "code",
   "execution_count": 31,
   "metadata": {
    "collapsed": false
   },
   "outputs": [
    {
     "data": {
      "text/plain": [
       "<matplotlib.axes._subplots.AxesSubplot at 0x1398a828>"
      ]
     },
     "execution_count": 31,
     "metadata": {},
     "output_type": "execute_result"
    },
    {
     "data": {
      "image/png": "[encoded data removed]",
      "text/plain": [
       "<matplotlib.figure.Figure at 0x12872a90>"
      ]
     },
     "metadata": {},
     "output_type": "display_data"
    }
   ],
   "source": [
    "df.data_channel_is_socmed.value_counts().plot('bar')"
   ]
  },
  {
   "cell_type": "code",
   "execution_count": 34,
   "metadata": {
    "collapsed": false
   },
   "outputs": [
    {
     "data": {
      "text/plain": [
       "0.0    32298\n",
       "1.0     7346\n",
       "Name: data_channel_is_tech, dtype: int64"
      ]
     },
     "execution_count": 34,
     "metadata": {},
     "output_type": "execute_result"
    }
   ],
   "source": [
    "df.data_channel_is_tech.value_counts()"
   ]
  },
  {
   "cell_type": "code",
   "execution_count": 32,
   "metadata": {
    "collapsed": false
   },
   "outputs": [
    {
     "data": {
      "text/plain": [
       "<matplotlib.axes._subplots.AxesSubplot at 0x13bae4e0>"
      ]
     },
     "execution_count": 32,
     "metadata": {},
     "output_type": "execute_result"
    },
    {
     "data": {
      "image/png": "[encoded data removed]",
      "text/plain": [
       "<matplotlib.figure.Figure at 0x13a92da0>"
      ]
     },
     "metadata": {},
     "output_type": "display_data"
    }
   ],
   "source": [
    "df.data_channel_is_tech.value_counts().plot('bar')"
   ]
  },
  {
   "cell_type": "code",
   "execution_count": 35,
   "metadata": {
    "collapsed": false
   },
   "outputs": [
    {
     "data": {
      "text/plain": [
       "0.0    31217\n",
       "1.0     8427\n",
       "Name: data_channel_is_world, dtype: int64"
      ]
     },
     "execution_count": 35,
     "metadata": {},
     "output_type": "execute_result"
    }
   ],
   "source": [
    "df.data_channel_is_world.value_counts()"
   ]
  },
  {
   "cell_type": "code",
   "execution_count": 33,
   "metadata": {
    "collapsed": false
   },
   "outputs": [
    {
     "data": {
      "text/plain": [
       "<matplotlib.axes._subplots.AxesSubplot at 0x12d7f1d0>"
      ]
     },
     "execution_count": 33,
     "metadata": {},
     "output_type": "execute_result"
    },
    {
     "data": {
      "image/png": "[encoded data removed]",
      "text/plain": [
       "<matplotlib.figure.Figure at 0xdf10198>"
      ]
     },
     "metadata": {},
     "output_type": "display_data"
    }
   ],
   "source": [
    "df.data_channel_is_world.value_counts().plot('bar')"
   ]
  },
  {
   "cell_type": "code",
   "execution_count": 36,
   "metadata": {
    "collapsed": false
   },
   "outputs": [
    {
     "data": {
      "text/plain": [
       "-1.0      22980\n",
       " 4.0      11908\n",
       " 217.0     4636\n",
       " 0.0         79\n",
       " 47.0         6\n",
       " 57.0         5\n",
       " 86.0         4\n",
       " 82.0         3\n",
       " 45.0         2\n",
       " 63.0         2\n",
       " 294.0        2\n",
       " 129.0        2\n",
       " 88.0         2\n",
       " 98.0         1\n",
       " 97.0         1\n",
       " 377.0        1\n",
       " 116.0        1\n",
       " 201.0        1\n",
       " 80.0         1\n",
       " 65.0         1\n",
       " 138.0        1\n",
       " 162.0        1\n",
       " 184.0        1\n",
       " 42.0         1\n",
       " 41.0         1\n",
       " 318.0        1\n",
       "Name: kw_min_min, dtype: int64"
      ]
     },
     "execution_count": 36,
     "metadata": {},
     "output_type": "execute_result"
    }
   ],
   "source": [
    "df.kw_min_min.value_counts()"
   ]
  },
  {
   "cell_type": "code",
   "execution_count": 34,
   "metadata": {
    "collapsed": false
   },
   "outputs": [
    {
     "data": {
      "text/plain": [
       "<matplotlib.axes._subplots.AxesSubplot at 0x13f64080>"
      ]
     },
     "execution_count": 34,
     "metadata": {},
     "output_type": "execute_result"
    },
    {
     "data": {
      "image/png": "[encoded data removed]",
      "text/plain": [
       "<matplotlib.figure.Figure at 0xde95c18>"
      ]
     },
     "metadata": {},
     "output_type": "display_data"
    }
   ],
   "source": [
    "df.kw_min_min.value_counts().plot('bar')"
   ]
  },
  {
   "cell_type": "code",
   "execution_count": 37,
   "metadata": {
    "collapsed": false
   },
   "outputs": [
    {
     "data": {
      "text/plain": [
       "1100.0      1507\n",
       "1200.0      1188\n",
       "1300.0       830\n",
       "0.0          819\n",
       "1400.0       785\n",
       "1000.0       735\n",
       "1500.0       563\n",
       "1600.0       504\n",
       "1700.0       379\n",
       "1800.0       287\n",
       "1900.0       284\n",
       "2000.0       256\n",
       "2100.0       241\n",
       "224.0        230\n",
       "2200.0       215\n",
       "440.0        195\n",
       "176.0        187\n",
       "330.0        180\n",
       "488.0        169\n",
       "325.0        168\n",
       "211.0        165\n",
       "2300.0       152\n",
       "469.0        149\n",
       "428.0        143\n",
       "522.0        143\n",
       "504.0        141\n",
       "400.0        139\n",
       "529.0        135\n",
       "473.0        131\n",
       "2500.0       130\n",
       "            ... \n",
       "16500.0        1\n",
       "33100.0        1\n",
       "104100.0       1\n",
       "17000.0        1\n",
       "154.0          1\n",
       "38000.0        1\n",
       "17400.0        1\n",
       "449.0          1\n",
       "164.0          1\n",
       "18300.0        1\n",
       "37000.0        1\n",
       "18600.0        1\n",
       "18700.0        1\n",
       "36700.0        1\n",
       "102200.0       1\n",
       "18800.0        1\n",
       "19100.0        1\n",
       "19200.0        1\n",
       "19700.0        1\n",
       "19800.0        1\n",
       "20300.0        1\n",
       "418.0          1\n",
       "36200.0        1\n",
       "210.0          1\n",
       "20800.0        1\n",
       "34300.0        1\n",
       "33900.0        1\n",
       "98700.0        1\n",
       "21700.0        1\n",
       "128500.0       1\n",
       "Name: kw_max_min, dtype: int64"
      ]
     },
     "execution_count": 37,
     "metadata": {},
     "output_type": "execute_result"
    }
   ],
   "source": [
    "df.kw_max_min.value_counts()"
   ]
  },
  {
   "cell_type": "code",
   "execution_count": 35,
   "metadata": {
    "collapsed": false
   },
   "outputs": [
    {
     "data": {
      "text/plain": [
       "<matplotlib.axes._subplots.AxesSubplot at 0x1426ef60>"
      ]
     },
     "execution_count": 35,
     "metadata": {},
     "output_type": "execute_result"
    },
    {
     "data": {
      "image/png": "[encoded data removed]",
      "text/plain": [
       "<matplotlib.figure.Figure at 0x1434b160>"
      ]
     },
     "metadata": {},
     "output_type": "display_data"
    }
   ],
   "source": [
    "df.kw_max_min.value_counts().plot('hist')"
   ]
  },
  {
   "cell_type": "code",
   "execution_count": 38,
   "metadata": {
    "collapsed": false
   },
   "outputs": [
    {
     "data": {
      "text/plain": [
       "-1.000000        694\n",
       " 0.000000         81\n",
       " 43.250000        48\n",
       " 125.000000       45\n",
       " 107.666667       44\n",
       " 80.500000        43\n",
       " 194.000000       42\n",
       " 11.500000        39\n",
       " 282.000000       37\n",
       " 63.000000        37\n",
       " 103.000000       34\n",
       " 143.000000       33\n",
       " 101.400000       32\n",
       " 82.000000        32\n",
       " 135.000000       30\n",
       " 15.666667        30\n",
       " 38.250000        28\n",
       " 133.000000       28\n",
       " 113.000000       28\n",
       " 21.000000        27\n",
       "-0.482000         26\n",
       " 301.000000       26\n",
       " 161.000000       26\n",
       " 28.666667        26\n",
       " 84.000000        25\n",
       " 4.000000         25\n",
       " 188.000000       24\n",
       " 101.000000       24\n",
       " 203.000000       24\n",
       " 292.000000       24\n",
       "                ... \n",
       " 1060.333333       1\n",
       " 200.510000        1\n",
       " 205.025714        1\n",
       " 234.600000        1\n",
       " 1152.285714       1\n",
       " 194.397500        1\n",
       " 265.142857        1\n",
       " 34855.125000      1\n",
       " 501.142857        1\n",
       " 644.111111        1\n",
       " 199.621111        1\n",
       " 179.518000        1\n",
       " 432.059000        1\n",
       " 441.142857        1\n",
       " 528.666667        1\n",
       " 143.176667        1\n",
       " 262.111111        1\n",
       " 1247.200000       1\n",
       " 832.142857        1\n",
       " 1383.571429       1\n",
       " 376.100000        1\n",
       " 384.857143        1\n",
       " 1993.714286       1\n",
       " 464.142857        1\n",
       " 146.512857        1\n",
       " 125.863333        1\n",
       " 291.888889        1\n",
       " 359.900000        1\n",
       " 339.777778        1\n",
       " 296.333333        1\n",
       "Name: kw_avg_min, dtype: int64"
      ]
     },
     "execution_count": 38,
     "metadata": {},
     "output_type": "execute_result"
    }
   ],
   "source": [
    "df.kw_avg_min.value_counts()"
   ]
  },
  {
   "cell_type": "code",
   "execution_count": 36,
   "metadata": {
    "collapsed": false
   },
   "outputs": [
    {
     "data": {
      "text/plain": [
       "<matplotlib.axes._subplots.AxesSubplot at 0x141700b8>"
      ]
     },
     "execution_count": 36,
     "metadata": {},
     "output_type": "execute_result"
    },
    {
     "data": {
      "image/png": "[encoded data removed]",
      "text/plain": [
       "<matplotlib.figure.Figure at 0x144b4438>"
      ]
     },
     "metadata": {},
     "output_type": "display_data"
    }
   ],
   "source": [
    "df.kw_avg_min.value_counts().plot('hist')"
   ]
  },
  {
   "cell_type": "code",
   "execution_count": 39,
   "metadata": {
    "collapsed": false
   },
   "outputs": [
    {
     "data": {
      "text/plain": [
       "0.0         17108\n",
       "1500.0        379\n",
       "1400.0        371\n",
       "1200.0        367\n",
       "1300.0        361\n",
       "1100.0        344\n",
       "1600.0        329\n",
       "1900.0        315\n",
       "2100.0        303\n",
       "2000.0        303\n",
       "1800.0        295\n",
       "1700.0        286\n",
       "2200.0        264\n",
       "5000.0        229\n",
       "4800.0        226\n",
       "2300.0        219\n",
       "2900.0        210\n",
       "3800.0        207\n",
       "2600.0        198\n",
       "2400.0        192\n",
       "3100.0        191\n",
       "2700.0        185\n",
       "3900.0        180\n",
       "6500.0        179\n",
       "2800.0        178\n",
       "3200.0        173\n",
       "2500.0        171\n",
       "3500.0        170\n",
       "3400.0        169\n",
       "3000.0        157\n",
       "            ...  \n",
       "670.0           1\n",
       "669.0           1\n",
       "668.0           1\n",
       "869.0           1\n",
       "51900.0         1\n",
       "32800.0         1\n",
       "659.0           1\n",
       "658.0           1\n",
       "876.0           1\n",
       "654.0           1\n",
       "877.0           1\n",
       "649.0           1\n",
       "647.0           1\n",
       "646.0           1\n",
       "645.0           1\n",
       "643.0           1\n",
       "882.0           1\n",
       "640.0           1\n",
       "883.0           1\n",
       "638.0           1\n",
       "636.0           1\n",
       "884.0           1\n",
       "634.0           1\n",
       "886.0           1\n",
       "888.0           1\n",
       "31700.0         1\n",
       "119100.0        1\n",
       "891.0           1\n",
       "892.0           1\n",
       "67300.0         1\n",
       "Name: kw_min_max, dtype: int64"
      ]
     },
     "execution_count": 39,
     "metadata": {},
     "output_type": "execute_result"
    }
   ],
   "source": [
    "df.kw_min_max.value_counts()"
   ]
  },
  {
   "cell_type": "code",
   "execution_count": 37,
   "metadata": {
    "collapsed": false
   },
   "outputs": [
    {
     "data": {
      "text/plain": [
       "<matplotlib.axes._subplots.AxesSubplot at 0x145b8550>"
      ]
     },
     "execution_count": 37,
     "metadata": {},
     "output_type": "execute_result"
    },
    {
     "data": {
      "image/png": "[encoded data removed]",
      "text/plain": [
       "<matplotlib.figure.Figure at 0x14788400>"
      ]
     },
     "metadata": {},
     "output_type": "display_data"
    }
   ],
   "source": [
    "df.kw_min_max.value_counts().plot('hist')"
   ]
  },
  {
   "cell_type": "code",
   "execution_count": 40,
   "metadata": {
    "collapsed": false
   },
   "outputs": [
    {
     "data": {
      "text/plain": [
       "843300.0    30204\n",
       "690400.0     3986\n",
       "617900.0     2263\n",
       "69100.0      1265\n",
       "51900.0       829\n",
       "80400.0       401\n",
       "39400.0       149\n",
       "28000.0       131\n",
       "37400.0       122\n",
       "17100.0       101\n",
       "0.0            79\n",
       "227300.0       72\n",
       "306100.0        8\n",
       "104100.0        5\n",
       "663600.0        4\n",
       "73100.0         2\n",
       "441000.0        2\n",
       "310800.0        2\n",
       "67500.0         2\n",
       "118700.0        2\n",
       "139600.0        1\n",
       "11100.0         1\n",
       "208300.0        1\n",
       "210300.0        1\n",
       "57600.0         1\n",
       "15000.0         1\n",
       "18200.0         1\n",
       "86200.0         1\n",
       "27700.0         1\n",
       "35800.0         1\n",
       "233400.0        1\n",
       "41600.0         1\n",
       "111300.0        1\n",
       "53100.0         1\n",
       "93800.0         1\n",
       "Name: kw_max_max, dtype: int64"
      ]
     },
     "execution_count": 40,
     "metadata": {},
     "output_type": "execute_result"
    }
   ],
   "source": [
    "df.kw_max_max.value_counts()"
   ]
  },
  {
   "cell_type": "code",
   "execution_count": 38,
   "metadata": {
    "collapsed": false
   },
   "outputs": [
    {
     "data": {
      "text/plain": [
       "<matplotlib.axes._subplots.AxesSubplot at 0x14ae1b00>"
      ]
     },
     "execution_count": 38,
     "metadata": {},
     "output_type": "execute_result"
    },
    {
     "data": {
      "image/png": "[encoded data removed]",
      "text/plain": [
       "<matplotlib.figure.Figure at 0x14792128>"
      ]
     },
     "metadata": {},
     "output_type": "display_data"
    }
   ],
   "source": [
    "df.kw_max_max.value_counts().plot('barh')"
   ]
  },
  {
   "cell_type": "code",
   "execution_count": 41,
   "metadata": {
    "collapsed": false
   },
   "outputs": [
    {
     "data": {
      "text/plain": [
       "0.000000         79\n",
       "843300.000000    57\n",
       "406425.000000    46\n",
       "384225.000000    44\n",
       "483900.000000    40\n",
       "534200.000000    37\n",
       "559366.666667    30\n",
       "383800.000000    29\n",
       "741366.666667    26\n",
       "350800.000000    26\n",
       "498200.000000    24\n",
       "551300.000000    23\n",
       "305840.000000    22\n",
       "309440.000000    21\n",
       "266150.000000    21\n",
       "292960.000000    19\n",
       "321750.000000    19\n",
       "208700.000000    18\n",
       "279725.000000    17\n",
       "378725.000000    17\n",
       "732433.333333    17\n",
       "341766.666667    16\n",
       "400650.000000    16\n",
       "378450.000000    15\n",
       "690400.000000    15\n",
       "367180.000000    15\n",
       "278675.000000    14\n",
       "556025.000000    13\n",
       "257400.000000    13\n",
       "380350.000000    12\n",
       "                 ..\n",
       "123408.900000     1\n",
       "139962.500000     1\n",
       "137211.111111     1\n",
       "805733.333333     1\n",
       "21228.571429      1\n",
       "41450.000000      1\n",
       "254626.111111     1\n",
       "434580.000000     1\n",
       "237975.000000     1\n",
       "136142.857143     1\n",
       "41375.000000      1\n",
       "631200.000000     1\n",
       "172450.000000     1\n",
       "303525.000000     1\n",
       "536300.000000     1\n",
       "283185.714286     1\n",
       "246494.100000     1\n",
       "382133.333333     1\n",
       "238010.000000     1\n",
       "106940.000000     1\n",
       "228283.333333     1\n",
       "260925.000000     1\n",
       "238030.000000     1\n",
       "41425.000000      1\n",
       "192644.444444     1\n",
       "41430.000000      1\n",
       "175666.666667     1\n",
       "248042.857143     1\n",
       "41266.666667      1\n",
       "34083.333333      1\n",
       "Name: kw_avg_max, dtype: int64"
      ]
     },
     "execution_count": 41,
     "metadata": {},
     "output_type": "execute_result"
    }
   ],
   "source": [
    "df.kw_avg_max.value_counts()"
   ]
  },
  {
   "cell_type": "code",
   "execution_count": 39,
   "metadata": {
    "collapsed": false
   },
   "outputs": [
    {
     "data": {
      "text/plain": [
       "<matplotlib.axes._subplots.AxesSubplot at 0x14f744e0>"
      ]
     },
     "execution_count": 39,
     "metadata": {},
     "output_type": "execute_result"
    },
    {
     "data": {
      "image/png": "[encoded data removed]",
      "text/plain": [
       "<matplotlib.figure.Figure at 0x14792160>"
      ]
     },
     "metadata": {},
     "output_type": "display_data"
    }
   ],
   "source": [
    "df.kw_avg_max.value_counts().plot('hist')"
   ]
  },
  {
   "cell_type": "code",
   "execution_count": 42,
   "metadata": {
    "collapsed": false
   },
   "outputs": [
    {
     "data": {
      "text/plain": [
       "0.000000       17102\n",
       "1100.000000      154\n",
       "1200.000000      133\n",
       "1300.000000      123\n",
       "1400.000000      110\n",
       "1500.000000       99\n",
       "1600.000000       85\n",
       "1000.000000       68\n",
       "1700.000000       68\n",
       "1900.000000       65\n",
       "1800.000000       58\n",
       "2000.000000       53\n",
       "2200.000000       34\n",
       "2100.000000       26\n",
       "2300.000000       25\n",
       "1550.000000       24\n",
       "1450.000000       24\n",
       "2500.000000       22\n",
       "2400.000000       21\n",
       "2423.343208       19\n",
       "1150.000000       19\n",
       "1350.000000       18\n",
       "1924.437956       17\n",
       "1650.000000       17\n",
       "1950.000000       16\n",
       "2600.000000       16\n",
       "1850.000000       15\n",
       "1750.000000       15\n",
       "1250.000000       15\n",
       "2700.000000       11\n",
       "               ...  \n",
       "2711.266238        1\n",
       "1548.416667        1\n",
       "2470.920000        1\n",
       "2080.564103        1\n",
       "2056.333333        1\n",
       "1002.700000        1\n",
       "2040.473868        1\n",
       "2818.495308        1\n",
       "2622.600000        1\n",
       "2970.885906        1\n",
       "2863.513834        1\n",
       "2150.969880        1\n",
       "2145.488432        1\n",
       "2927.651515        1\n",
       "1179.333333        1\n",
       "1395.169492        1\n",
       "1439.107143        1\n",
       "1004.783654        1\n",
       "1428.661290        1\n",
       "1495.172414        1\n",
       "2877.128916        1\n",
       "2763.826177        1\n",
       "1701.145455        1\n",
       "2882.997067        1\n",
       "2381.079096        1\n",
       "1194.261538        1\n",
       "1096.086957        1\n",
       "1351.416667        1\n",
       "2865.759744        1\n",
       "3573.398428        1\n",
       "Name: kw_min_avg, dtype: int64"
      ]
     },
     "execution_count": 42,
     "metadata": {},
     "output_type": "execute_result"
    }
   ],
   "source": [
    "df.kw_min_avg.value_counts()"
   ]
  },
  {
   "cell_type": "code",
   "execution_count": 40,
   "metadata": {
    "collapsed": false
   },
   "outputs": [
    {
     "data": {
      "text/plain": [
       "<matplotlib.axes._subplots.AxesSubplot at 0x14f472e8>"
      ]
     },
     "execution_count": 40,
     "metadata": {},
     "output_type": "execute_result"
    },
    {
     "data": {
      "image/png": "[encoded data removed]",
      "text/plain": [
       "<matplotlib.figure.Figure at 0x14d3a358>"
      ]
     },
     "metadata": {},
     "output_type": "display_data"
    }
   ],
   "source": [
    "df.kw_min_avg.value_counts().plot('hist')"
   ]
  },
  {
   "cell_type": "code",
   "execution_count": 43,
   "metadata": {
    "collapsed": false
   },
   "outputs": [
    {
     "data": {
      "text/plain": [
       "0.000000        79\n",
       "3483.305109     44\n",
       "3517.727146     44\n",
       "3445.033990     41\n",
       "3396.691809     36\n",
       "3399.331393     36\n",
       "3483.538140     34\n",
       "3449.834774     34\n",
       "3572.013501     34\n",
       "4600.000000     33\n",
       "3449.327025     33\n",
       "3443.120085     33\n",
       "3447.585836     33\n",
       "3567.760761     33\n",
       "3387.960559     33\n",
       "3287.637782     32\n",
       "3575.743282     32\n",
       "3578.303885     32\n",
       "3421.278567     32\n",
       "3490.598812     32\n",
       "3406.453889     32\n",
       "3437.392296     31\n",
       "3428.871058     31\n",
       "3256.261714     30\n",
       "3481.799712     30\n",
       "3532.775830     29\n",
       "3446.075532     29\n",
       "3454.049397     29\n",
       "3573.086415     29\n",
       "3481.800852     29\n",
       "                ..\n",
       "4110.818182      1\n",
       "3642.891239      1\n",
       "4774.700000      1\n",
       "4368.472249      1\n",
       "10329.100775     1\n",
       "4841.222222      1\n",
       "4415.501764      1\n",
       "12807.333333     1\n",
       "4851.800000      1\n",
       "2892.708333      1\n",
       "24276.800000     1\n",
       "3740.916667      1\n",
       "9016.666667      1\n",
       "4654.576065      1\n",
       "3387.864198      1\n",
       "8533.333333      1\n",
       "3504.730375      1\n",
       "6077.111111      1\n",
       "6781.476190      1\n",
       "4109.449015      1\n",
       "3807.493870      1\n",
       "4370.025641      1\n",
       "3489.828970      1\n",
       "3797.629630      1\n",
       "5280.993865      1\n",
       "6682.285714      1\n",
       "3768.142857      1\n",
       "7323.253846      1\n",
       "3883.243902      1\n",
       "8492.586667      1\n",
       "Name: kw_max_avg, dtype: int64"
      ]
     },
     "execution_count": 43,
     "metadata": {},
     "output_type": "execute_result"
    }
   ],
   "source": [
    "df.kw_max_avg.value_counts()"
   ]
  },
  {
   "cell_type": "code",
   "execution_count": 41,
   "metadata": {
    "collapsed": false
   },
   "outputs": [
    {
     "data": {
      "text/plain": [
       "<matplotlib.axes._subplots.AxesSubplot at 0x157a0390>"
      ]
     },
     "execution_count": 41,
     "metadata": {},
     "output_type": "execute_result"
    },
    {
     "data": {
      "image/png": "[encoded data removed]",
      "text/plain": [
       "<matplotlib.figure.Figure at 0x154c72b0>"
      ]
     },
     "metadata": {},
     "output_type": "display_data"
    }
   ],
   "source": [
    "df.kw_max_avg.value_counts().plot('hist')"
   ]
  },
  {
   "cell_type": "code",
   "execution_count": 45,
   "metadata": {
    "collapsed": false
   },
   "outputs": [
    {
     "data": {
      "text/plain": [
       "0.000000        79\n",
       "2688.989334      8\n",
       "2902.801465      4\n",
       "2167.227240      4\n",
       "3941.365969      4\n",
       "4109.953795      4\n",
       "2587.239981      3\n",
       "2722.114330      3\n",
       "2637.319336      3\n",
       "3801.525369      3\n",
       "2913.271052      3\n",
       "2956.048877      3\n",
       "3434.604577      3\n",
       "2814.360326      3\n",
       "2826.011525      3\n",
       "3867.661617      3\n",
       "2948.485397      3\n",
       "2704.131432      3\n",
       "4259.228195      3\n",
       "4053.820694      3\n",
       "3625.778060      3\n",
       "2528.967137      3\n",
       "2708.982042      3\n",
       "2783.102994      3\n",
       "2770.449584      3\n",
       "2872.389093      2\n",
       "2344.167783      2\n",
       "3314.510247      2\n",
       "4012.104028      2\n",
       "2662.823530      2\n",
       "                ..\n",
       "2962.180207      1\n",
       "2908.568578      1\n",
       "1898.882597      1\n",
       "2305.411308      1\n",
       "3774.189797      1\n",
       "1985.450296      1\n",
       "3995.587113      1\n",
       "1605.795997      1\n",
       "1597.706640      1\n",
       "3306.750194      1\n",
       "2035.552364      1\n",
       "5475.128348      1\n",
       "2796.402016      1\n",
       "4747.836436      1\n",
       "2835.718075      1\n",
       "3434.862600      1\n",
       "2269.322549      1\n",
       "2533.601840      1\n",
       "2737.639924      1\n",
       "2555.969671      1\n",
       "3342.131131      1\n",
       "3371.259435      1\n",
       "2744.030542      1\n",
       "2784.584870      1\n",
       "3241.440694      1\n",
       "11477.512762     1\n",
       "3445.864514      1\n",
       "3530.760020      1\n",
       "2299.681804      1\n",
       "6460.314357      1\n",
       "Name: kw_avg_avg, dtype: int64"
      ]
     },
     "execution_count": 45,
     "metadata": {},
     "output_type": "execute_result"
    }
   ],
   "source": [
    "df.kw_avg_avg.value_counts()"
   ]
  },
  {
   "cell_type": "code",
   "execution_count": 42,
   "metadata": {
    "collapsed": false
   },
   "outputs": [
    {
     "data": {
      "text/plain": [
       "<matplotlib.axes._subplots.AxesSubplot at 0x1534a5c0>"
      ]
     },
     "execution_count": 42,
     "metadata": {},
     "output_type": "execute_result"
    },
    {
     "data": {
      "image/png": "[encoded data removed]",
      "text/plain": [
       "<matplotlib.figure.Figure at 0x156650f0>"
      ]
     },
     "metadata": {},
     "output_type": "display_data"
    }
   ],
   "source": [
    "df.kw_avg_avg.value_counts().plot('hist')"
   ]
  },
  {
   "cell_type": "code",
   "execution_count": 46,
   "metadata": {
    "collapsed": false
   },
   "outputs": [
    {
     "data": {
      "text/plain": [
       "0.0         7174\n",
       "1100.0      1727\n",
       "1300.0      1362\n",
       "1200.0      1349\n",
       "1400.0      1106\n",
       "1500.0       973\n",
       "1000.0       878\n",
       "1600.0       827\n",
       "1700.0       711\n",
       "1900.0       669\n",
       "2000.0       656\n",
       "1800.0       621\n",
       "2200.0       522\n",
       "2100.0       477\n",
       "2500.0       422\n",
       "2700.0       417\n",
       "2300.0       370\n",
       "2400.0       347\n",
       "2900.0       309\n",
       "3000.0       305\n",
       "3200.0       274\n",
       "2600.0       269\n",
       "2800.0       254\n",
       "3500.0       228\n",
       "3100.0       227\n",
       "4100.0       203\n",
       "3400.0       198\n",
       "3600.0       189\n",
       "3300.0       183\n",
       "3900.0       171\n",
       "            ... \n",
       "241.0          1\n",
       "237.0          1\n",
       "344.0          1\n",
       "347.0          1\n",
       "44300.0        1\n",
       "355.0          1\n",
       "27400.0        1\n",
       "26500.0        1\n",
       "407.0          1\n",
       "26000.0        1\n",
       "52600.0        1\n",
       "25100.0        1\n",
       "118700.0       1\n",
       "397.0          1\n",
       "53700.0        1\n",
       "389.0          1\n",
       "631.0          1\n",
       "23400.0        1\n",
       "22600.0        1\n",
       "378.0          1\n",
       "374.0          1\n",
       "372.0          1\n",
       "66900.0        1\n",
       "22000.0        1\n",
       "21800.0        1\n",
       "54200.0        1\n",
       "67700.0        1\n",
       "21500.0        1\n",
       "356.0          1\n",
       "383.0          1\n",
       "Name: self_reference_min_shares, dtype: int64"
      ]
     },
     "execution_count": 46,
     "metadata": {},
     "output_type": "execute_result"
    }
   ],
   "source": [
    "df.self_reference_min_shares.value_counts()"
   ]
  },
  {
   "cell_type": "code",
   "execution_count": 43,
   "metadata": {
    "collapsed": false
   },
   "outputs": [
    {
     "data": {
      "text/plain": [
       "<matplotlib.axes._subplots.AxesSubplot at 0x15f00240>"
      ]
     },
     "execution_count": 43,
     "metadata": {},
     "output_type": "execute_result"
    },
    {
     "data": {
      "image/png": "[encoded data removed]",
      "text/plain": [
       "<matplotlib.figure.Figure at 0x15f59a90>"
      ]
     },
     "metadata": {},
     "output_type": "display_data"
    }
   ],
   "source": [
    "df.self_reference_min_shares.value_counts().plot('hist')"
   ]
  },
  {
   "cell_type": "code",
   "execution_count": 47,
   "metadata": {
    "collapsed": false
   },
   "outputs": [
    {
     "data": {
      "text/plain": [
       "0.0         7175\n",
       "1200.0       766\n",
       "1100.0       748\n",
       "1300.0       737\n",
       "1500.0       697\n",
       "1400.0       683\n",
       "1900.0       681\n",
       "1600.0       589\n",
       "2000.0       578\n",
       "1800.0       555\n",
       "1700.0       553\n",
       "2700.0       513\n",
       "2500.0       507\n",
       "2200.0       505\n",
       "2100.0       433\n",
       "2400.0       405\n",
       "3200.0       401\n",
       "2300.0       378\n",
       "1000.0       371\n",
       "3000.0       363\n",
       "2600.0       350\n",
       "2900.0       349\n",
       "3500.0       322\n",
       "2800.0       311\n",
       "5200.0       302\n",
       "3400.0       299\n",
       "3100.0       299\n",
       "4100.0       290\n",
       "3600.0       276\n",
       "4200.0       276\n",
       "            ... \n",
       "97200.0        1\n",
       "517.0          1\n",
       "509.0          1\n",
       "141400.0       1\n",
       "579.0          1\n",
       "580.0          1\n",
       "855.0          1\n",
       "644.0          1\n",
       "843.0          1\n",
       "95300.0        1\n",
       "80400.0        1\n",
       "631.0          1\n",
       "628.0          1\n",
       "144400.0       1\n",
       "36200.0        1\n",
       "622.0          1\n",
       "35200.0        1\n",
       "618.0          1\n",
       "583.0          1\n",
       "613.0          1\n",
       "34900.0        1\n",
       "607.0          1\n",
       "122800.0       1\n",
       "600.0          1\n",
       "76900.0        1\n",
       "595.0          1\n",
       "108500.0       1\n",
       "98500.0        1\n",
       "584.0          1\n",
       "655.0          1\n",
       "Name: self_reference_max_shares, dtype: int64"
      ]
     },
     "execution_count": 47,
     "metadata": {},
     "output_type": "execute_result"
    }
   ],
   "source": [
    "df.self_reference_max_shares.value_counts()"
   ]
  },
  {
   "cell_type": "code",
   "execution_count": 44,
   "metadata": {
    "collapsed": false
   },
   "outputs": [
    {
     "data": {
      "text/plain": [
       "<matplotlib.axes._subplots.AxesSubplot at 0x1599a208>"
      ]
     },
     "execution_count": 44,
     "metadata": {},
     "output_type": "execute_result"
    },
    {
     "data": {
      "image/png": "[encoded data removed]",
      "text/plain": [
       "<matplotlib.figure.Figure at 0x15b79390>"
      ]
     },
     "metadata": {},
     "output_type": "display_data"
    }
   ],
   "source": [
    "df.self_reference_max_shares.value_counts().plot('hist')"
   ]
  },
  {
   "cell_type": "code",
   "execution_count": 48,
   "metadata": {
    "collapsed": false
   },
   "outputs": [
    {
     "data": {
      "text/plain": [
       "0.000000        7174\n",
       "1200.000000      570\n",
       "1300.000000      557\n",
       "1100.000000      540\n",
       "1400.000000      481\n",
       "1500.000000      476\n",
       "1600.000000      424\n",
       "1700.000000      404\n",
       "2000.000000      402\n",
       "1900.000000      372\n",
       "1800.000000      369\n",
       "2200.000000      337\n",
       "2500.000000      336\n",
       "2100.000000      319\n",
       "2700.000000      314\n",
       "1000.000000      280\n",
       "2300.000000      268\n",
       "2400.000000      261\n",
       "3000.000000      242\n",
       "2900.000000      237\n",
       "3200.000000      236\n",
       "2800.000000      223\n",
       "2600.000000      219\n",
       "3100.000000      203\n",
       "3500.000000      199\n",
       "3300.000000      180\n",
       "3400.000000      179\n",
       "4100.000000      178\n",
       "3600.000000      162\n",
       "3900.000000      154\n",
       "                ... \n",
       "55050.000000       1\n",
       "9245.333333        1\n",
       "2251.400000        1\n",
       "25347.250000       1\n",
       "986.666667         1\n",
       "2127.333333        1\n",
       "30750.000000       1\n",
       "2310.766667        1\n",
       "1419.333333        1\n",
       "1222.285714        1\n",
       "30800.000000       1\n",
       "2253.166667        1\n",
       "6168.666667        1\n",
       "2164.666667        1\n",
       "30850.000000       1\n",
       "2686.714286        1\n",
       "2107.806452        1\n",
       "3979.666667        1\n",
       "979.666667         1\n",
       "1056.833333        1\n",
       "2919.200000        1\n",
       "4464.705882        1\n",
       "2561.666667        1\n",
       "6626.333333        1\n",
       "13767.666667       1\n",
       "3866.600000        1\n",
       "1301.333333        1\n",
       "31100.000000       1\n",
       "2256.111111        1\n",
       "4322.666667        1\n",
       "Name: self_reference_avg_sharess, dtype: int64"
      ]
     },
     "execution_count": 48,
     "metadata": {},
     "output_type": "execute_result"
    }
   ],
   "source": [
    "df.self_reference_avg_sharess.value_counts()"
   ]
  },
  {
   "cell_type": "code",
   "execution_count": 45,
   "metadata": {
    "collapsed": false
   },
   "outputs": [
    {
     "data": {
      "text/plain": [
       "<matplotlib.axes._subplots.AxesSubplot at 0x15c13908>"
      ]
     },
     "execution_count": 45,
     "metadata": {},
     "output_type": "execute_result"
    },
    {
     "data": {
      "image/png": "[encoded data removed]",
      "text/plain": [
       "<matplotlib.figure.Figure at 0x15d391d0>"
      ]
     },
     "metadata": {},
     "output_type": "display_data"
    }
   ],
   "source": [
    "df.self_reference_avg_sharess.value_counts().plot('hist')"
   ]
  },
  {
   "cell_type": "code",
   "execution_count": 49,
   "metadata": {
    "collapsed": false
   },
   "outputs": [
    {
     "data": {
      "text/plain": [
       "0.0    32983\n",
       "1.0     6661\n",
       "Name: weekday_is_monday, dtype: int64"
      ]
     },
     "execution_count": 49,
     "metadata": {},
     "output_type": "execute_result"
    }
   ],
   "source": [
    "df.weekday_is_monday.value_counts()"
   ]
  },
  {
   "cell_type": "code",
   "execution_count": 46,
   "metadata": {
    "collapsed": false
   },
   "outputs": [
    {
     "data": {
      "text/plain": [
       "<matplotlib.axes._subplots.AxesSubplot at 0x1645c390>"
      ]
     },
     "execution_count": 46,
     "metadata": {},
     "output_type": "execute_result"
    },
    {
     "data": {
      "image/png": "[encoded data removed]",
      "text/plain": [
       "<matplotlib.figure.Figure at 0x15b83668>"
      ]
     },
     "metadata": {},
     "output_type": "display_data"
    }
   ],
   "source": [
    "df.weekday_is_monday.value_counts().plot('bar')"
   ]
  },
  {
   "cell_type": "code",
   "execution_count": null,
   "metadata": {
    "collapsed": true
   },
   "outputs": [],
   "source": []
  },
  {
   "cell_type": "code",
   "execution_count": 50,
   "metadata": {
    "collapsed": false
   },
   "outputs": [
    {
     "data": {
      "text/plain": [
       "0.0    32254\n",
       "1.0     7390\n",
       "Name: weekday_is_tuesday, dtype: int64"
      ]
     },
     "execution_count": 50,
     "metadata": {},
     "output_type": "execute_result"
    }
   ],
   "source": [
    "df.weekday_is_tuesday.value_counts()"
   ]
  },
  {
   "cell_type": "code",
   "execution_count": 47,
   "metadata": {
    "collapsed": false
   },
   "outputs": [
    {
     "data": {
      "text/plain": [
       "<matplotlib.axes._subplots.AxesSubplot at 0x15edc6a0>"
      ]
     },
     "execution_count": 47,
     "metadata": {},
     "output_type": "execute_result"
    },
    {
     "data": {
      "image/png": "[encoded data removed]",
      "text/plain": [
       "<matplotlib.figure.Figure at 0x159c6198>"
      ]
     },
     "metadata": {},
     "output_type": "display_data"
    }
   ],
   "source": [
    "df.weekday_is_tuesday.value_counts().plot('bar')"
   ]
  },
  {
   "cell_type": "code",
   "execution_count": 51,
   "metadata": {
    "collapsed": false
   },
   "outputs": [
    {
     "data": {
      "text/plain": [
       "0.0    32209\n",
       "1.0     7435\n",
       "Name: weekday_is_wednesday, dtype: int64"
      ]
     },
     "execution_count": 51,
     "metadata": {},
     "output_type": "execute_result"
    }
   ],
   "source": [
    "df.weekday_is_wednesday.value_counts()"
   ]
  },
  {
   "cell_type": "code",
   "execution_count": 48,
   "metadata": {
    "collapsed": false
   },
   "outputs": [
    {
     "data": {
      "text/plain": [
       "<matplotlib.axes._subplots.AxesSubplot at 0x164a7e10>"
      ]
     },
     "execution_count": 48,
     "metadata": {},
     "output_type": "execute_result"
    },
    {
     "data": {
      "image/png": "[encoded data removed]",
      "text/plain": [
       "<matplotlib.figure.Figure at 0x164f9ef0>"
      ]
     },
     "metadata": {},
     "output_type": "display_data"
    }
   ],
   "source": [
    "df.weekday_is_wednesday.value_counts().plot('bar')"
   ]
  },
  {
   "cell_type": "code",
   "execution_count": 52,
   "metadata": {
    "collapsed": false
   },
   "outputs": [
    {
     "data": {
      "text/plain": [
       "0.0    32377\n",
       "1.0     7267\n",
       "Name: weekday_is_thursday, dtype: int64"
      ]
     },
     "execution_count": 52,
     "metadata": {},
     "output_type": "execute_result"
    }
   ],
   "source": [
    "df.weekday_is_thursday.value_counts()"
   ]
  },
  {
   "cell_type": "code",
   "execution_count": 49,
   "metadata": {
    "collapsed": false
   },
   "outputs": [
    {
     "data": {
      "text/plain": [
       "<matplotlib.axes._subplots.AxesSubplot at 0x168abfd0>"
      ]
     },
     "execution_count": 49,
     "metadata": {},
     "output_type": "execute_result"
    },
    {
     "data": {
      "image/png": "[encoded data removed]",
      "text/plain": [
       "<matplotlib.figure.Figure at 0x164f9eb8>"
      ]
     },
     "metadata": {},
     "output_type": "display_data"
    }
   ],
   "source": [
    "df.weekday_is_thursday.value_counts().plot('bar')"
   ]
  },
  {
   "cell_type": "code",
   "execution_count": 53,
   "metadata": {
    "collapsed": false
   },
   "outputs": [
    {
     "data": {
      "text/plain": [
       "0.0    33943\n",
       "1.0     5701\n",
       "Name: weekday_is_friday, dtype: int64"
      ]
     },
     "execution_count": 53,
     "metadata": {},
     "output_type": "execute_result"
    }
   ],
   "source": [
    "df.weekday_is_friday.value_counts()"
   ]
  },
  {
   "cell_type": "code",
   "execution_count": 50,
   "metadata": {
    "collapsed": false
   },
   "outputs": [
    {
     "data": {
      "text/plain": [
       "<matplotlib.axes._subplots.AxesSubplot at 0x16b52080>"
      ]
     },
     "execution_count": 50,
     "metadata": {},
     "output_type": "execute_result"
    },
    {
     "data": {
      "image/png": "[encoded data removed]",
      "text/plain": [
       "<matplotlib.figure.Figure at 0x16c0b160>"
      ]
     },
     "metadata": {},
     "output_type": "display_data"
    }
   ],
   "source": [
    "df.weekday_is_friday.value_counts().plot('bar')"
   ]
  },
  {
   "cell_type": "code",
   "execution_count": 54,
   "metadata": {
    "collapsed": false
   },
   "outputs": [
    {
     "data": {
      "text/plain": [
       "0.0    37191\n",
       "1.0     2453\n",
       "Name: weekday_is_saturday, dtype: int64"
      ]
     },
     "execution_count": 54,
     "metadata": {},
     "output_type": "execute_result"
    }
   ],
   "source": [
    "df.weekday_is_saturday.value_counts()"
   ]
  },
  {
   "cell_type": "code",
   "execution_count": 51,
   "metadata": {
    "collapsed": false
   },
   "outputs": [
    {
     "data": {
      "text/plain": [
       "<matplotlib.axes._subplots.AxesSubplot at 0x166edc50>"
      ]
     },
     "execution_count": 51,
     "metadata": {},
     "output_type": "execute_result"
    },
    {
     "data": {
      "image/png": "[encoded data removed]",
      "text/plain": [
       "<matplotlib.figure.Figure at 0x166d9ef0>"
      ]
     },
     "metadata": {},
     "output_type": "display_data"
    }
   ],
   "source": [
    "df.weekday_is_saturday.value_counts().plot('bar')"
   ]
  },
  {
   "cell_type": "code",
   "execution_count": 55,
   "metadata": {
    "collapsed": false
   },
   "outputs": [
    {
     "data": {
      "text/plain": [
       "0.0    36907\n",
       "1.0     2737\n",
       "Name: weekday_is_sunday, dtype: int64"
      ]
     },
     "execution_count": 55,
     "metadata": {},
     "output_type": "execute_result"
    }
   ],
   "source": [
    "df.weekday_is_sunday.value_counts()"
   ]
  },
  {
   "cell_type": "code",
   "execution_count": 52,
   "metadata": {
    "collapsed": false
   },
   "outputs": [
    {
     "data": {
      "text/plain": [
       "<matplotlib.axes._subplots.AxesSubplot at 0x16fd6ba8>"
      ]
     },
     "execution_count": 52,
     "metadata": {},
     "output_type": "execute_result"
    },
    {
     "data": {
      "image/png": "[encoded data removed]",
      "text/plain": [
       "<matplotlib.figure.Figure at 0x17058c88>"
      ]
     },
     "metadata": {},
     "output_type": "display_data"
    }
   ],
   "source": [
    "df.weekday_is_sunday.value_counts().plot('bar')"
   ]
  },
  {
   "cell_type": "code",
   "execution_count": 56,
   "metadata": {
    "collapsed": false
   },
   "outputs": [
    {
     "data": {
      "text/plain": [
       "0.0    34454\n",
       "1.0     5190\n",
       "Name: is_weekend, dtype: int64"
      ]
     },
     "execution_count": 56,
     "metadata": {},
     "output_type": "execute_result"
    }
   ],
   "source": [
    "df.is_weekend.value_counts()"
   ]
  },
  {
   "cell_type": "code",
   "execution_count": 53,
   "metadata": {
    "collapsed": false
   },
   "outputs": [
    {
     "data": {
      "text/plain": [
       "<matplotlib.axes._subplots.AxesSubplot at 0x1723a128>"
      ]
     },
     "execution_count": 53,
     "metadata": {},
     "output_type": "execute_result"
    },
    {
     "data": {
      "image/png": "[encoded data removed]",
      "text/plain": [
       "<matplotlib.figure.Figure at 0x172f84e0>"
      ]
     },
     "metadata": {},
     "output_type": "display_data"
    }
   ],
   "source": [
    "df.is_weekend.value_counts().plot('bar')"
   ]
  },
  {
   "cell_type": "code",
   "execution_count": 57,
   "metadata": {
    "collapsed": false
   },
   "outputs": [
    {
     "data": {
      "text/plain": [
       "0.200000    51\n",
       "0.050000    17\n",
       "0.050000    14\n",
       "0.920000    12\n",
       "0.050000    12\n",
       "0.040000    10\n",
       "0.066667     9\n",
       "0.066667     9\n",
       "0.066667     8\n",
       "0.066667     7\n",
       "0.920000     7\n",
       "0.066667     6\n",
       "0.050000     6\n",
       "0.040000     5\n",
       "0.066667     5\n",
       "0.050000     5\n",
       "0.040000     4\n",
       "0.040000     4\n",
       "0.050000     4\n",
       "0.040000     4\n",
       "0.839998     4\n",
       "0.028571     3\n",
       "0.040000     3\n",
       "0.899999     3\n",
       "0.050000     3\n",
       "0.100000     3\n",
       "0.066667     3\n",
       "0.040001     3\n",
       "0.066667     3\n",
       "0.066668     3\n",
       "            ..\n",
       "0.692018     1\n",
       "0.175613     1\n",
       "0.028572     1\n",
       "0.027154     1\n",
       "0.630106     1\n",
       "0.026825     1\n",
       "0.022273     1\n",
       "0.028572     1\n",
       "0.028575     1\n",
       "0.040001     1\n",
       "0.033335     1\n",
       "0.289871     1\n",
       "0.033668     1\n",
       "0.022244     1\n",
       "0.025001     1\n",
       "0.680902     1\n",
       "0.033334     1\n",
       "0.028575     1\n",
       "0.293706     1\n",
       "0.020155     1\n",
       "0.050000     1\n",
       "0.026158     1\n",
       "0.040006     1\n",
       "0.028573     1\n",
       "0.025000     1\n",
       "0.025582     1\n",
       "0.022278     1\n",
       "0.028572     1\n",
       "0.033546     1\n",
       "0.000000     1\n",
       "Name: LDA_00, dtype: int64"
      ]
     },
     "execution_count": 57,
     "metadata": {},
     "output_type": "execute_result"
    }
   ],
   "source": [
    "df.LDA_00.value_counts()"
   ]
  },
  {
   "cell_type": "code",
   "execution_count": 58,
   "metadata": {
    "collapsed": false
   },
   "outputs": [
    {
     "data": {
      "text/plain": [
       "0.200000    51\n",
       "0.050000    36\n",
       "0.066667    30\n",
       "0.066667    25\n",
       "0.040000    24\n",
       "0.066667    22\n",
       "0.066667    20\n",
       "0.050000    16\n",
       "0.050000    15\n",
       "0.040000    12\n",
       "0.050000    11\n",
       "0.020000    11\n",
       "0.050000    10\n",
       "0.040000     9\n",
       "0.025000     9\n",
       "0.050000     9\n",
       "0.066667     8\n",
       "0.050000     8\n",
       "0.050000     6\n",
       "0.040000     6\n",
       "0.066667     6\n",
       "0.040000     6\n",
       "0.050000     6\n",
       "0.040000     5\n",
       "0.033333     5\n",
       "0.040000     5\n",
       "0.050000     5\n",
       "0.020000     5\n",
       "0.025000     5\n",
       "0.033333     5\n",
       "            ..\n",
       "0.028794     1\n",
       "0.025007     1\n",
       "0.022270     1\n",
       "0.171365     1\n",
       "0.028573     1\n",
       "0.675065     1\n",
       "0.040001     1\n",
       "0.020003     1\n",
       "0.025842     1\n",
       "0.399074     1\n",
       "0.041251     1\n",
       "0.028598     1\n",
       "0.028591     1\n",
       "0.022223     1\n",
       "0.033339     1\n",
       "0.416359     1\n",
       "0.022264     1\n",
       "0.150573     1\n",
       "0.150884     1\n",
       "0.908782     1\n",
       "0.606396     1\n",
       "0.041280     1\n",
       "0.638758     1\n",
       "0.033334     1\n",
       "0.020007     1\n",
       "0.033334     1\n",
       "0.025963     1\n",
       "0.885666     1\n",
       "0.028579     1\n",
       "0.000000     1\n",
       "Name: LDA_01, dtype: int64"
      ]
     },
     "execution_count": 58,
     "metadata": {},
     "output_type": "execute_result"
    }
   ],
   "source": [
    "df.LDA_01.value_counts()"
   ]
  },
  {
   "cell_type": "code",
   "execution_count": 59,
   "metadata": {
    "collapsed": false
   },
   "outputs": [
    {
     "data": {
      "text/plain": [
       "0.200000    51\n",
       "0.020000     6\n",
       "0.022222     5\n",
       "0.020000     4\n",
       "0.040001     3\n",
       "0.020000     3\n",
       "0.028571     3\n",
       "0.025000     3\n",
       "0.839996     3\n",
       "0.839997     2\n",
       "0.733325     2\n",
       "0.033333     2\n",
       "0.839999     2\n",
       "0.040000     2\n",
       "0.839997     2\n",
       "0.799995     2\n",
       "0.050000     2\n",
       "0.100000     2\n",
       "0.799999     2\n",
       "0.100000     2\n",
       "0.799996     2\n",
       "0.066667     2\n",
       "0.040000     2\n",
       "0.839997     2\n",
       "0.066667     2\n",
       "0.839996     2\n",
       "0.866664     2\n",
       "0.839995     2\n",
       "0.040000     2\n",
       "0.033334     2\n",
       "            ..\n",
       "0.028573     1\n",
       "0.911109     1\n",
       "0.355641     1\n",
       "0.242969     1\n",
       "0.351355     1\n",
       "0.033338     1\n",
       "0.025004     1\n",
       "0.496551     1\n",
       "0.239840     1\n",
       "0.033333     1\n",
       "0.025033     1\n",
       "0.839998     1\n",
       "0.581550     1\n",
       "0.431310     1\n",
       "0.911098     1\n",
       "0.789234     1\n",
       "0.866664     1\n",
       "0.033334     1\n",
       "0.025001     1\n",
       "0.040001     1\n",
       "0.233659     1\n",
       "0.025108     1\n",
       "0.028572     1\n",
       "0.264061     1\n",
       "0.909911     1\n",
       "0.033370     1\n",
       "0.040000     1\n",
       "0.022251     1\n",
       "0.799996     1\n",
       "0.000000     1\n",
       "Name: LDA_02, dtype: int64"
      ]
     },
     "execution_count": 59,
     "metadata": {},
     "output_type": "execute_result"
    }
   ],
   "source": [
    "df.LDA_02.value_counts()"
   ]
  },
  {
   "cell_type": "code",
   "execution_count": 60,
   "metadata": {
    "collapsed": false
   },
   "outputs": [
    {
     "data": {
      "text/plain": [
       "0.066667    58\n",
       "0.200000    51\n",
       "0.050000    25\n",
       "0.040000    25\n",
       "0.020000    19\n",
       "0.050000    19\n",
       "0.050000    18\n",
       "0.050000    18\n",
       "0.050000    14\n",
       "0.040000    13\n",
       "0.066667    12\n",
       "0.040000    11\n",
       "0.066667    10\n",
       "0.050000     9\n",
       "0.025000     9\n",
       "0.100000     8\n",
       "0.066667     8\n",
       "0.066667     8\n",
       "0.040000     8\n",
       "0.050000     7\n",
       "0.040000     6\n",
       "0.066667     6\n",
       "0.050000     6\n",
       "0.022222     6\n",
       "0.050000     6\n",
       "0.066667     6\n",
       "0.040000     6\n",
       "0.033333     5\n",
       "0.050000     5\n",
       "0.040000     5\n",
       "            ..\n",
       "0.040297     1\n",
       "0.022272     1\n",
       "0.769725     1\n",
       "0.022261     1\n",
       "0.898933     1\n",
       "0.025000     1\n",
       "0.040006     1\n",
       "0.025001     1\n",
       "0.020001     1\n",
       "0.050362     1\n",
       "0.020002     1\n",
       "0.533799     1\n",
       "0.562268     1\n",
       "0.741128     1\n",
       "0.025002     1\n",
       "0.034139     1\n",
       "0.022223     1\n",
       "0.142907     1\n",
       "0.884448     1\n",
       "0.730240     1\n",
       "0.398283     1\n",
       "0.157037     1\n",
       "0.652587     1\n",
       "0.028585     1\n",
       "0.020084     1\n",
       "0.020467     1\n",
       "0.715805     1\n",
       "0.033336     1\n",
       "0.728291     1\n",
       "0.028632     1\n",
       "Name: LDA_03, dtype: int64"
      ]
     },
     "execution_count": 60,
     "metadata": {},
     "output_type": "execute_result"
    }
   ],
   "source": [
    "df.LDA_03.value_counts()"
   ]
  },
  {
   "cell_type": "code",
   "execution_count": 61,
   "metadata": {
    "collapsed": false
   },
   "outputs": [
    {
     "data": {
      "text/plain": [
       "0.200000    51\n",
       "0.020000    19\n",
       "0.066667     8\n",
       "0.040000     8\n",
       "0.040000     6\n",
       "0.050000     5\n",
       "0.040000     5\n",
       "0.050000     5\n",
       "0.040000     5\n",
       "0.050000     5\n",
       "0.040000     5\n",
       "0.025000     4\n",
       "0.040000     4\n",
       "0.040000     4\n",
       "0.040000     4\n",
       "0.040000     4\n",
       "0.050000     4\n",
       "0.066667     4\n",
       "0.040000     4\n",
       "0.050000     3\n",
       "0.040000     3\n",
       "0.050000     3\n",
       "0.050000     3\n",
       "0.050000     3\n",
       "0.050000     3\n",
       "0.050000     3\n",
       "0.028572     3\n",
       "0.040000     3\n",
       "0.050000     3\n",
       "0.050000     3\n",
       "            ..\n",
       "0.050004     1\n",
       "0.030276     1\n",
       "0.028572     1\n",
       "0.182037     1\n",
       "0.599864     1\n",
       "0.028583     1\n",
       "0.025175     1\n",
       "0.179924     1\n",
       "0.033354     1\n",
       "0.170050     1\n",
       "0.020233     1\n",
       "0.365998     1\n",
       "0.020009     1\n",
       "0.030799     1\n",
       "0.028573     1\n",
       "0.033333     1\n",
       "0.142690     1\n",
       "0.040002     1\n",
       "0.211651     1\n",
       "0.020000     1\n",
       "0.033334     1\n",
       "0.866644     1\n",
       "0.022364     1\n",
       "0.033574     1\n",
       "0.599986     1\n",
       "0.885511     1\n",
       "0.648833     1\n",
       "0.180915     1\n",
       "0.793236     1\n",
       "0.899998     1\n",
       "Name: LDA_04, dtype: int64"
      ]
     },
     "execution_count": 61,
     "metadata": {},
     "output_type": "execute_result"
    }
   ],
   "source": [
    "df.LDA_04.value_counts()"
   ]
  },
  {
   "cell_type": "code",
   "execution_count": 62,
   "metadata": {
    "collapsed": false
   },
   "outputs": [
    {
     "data": {
      "text/plain": [
       "0.000000    1184\n",
       "0.500000      36\n",
       "0.450000      26\n",
       "0.516667      25\n",
       "0.400000      24\n",
       "0.550000      24\n",
       "0.600000      24\n",
       "0.433333      23\n",
       "0.475000      22\n",
       "0.366667      21\n",
       "0.466667      21\n",
       "0.525000      20\n",
       "0.300000      20\n",
       "0.533333      19\n",
       "0.566667      18\n",
       "0.462500      18\n",
       "0.483333      17\n",
       "0.416667      17\n",
       "0.383333      16\n",
       "0.700000      15\n",
       "0.425000      15\n",
       "0.491667      15\n",
       "0.333333      15\n",
       "0.666667      14\n",
       "0.375000      14\n",
       "0.316667      13\n",
       "0.541667      13\n",
       "0.442857      13\n",
       "0.458333      13\n",
       "0.391667      12\n",
       "            ... \n",
       "0.407993       1\n",
       "0.489340       1\n",
       "0.384059       1\n",
       "0.363937       1\n",
       "0.592761       1\n",
       "0.433378       1\n",
       "0.436492       1\n",
       "0.470864       1\n",
       "0.369182       1\n",
       "0.504874       1\n",
       "0.307263       1\n",
       "0.553421       1\n",
       "0.351935       1\n",
       "0.285635       1\n",
       "0.626797       1\n",
       "0.452593       1\n",
       "0.507591       1\n",
       "0.475744       1\n",
       "0.456336       1\n",
       "0.363095       1\n",
       "0.519732       1\n",
       "0.620805       1\n",
       "0.460939       1\n",
       "0.383893       1\n",
       "0.390686       1\n",
       "0.510373       1\n",
       "0.380495       1\n",
       "0.557583       1\n",
       "0.566526       1\n",
       "0.502886       1\n",
       "Name: global_subjectivity, dtype: int64"
      ]
     },
     "execution_count": 62,
     "metadata": {},
     "output_type": "execute_result"
    }
   ],
   "source": [
    "df.global_subjectivity.value_counts()"
   ]
  },
  {
   "cell_type": "code",
   "execution_count": 63,
   "metadata": {
    "collapsed": false
   },
   "outputs": [
    {
     "data": {
      "text/plain": [
       " 0.000000    1197\n",
       " 0.150000      30\n",
       " 0.250000      28\n",
       " 0.100000      25\n",
       " 0.166667      25\n",
       " 0.125000      25\n",
       " 0.200000      23\n",
       " 0.175000      22\n",
       " 0.016667      19\n",
       " 0.300000      18\n",
       " 0.050000      17\n",
       " 0.083333      16\n",
       " 0.075000      16\n",
       " 0.216667      15\n",
       " 0.183333      15\n",
       " 0.208333      15\n",
       " 0.091667      15\n",
       " 0.025000      15\n",
       " 0.212500      15\n",
       " 0.066667      14\n",
       " 0.108333      14\n",
       " 0.141667      13\n",
       " 0.233333      13\n",
       " 0.112500      12\n",
       " 0.087500      12\n",
       " 0.088889      12\n",
       " 0.168750      12\n",
       " 0.225000      12\n",
       " 0.187500      11\n",
       " 0.275000      10\n",
       "             ... \n",
       " 0.235792       1\n",
       " 0.108148       1\n",
       " 0.147743       1\n",
       " 0.104596       1\n",
       " 0.144101       1\n",
       " 0.223743       1\n",
       " 0.237379       1\n",
       "-0.004895       1\n",
       " 0.102538       1\n",
       " 0.183493       1\n",
       " 0.080947       1\n",
       " 0.080006       1\n",
       " 0.067831       1\n",
       " 0.235224       1\n",
       " 0.221048       1\n",
       " 0.096709       1\n",
       " 0.016786       1\n",
       " 0.105462       1\n",
       " 0.117128       1\n",
       " 0.199755       1\n",
       " 0.087864       1\n",
       " 0.073999       1\n",
       " 0.128784       1\n",
       " 0.125968       1\n",
       " 0.102845       1\n",
       " 0.108452       1\n",
       " 0.157222       1\n",
       " 0.139628       1\n",
       " 0.275967       1\n",
       " 0.183594       1\n",
       "Name: global_sentiment_polarity, dtype: int64"
      ]
     },
     "execution_count": 63,
     "metadata": {},
     "output_type": "execute_result"
    }
   ],
   "source": [
    "df.global_sentiment_polarity.value_counts()"
   ]
  },
  {
   "cell_type": "code",
   "execution_count": 64,
   "metadata": {
    "collapsed": false
   },
   "outputs": [
    {
     "data": {
      "text/plain": [
       "0.000000    1217\n",
       "0.041667     120\n",
       "0.040000     117\n",
       "0.045455     117\n",
       "0.043478     109\n",
       "0.050000     105\n",
       "0.038462     105\n",
       "0.035714     104\n",
       "0.034483      98\n",
       "0.037037      92\n",
       "0.047619      91\n",
       "0.033333      91\n",
       "0.052632      85\n",
       "0.055556      81\n",
       "0.058824      80\n",
       "0.032258      78\n",
       "0.062500      78\n",
       "0.030303      78\n",
       "0.031250      75\n",
       "0.040816      70\n",
       "0.029412      69\n",
       "0.027778      65\n",
       "0.044444      59\n",
       "0.025641      55\n",
       "0.026316      55\n",
       "0.024390      55\n",
       "0.028571      53\n",
       "0.025000      53\n",
       "0.022727      52\n",
       "0.051282      50\n",
       "            ... \n",
       "0.063778       1\n",
       "0.023918       1\n",
       "0.007168       1\n",
       "0.022143       1\n",
       "0.047910       1\n",
       "0.068000       1\n",
       "0.040164       1\n",
       "0.038799       1\n",
       "0.028907       1\n",
       "0.032203       1\n",
       "0.095275       1\n",
       "0.038069       1\n",
       "0.047031       1\n",
       "0.041597       1\n",
       "0.067445       1\n",
       "0.018109       1\n",
       "0.073016       1\n",
       "0.044578       1\n",
       "0.019648       1\n",
       "0.056831       1\n",
       "0.029976       1\n",
       "0.045210       1\n",
       "0.069498       1\n",
       "0.040074       1\n",
       "0.050333       1\n",
       "0.060526       1\n",
       "0.068722       1\n",
       "0.048084       1\n",
       "0.035124       1\n",
       "0.068744       1\n",
       "Name: global_rate_positive_words, dtype: int64"
      ]
     },
     "execution_count": 64,
     "metadata": {},
     "output_type": "execute_result"
    }
   ],
   "source": [
    "df.global_rate_positive_words.value_counts()"
   ]
  },
  {
   "cell_type": "code",
   "execution_count": 65,
   "metadata": {
    "collapsed": false
   },
   "outputs": [
    {
     "data": {
      "text/plain": [
       "0.000000    2550\n",
       "0.020408      87\n",
       "0.019231      84\n",
       "0.017241      82\n",
       "0.015385      79\n",
       "0.022222      77\n",
       "0.018182      77\n",
       "0.015873      76\n",
       "0.021739      76\n",
       "0.014493      75\n",
       "0.018868      73\n",
       "0.015152      72\n",
       "0.016667      72\n",
       "0.013333      72\n",
       "0.014085      70\n",
       "0.017544      70\n",
       "0.016949      69\n",
       "0.020833      69\n",
       "0.014706      68\n",
       "0.014925      68\n",
       "0.012821      68\n",
       "0.014286      67\n",
       "0.016129      66\n",
       "0.013158      64\n",
       "0.019608      64\n",
       "0.020000      64\n",
       "0.011364      64\n",
       "0.022727      64\n",
       "0.021277      63\n",
       "0.010989      62\n",
       "            ... \n",
       "0.014590       1\n",
       "0.083333       1\n",
       "0.023471       1\n",
       "0.035387       1\n",
       "0.056818       1\n",
       "0.022431       1\n",
       "0.044649       1\n",
       "0.001493       1\n",
       "0.030570       1\n",
       "0.051675       1\n",
       "0.033791       1\n",
       "0.017597       1\n",
       "0.031298       1\n",
       "0.018160       1\n",
       "0.012638       1\n",
       "0.017720       1\n",
       "0.039695       1\n",
       "0.050909       1\n",
       "0.042478       1\n",
       "0.012520       1\n",
       "0.021915       1\n",
       "0.013881       1\n",
       "0.058201       1\n",
       "0.028704       1\n",
       "0.011094       1\n",
       "0.011921       1\n",
       "0.023425       1\n",
       "0.015219       1\n",
       "0.050718       1\n",
       "0.051661       1\n",
       "Name: global_rate_negative_words, dtype: int64"
      ]
     },
     "execution_count": 65,
     "metadata": {},
     "output_type": "execute_result"
    }
   ],
   "source": [
    "df.global_rate_negative_words.value_counts()"
   ]
  },
  {
   "cell_type": "code",
   "execution_count": 67,
   "metadata": {
    "collapsed": false
   },
   "outputs": [
    {
     "data": {
      "text/plain": [
       "0.666667    1608\n",
       "1.000000    1364\n",
       "0.750000    1302\n",
       "0.000000    1217\n",
       "0.500000    1124\n",
       "0.800000    1037\n",
       "0.714286     767\n",
       "0.833333     751\n",
       "0.600000     726\n",
       "0.857143     584\n",
       "0.777778     566\n",
       "0.625000     546\n",
       "0.700000     501\n",
       "0.571429     477\n",
       "0.727273     468\n",
       "0.875000     430\n",
       "0.818182     400\n",
       "0.769231     385\n",
       "0.888889     379\n",
       "0.692308     353\n",
       "0.636364     332\n",
       "0.555556     327\n",
       "0.785714     321\n",
       "0.733333     285\n",
       "0.846154     268\n",
       "0.900000     266\n",
       "0.615385     264\n",
       "0.642857     258\n",
       "0.687500     234\n",
       "0.909091     223\n",
       "            ... \n",
       "0.863014       1\n",
       "0.493976       1\n",
       "0.773913       1\n",
       "0.563830       1\n",
       "0.741294       1\n",
       "0.579365       1\n",
       "0.598765       1\n",
       "0.691860       1\n",
       "0.554217       1\n",
       "0.599138       1\n",
       "0.446429       1\n",
       "0.573604       1\n",
       "0.530000       1\n",
       "0.579545       1\n",
       "0.831510       1\n",
       "0.710345       1\n",
       "0.639024       1\n",
       "0.621053       1\n",
       "0.551282       1\n",
       "0.901639       1\n",
       "0.696629       1\n",
       "0.377049       1\n",
       "0.303571       1\n",
       "0.516556       1\n",
       "0.873684       1\n",
       "0.585106       1\n",
       "0.847059       1\n",
       "0.843318       1\n",
       "0.789116       1\n",
       "0.517647       1\n",
       "Name: rate_positive_words, dtype: int64"
      ]
     },
     "execution_count": 67,
     "metadata": {},
     "output_type": "execute_result"
    }
   ],
   "source": [
    "df.rate_positive_words.value_counts()"
   ]
  },
  {
   "cell_type": "code",
   "execution_count": 68,
   "metadata": {
    "collapsed": false
   },
   "outputs": [
    {
     "data": {
      "text/plain": [
       "0.000000    2550\n",
       "0.333333    1608\n",
       "0.250000    1302\n",
       "0.500000    1124\n",
       "0.200000    1037\n",
       "0.285714     767\n",
       "0.166667     751\n",
       "0.400000     726\n",
       "0.142857     584\n",
       "0.222222     566\n",
       "0.375000     546\n",
       "0.300000     501\n",
       "0.428571     477\n",
       "0.272727     468\n",
       "0.125000     430\n",
       "0.181818     400\n",
       "0.230769     385\n",
       "0.111111     379\n",
       "0.307692     353\n",
       "0.363636     332\n",
       "0.444444     327\n",
       "0.214286     321\n",
       "0.266667     285\n",
       "0.153846     268\n",
       "0.100000     266\n",
       "0.384615     264\n",
       "0.357143     258\n",
       "0.312500     234\n",
       "0.090909     223\n",
       "0.294118     220\n",
       "            ... \n",
       "0.780488       1\n",
       "0.327044       1\n",
       "0.111801       1\n",
       "0.453488       1\n",
       "0.560606       1\n",
       "0.380435       1\n",
       "0.298387       1\n",
       "0.122302       1\n",
       "0.359649       1\n",
       "0.179775       1\n",
       "0.329670       1\n",
       "0.263566       1\n",
       "0.203333       1\n",
       "0.095745       1\n",
       "0.223301       1\n",
       "0.218310       1\n",
       "0.237705       1\n",
       "0.690909       1\n",
       "0.390187       1\n",
       "0.379562       1\n",
       "0.319249       1\n",
       "0.402116       1\n",
       "0.339130       1\n",
       "0.292035       1\n",
       "0.379845       1\n",
       "0.558140       1\n",
       "0.245098       1\n",
       "0.376963       1\n",
       "0.412371       1\n",
       "0.165289       1\n",
       "Name: rate_negative_words, dtype: int64"
      ]
     },
     "execution_count": 68,
     "metadata": {},
     "output_type": "execute_result"
    }
   ],
   "source": [
    "df.rate_negative_words.value_counts()"
   ]
  },
  {
   "cell_type": "code",
   "execution_count": 69,
   "metadata": {
    "collapsed": false
   },
   "outputs": [
    {
     "data": {
      "text/plain": [
       "0.000000    1217\n",
       "0.500000     201\n",
       "0.400000     150\n",
       "0.350000     117\n",
       "0.300000     104\n",
       "0.375000     102\n",
       "0.450000     101\n",
       "0.366667      77\n",
       "0.433333      74\n",
       "0.416667      68\n",
       "0.250000      68\n",
       "0.550000      66\n",
       "0.333333      62\n",
       "0.466667      57\n",
       "0.425000      53\n",
       "0.325000      53\n",
       "0.383333      46\n",
       "0.337500      42\n",
       "0.437500      40\n",
       "0.483333      40\n",
       "0.136364      40\n",
       "0.266667      38\n",
       "0.233333      37\n",
       "0.318182      36\n",
       "0.475000      36\n",
       "0.275000      35\n",
       "0.600000      35\n",
       "0.316667      35\n",
       "0.358333      34\n",
       "0.357143      34\n",
       "            ... \n",
       "0.478926       1\n",
       "0.267102       1\n",
       "0.282057       1\n",
       "0.454823       1\n",
       "0.308335       1\n",
       "0.402653       1\n",
       "0.486529       1\n",
       "0.294335       1\n",
       "0.299315       1\n",
       "0.275942       1\n",
       "0.309120       1\n",
       "0.364765       1\n",
       "0.277879       1\n",
       "0.431553       1\n",
       "0.395562       1\n",
       "0.487365       1\n",
       "0.503325       1\n",
       "0.214182       1\n",
       "0.105748       1\n",
       "0.304537       1\n",
       "0.460519       1\n",
       "0.341185       1\n",
       "0.444598       1\n",
       "0.365106       1\n",
       "0.226545       1\n",
       "0.306499       1\n",
       "0.324960       1\n",
       "0.348887       1\n",
       "0.346761       1\n",
       "0.482284       1\n",
       "Name: avg_positive_polarity, dtype: int64"
      ]
     },
     "execution_count": 69,
     "metadata": {},
     "output_type": "execute_result"
    }
   ],
   "source": [
    "df.avg_positive_polarity.value_counts()"
   ]
  },
  {
   "cell_type": "code",
   "execution_count": 70,
   "metadata": {
    "collapsed": false
   },
   "outputs": [
    {
     "data": {
      "text/plain": [
       "0.100000    15437\n",
       "0.033333     7399\n",
       "0.050000     4412\n",
       "0.136364     4058\n",
       "0.062500     2805\n",
       "0.200000     1372\n",
       "0.000000     1217\n",
       "0.250000      645\n",
       "0.166667      508\n",
       "0.160000      415\n",
       "0.500000      258\n",
       "0.300000      153\n",
       "0.400000      135\n",
       "0.083333      133\n",
       "0.214286      122\n",
       "0.375000      104\n",
       "0.150000      100\n",
       "0.285714       94\n",
       "0.350000       87\n",
       "0.333333       75\n",
       "0.600000       19\n",
       "0.357143       19\n",
       "0.433333       16\n",
       "0.125000       13\n",
       "0.227273       10\n",
       "0.700000        8\n",
       "1.000000        8\n",
       "0.800000        7\n",
       "0.366667        6\n",
       "0.416667        4\n",
       "0.450000        3\n",
       "0.900000        1\n",
       "0.750000        1\n",
       "Name: min_positive_polarity, dtype: int64"
      ]
     },
     "execution_count": 70,
     "metadata": {},
     "output_type": "execute_result"
    }
   ],
   "source": [
    "df.min_positive_polarity.value_counts()"
   ]
  },
  {
   "cell_type": "code",
   "execution_count": 54,
   "metadata": {
    "collapsed": false
   },
   "outputs": [
    {
     "data": {
      "text/plain": [
       "<matplotlib.axes._subplots.AxesSubplot at 0x175263c8>"
      ]
     },
     "execution_count": 54,
     "metadata": {},
     "output_type": "execute_result"
    },
    {
     "data": {
      "image/png": "[encoded data removed]",
      "text/plain": [
       "<matplotlib.figure.Figure at 0x172f86d8>"
      ]
     },
     "metadata": {},
     "output_type": "display_data"
    }
   ],
   "source": [
    "df.min_positive_polarity.value_counts().plot('bar')"
   ]
  },
  {
   "cell_type": "code",
   "execution_count": 71,
   "metadata": {
    "collapsed": false
   },
   "outputs": [
    {
     "data": {
      "text/plain": [
       "1.000000    14821\n",
       "0.500000     6621\n",
       "0.800000     5604\n",
       "0.600000     4143\n",
       "0.700000     3148\n",
       "0.000000     1217\n",
       "0.900000     1122\n",
       "0.750000      716\n",
       "0.850000      664\n",
       "0.400000      455\n",
       "0.375000      161\n",
       "0.250000      140\n",
       "0.550000      122\n",
       "0.300000       77\n",
       "0.200000       77\n",
       "0.350000       74\n",
       "0.136364       65\n",
       "0.433333       63\n",
       "0.666667       55\n",
       "0.333333       49\n",
       "0.100000       47\n",
       "0.733333       28\n",
       "0.357143       27\n",
       "0.416667       25\n",
       "0.285714       25\n",
       "0.214286       22\n",
       "0.833333       13\n",
       "0.450000       13\n",
       "0.160000       12\n",
       "0.166667       10\n",
       "0.033333        7\n",
       "0.650000        6\n",
       "0.950000        3\n",
       "0.366667        3\n",
       "0.062500        3\n",
       "0.050000        3\n",
       "0.150000        2\n",
       "0.227273        1\n",
       "Name: max_positive_polarity, dtype: int64"
      ]
     },
     "execution_count": 71,
     "metadata": {},
     "output_type": "execute_result"
    }
   ],
   "source": [
    "df.max_positive_polarity.value_counts()"
   ]
  },
  {
   "cell_type": "code",
   "execution_count": 55,
   "metadata": {
    "collapsed": false
   },
   "outputs": [
    {
     "data": {
      "text/plain": [
       "<matplotlib.axes._subplots.AxesSubplot at 0x1793b908>"
      ]
     },
     "execution_count": 55,
     "metadata": {},
     "output_type": "execute_result"
    },
    {
     "data": {
      "image/png": "[encoded data removed]",
      "text/plain": [
       "<matplotlib.figure.Figure at 0x179e4358>"
      ]
     },
     "metadata": {},
     "output_type": "display_data"
    }
   ],
   "source": [
    "df.max_positive_polarity.value_counts().plot('bar')"
   ]
  },
  {
   "cell_type": "code",
   "execution_count": 72,
   "metadata": {
    "collapsed": false
   },
   "outputs": [
    {
     "data": {
      "text/plain": [
       " 0.000000    2550\n",
       "-0.125000     499\n",
       "-0.400000     444\n",
       "-0.200000     444\n",
       "-0.250000     404\n",
       "-0.300000     387\n",
       "-0.166667     386\n",
       "-0.500000     330\n",
       "-0.100000     302\n",
       "-0.150000     220\n",
       "-0.187500     202\n",
       "-0.350000     200\n",
       "-0.155556     176\n",
       "-0.175000     168\n",
       "-0.275000     168\n",
       "-0.333333     153\n",
       "-0.225000     145\n",
       "-0.208333     141\n",
       "-0.283333     139\n",
       "-0.312500     136\n",
       "-0.183333     134\n",
       "-0.133333     130\n",
       "-0.262500     128\n",
       "-0.162500     126\n",
       "-0.450000     125\n",
       "-0.216667     123\n",
       "-0.600000     122\n",
       "-0.375000     120\n",
       "-0.266667     118\n",
       "-0.233333     117\n",
       "             ... \n",
       "-0.303974       1\n",
       "-0.297361       1\n",
       "-0.227646       1\n",
       "-0.290846       1\n",
       "-0.359352       1\n",
       "-0.269982       1\n",
       "-0.380268       1\n",
       "-0.295926       1\n",
       "-0.189742       1\n",
       "-0.475579       1\n",
       "-0.153855       1\n",
       "-0.215986       1\n",
       "-0.200559       1\n",
       "-0.465385       1\n",
       "-0.176128       1\n",
       "-0.323792       1\n",
       "-0.271519       1\n",
       "-0.187173       1\n",
       "-0.219495       1\n",
       "-0.366071       1\n",
       "-0.127877       1\n",
       "-0.205425       1\n",
       "-0.176257       1\n",
       "-0.333965       1\n",
       "-0.272553       1\n",
       "-0.216991       1\n",
       "-0.297880       1\n",
       "-0.403750       1\n",
       "-0.164683       1\n",
       "-0.230710       1\n",
       "Name: avg_negative_polarity, dtype: int64"
      ]
     },
     "execution_count": 72,
     "metadata": {},
     "output_type": "execute_result"
    }
   ],
   "source": [
    "df.avg_negative_polarity.value_counts()"
   ]
  },
  {
   "cell_type": "code",
   "execution_count": 73,
   "metadata": {
    "collapsed": false,
    "scrolled": true
   },
   "outputs": [
    {
     "data": {
      "text/plain": [
       "-0.500000    6894\n",
       "-1.000000    5553\n",
       "-0.400000    3962\n",
       "-0.600000    3712\n",
       "-0.800000    3045\n",
       "-0.700000    2604\n",
       " 0.000000    2550\n",
       "-0.300000    1910\n",
       "-0.200000    1482\n",
       "-0.250000    1284\n",
       "-0.166667    1001\n",
       "-0.125000     702\n",
       "-0.333333     477\n",
       "-0.666667     471\n",
       "-0.291667     355\n",
       "-0.750000     354\n",
       "-0.100000     346\n",
       "-0.900000     341\n",
       "-0.187500     333\n",
       "-0.312500     324\n",
       "-0.155556     319\n",
       "-0.714286     283\n",
       "-0.625000     252\n",
       "-0.875000     221\n",
       "-0.388889     134\n",
       "-0.433333     132\n",
       "-0.050000     119\n",
       "-0.150000      90\n",
       "-0.071429      80\n",
       "-0.133333      61\n",
       "-0.375000      43\n",
       "-0.316667      39\n",
       "-0.650000      30\n",
       "-0.230769      20\n",
       "-0.550000      19\n",
       "-0.214286      19\n",
       "-0.175000      14\n",
       "-0.025000      11\n",
       "-0.178571      10\n",
       "-0.416667       9\n",
       "-0.142857       8\n",
       "-0.076923       5\n",
       "-0.350000       3\n",
       "-0.466667       3\n",
       "-0.210000       3\n",
       "-0.075000       3\n",
       "-0.566667       3\n",
       "-0.033333       2\n",
       "-0.216667       2\n",
       "-0.083333       2\n",
       "-0.066667       2\n",
       "-0.225000       1\n",
       "-0.012500       1\n",
       "-0.733333       1\n",
       "Name: min_negative_polarity, dtype: int64"
      ]
     },
     "execution_count": 73,
     "metadata": {},
     "output_type": "execute_result"
    }
   ],
   "source": [
    "df.min_negative_polarity.value_counts()"
   ]
  },
  {
   "cell_type": "code",
   "execution_count": 56,
   "metadata": {
    "collapsed": false
   },
   "outputs": [
    {
     "data": {
      "text/plain": [
       "<matplotlib.axes._subplots.AxesSubplot at 0x17e36668>"
      ]
     },
     "execution_count": 56,
     "metadata": {},
     "output_type": "execute_result"
    },
    {
     "data": {
      "image/png": "[encoded data removed]",
      "text/plain": [
       "<matplotlib.figure.Figure at 0x179e4550>"
      ]
     },
     "metadata": {},
     "output_type": "display_data"
    }
   ],
   "source": [
    "df.min_negative_polarity.value_counts().plot('bar')"
   ]
  },
  {
   "cell_type": "code",
   "execution_count": 82,
   "metadata": {
    "collapsed": false
   },
   "outputs": [
    {
     "data": {
      "text/plain": [
       "dtype('float64')"
      ]
     },
     "execution_count": 82,
     "metadata": {},
     "output_type": "execute_result"
    }
   ],
   "source": [
    "df.min_negative_polarity.dtype"
   ]
  },
  {
   "cell_type": "code",
   "execution_count": 81,
   "metadata": {
    "collapsed": false
   },
   "outputs": [
    {
     "data": {
      "text/plain": [
       "-0.050000    9948\n",
       "-0.100000    8819\n",
       "-0.125000    5360\n",
       "-0.071429    2612\n",
       " 0.000000    2550\n",
       "-0.166667    1766\n",
       "-0.200000    1207\n",
       "-0.155556    1204\n",
       "-0.025000     697\n",
       "-0.187500     617\n",
       "-0.400000     515\n",
       "-0.250000     497\n",
       "-0.150000     478\n",
       "-0.300000     459\n",
       "-0.500000     356\n",
       "-0.075000     259\n",
       "-0.066667     256\n",
       "-0.133333     249\n",
       "-0.083333     236\n",
       "-0.012500     229\n",
       "-0.033333     212\n",
       "-0.008333     194\n",
       "-0.076923     168\n",
       "-0.291667     121\n",
       "-0.333333     100\n",
       "-0.600000      90\n",
       "-0.312500      81\n",
       "-0.700000      56\n",
       "-1.000000      51\n",
       "-0.800000      40\n",
       "-0.175000      32\n",
       "-0.178571      29\n",
       "-0.142857      27\n",
       "-0.388889      27\n",
       "-0.214286      21\n",
       "-0.433333      14\n",
       "-0.230769      14\n",
       "-0.316667      10\n",
       "-0.666667      10\n",
       "-0.375000       7\n",
       "-0.900000       6\n",
       "-0.625000       4\n",
       "-0.714286       4\n",
       "-0.216667       3\n",
       "-0.875000       3\n",
       "-0.210000       2\n",
       "-0.750000       2\n",
       "-0.550000       1\n",
       "-0.225000       1\n",
       "Name: max_negative_polarity, dtype: int64"
      ]
     },
     "execution_count": 81,
     "metadata": {},
     "output_type": "execute_result"
    }
   ],
   "source": [
    "df.max_negative_polarity.value_counts()"
   ]
  },
  {
   "cell_type": "code",
   "execution_count": 57,
   "metadata": {
    "collapsed": false
   },
   "outputs": [
    {
     "data": {
      "text/plain": [
       "<matplotlib.axes._subplots.AxesSubplot at 0x181dcb70>"
      ]
     },
     "execution_count": 57,
     "metadata": {},
     "output_type": "execute_result"
    },
    {
     "data": {
      "image/png": "[encoded data removed]",
      "text/plain": [
       "<matplotlib.figure.Figure at 0x179e44e0>"
      ]
     },
     "metadata": {},
     "output_type": "display_data"
    }
   ],
   "source": [
    "df.max_negative_polarity.value_counts().plot('bar')"
   ]
  },
  {
   "cell_type": "code",
   "execution_count": 75,
   "metadata": {
    "collapsed": false
   },
   "outputs": [
    {
     "data": {
      "text/plain": [
       "0.000000    18013\n",
       "0.500000     2642\n",
       "1.000000     2527\n",
       "0.400000     1338\n",
       "0.454545     1148\n",
       "0.300000      941\n",
       "0.100000      788\n",
       "0.200000      707\n",
       "0.333333      632\n",
       "0.600000      627\n",
       "0.900000      613\n",
       "0.700000      543\n",
       "0.750000      514\n",
       "0.066667      431\n",
       "0.375000      401\n",
       "0.250000      384\n",
       "0.666667      384\n",
       "0.650000      327\n",
       "0.800000      313\n",
       "0.550000      228\n",
       "0.450000      215\n",
       "0.125000      195\n",
       "0.288889      188\n",
       "0.050000      187\n",
       "0.350000      180\n",
       "0.833333      154\n",
       "0.166667      154\n",
       "0.950000      141\n",
       "0.642857      135\n",
       "0.850000      135\n",
       "            ...  \n",
       "0.652778        1\n",
       "0.568182        1\n",
       "0.413636        1\n",
       "0.390741        1\n",
       "0.435000        1\n",
       "0.351190        1\n",
       "0.818182        1\n",
       "0.382143        1\n",
       "0.713889        1\n",
       "0.529167        1\n",
       "0.467208        1\n",
       "0.370707        1\n",
       "0.563333        1\n",
       "0.778571        1\n",
       "0.772222        1\n",
       "0.547619        1\n",
       "0.409848        1\n",
       "0.652273        1\n",
       "0.480952        1\n",
       "0.405303        1\n",
       "0.288636        1\n",
       "0.682273        1\n",
       "0.228571        1\n",
       "0.206250        1\n",
       "0.742857        1\n",
       "0.383929        1\n",
       "0.822222        1\n",
       "0.510000        1\n",
       "0.589286        1\n",
       "0.307071        1\n",
       "Name: title_subjectivity, dtype: int64"
      ]
     },
     "execution_count": 75,
     "metadata": {},
     "output_type": "execute_result"
    }
   ],
   "source": [
    "df.title_subjectivity.value_counts()"
   ]
  },
  {
   "cell_type": "code",
   "execution_count": 76,
   "metadata": {
    "collapsed": false
   },
   "outputs": [
    {
     "data": {
      "text/plain": [
       " 0.000000    19914\n",
       " 0.500000     2112\n",
       " 0.136364     1371\n",
       " 0.250000     1205\n",
       " 0.100000      883\n",
       " 0.200000      803\n",
       " 0.400000      599\n",
       " 1.000000      551\n",
       "-0.500000      546\n",
       "-0.400000      520\n",
       "-0.200000      490\n",
       " 0.300000      485\n",
       "-0.125000      415\n",
       "-0.100000      389\n",
       " 0.600000      305\n",
       " 0.033333      302\n",
       " 0.350000      247\n",
       " 0.333333      246\n",
       "-0.250000      234\n",
       "-0.050000      227\n",
       "-0.300000      216\n",
       " 0.800000      206\n",
       " 0.050000      195\n",
       " 0.700000      195\n",
       " 0.068182      193\n",
       "-0.166667      190\n",
       "-0.600000      187\n",
       " 0.375000      186\n",
       "-0.155556      181\n",
       "-1.000000      175\n",
       "             ...  \n",
       " 0.170370        1\n",
       "-0.287879        1\n",
       " 0.038889        1\n",
       "-0.121212        1\n",
       " 0.461905        1\n",
       " 0.608333        1\n",
       " 0.098788        1\n",
       " 0.251515        1\n",
       " 0.058333        1\n",
       "-0.468750        1\n",
       " 0.011538        1\n",
       " 0.294444        1\n",
       " 0.330556        1\n",
       " 0.478788        1\n",
       "-0.010989        1\n",
       "-0.034545        1\n",
       " 0.221645        1\n",
       "-0.217460        1\n",
       " 0.120000        1\n",
       " 0.248148        1\n",
       " 0.114815        1\n",
       "-0.051768        1\n",
       " 0.041234        1\n",
       " 0.151804        1\n",
       " 0.075758        1\n",
       " 0.055966        1\n",
       "-0.215909        1\n",
       "-0.652000        1\n",
       " 0.223232        1\n",
       "-0.137879        1\n",
       "Name: title_sentiment_polarity, dtype: int64"
      ]
     },
     "execution_count": 76,
     "metadata": {},
     "output_type": "execute_result"
    }
   ],
   "source": [
    "df.title_sentiment_polarity.value_counts()"
   ]
  },
  {
   "cell_type": "code",
   "execution_count": 77,
   "metadata": {
    "collapsed": false
   },
   "outputs": [
    {
     "data": {
      "text/plain": [
       "0.500000    20539\n",
       "0.000000     2643\n",
       "0.100000     1965\n",
       "0.200000     1484\n",
       "0.400000     1401\n",
       "0.045455     1154\n",
       "0.300000     1020\n",
       "0.166667     1016\n",
       "0.250000      898\n",
       "0.125000      510\n",
       "0.150000      507\n",
       "0.050000      443\n",
       "0.433333      431\n",
       "0.450000      328\n",
       "0.333333      308\n",
       "0.350000      259\n",
       "0.375000      238\n",
       "0.211111      189\n",
       "0.083333      170\n",
       "0.142857      169\n",
       "0.066667      153\n",
       "0.133333      123\n",
       "0.033333      117\n",
       "0.040000      117\n",
       "0.272727      100\n",
       "0.227273       98\n",
       "0.216667       98\n",
       "0.022727       88\n",
       "0.266667       83\n",
       "0.075000       74\n",
       "            ...  \n",
       "0.123016        1\n",
       "0.059596        1\n",
       "0.032792        1\n",
       "0.259596        1\n",
       "0.068182        1\n",
       "0.049603        1\n",
       "0.029091        1\n",
       "0.135152        1\n",
       "0.038000        1\n",
       "0.112374        1\n",
       "0.136111        1\n",
       "0.225397        1\n",
       "0.165945        1\n",
       "0.345000        1\n",
       "0.377778        1\n",
       "0.073737        1\n",
       "0.042614        1\n",
       "0.043485        1\n",
       "0.052381        1\n",
       "0.113333        1\n",
       "0.298485        1\n",
       "0.060390        1\n",
       "0.145000        1\n",
       "0.004040        1\n",
       "0.249459        1\n",
       "0.186136        1\n",
       "0.080952        1\n",
       "0.032197        1\n",
       "0.194444        1\n",
       "0.006818        1\n",
       "Name: abs_title_subjectivity, dtype: int64"
      ]
     },
     "execution_count": 77,
     "metadata": {},
     "output_type": "execute_result"
    }
   ],
   "source": [
    "df.abs_title_subjectivity.value_counts()"
   ]
  },
  {
   "cell_type": "code",
   "execution_count": 78,
   "metadata": {
    "collapsed": false
   },
   "outputs": [
    {
     "data": {
      "text/plain": [
       "0.000000    19914\n",
       "0.500000     2658\n",
       "0.250000     1439\n",
       "0.136364     1371\n",
       "0.200000     1293\n",
       "0.100000     1272\n",
       "0.400000     1119\n",
       "1.000000      726\n",
       "0.300000      701\n",
       "0.125000      569\n",
       "0.600000      492\n",
       "0.050000      422\n",
       "0.166667      357\n",
       "0.033333      339\n",
       "0.333333      319\n",
       "0.700000      316\n",
       "0.150000      293\n",
       "0.350000      291\n",
       "0.800000      281\n",
       "0.375000      217\n",
       "0.068182      196\n",
       "0.155556      183\n",
       "0.214286      153\n",
       "0.062500      124\n",
       "0.550000      123\n",
       "0.160000      116\n",
       "0.450000      112\n",
       "0.083333      111\n",
       "0.416667      105\n",
       "0.187500      104\n",
       "            ...  \n",
       "0.223232        1\n",
       "0.217460        1\n",
       "0.273810        1\n",
       "0.090278        1\n",
       "0.326667        1\n",
       "0.608333        1\n",
       "0.049242        1\n",
       "0.009091        1\n",
       "0.157576        1\n",
       "0.098788        1\n",
       "0.034545        1\n",
       "0.017857        1\n",
       "0.478788        1\n",
       "0.126667        1\n",
       "0.258095        1\n",
       "0.480000        1\n",
       "0.046528        1\n",
       "0.017424        1\n",
       "0.294444        1\n",
       "0.232121        1\n",
       "0.242857        1\n",
       "0.010989        1\n",
       "0.221645        1\n",
       "0.251515        1\n",
       "0.051768        1\n",
       "0.011538        1\n",
       "0.168000        1\n",
       "0.330556        1\n",
       "0.652000        1\n",
       "0.041071        1\n",
       "Name: abs_title_sentiment_polarity, dtype: int64"
      ]
     },
     "execution_count": 78,
     "metadata": {},
     "output_type": "execute_result"
    }
   ],
   "source": [
    "df.abs_title_sentiment_polarity.value_counts()"
   ]
  },
  {
   "cell_type": "code",
   "execution_count": 79,
   "metadata": {
    "collapsed": false
   },
   "outputs": [
    {
     "data": {
      "text/plain": [
       "1100      2308\n",
       "1200      2018\n",
       "1300      1740\n",
       "1400      1592\n",
       "1500      1323\n",
       "1000      1177\n",
       "1600      1137\n",
       "1700      1013\n",
       "1800       889\n",
       "1900       810\n",
       "2000       774\n",
       "2100       661\n",
       "2200       631\n",
       "2300       511\n",
       "2400       506\n",
       "2600       442\n",
       "2500       441\n",
       "2700       435\n",
       "2800       359\n",
       "2900       356\n",
       "3000       348\n",
       "3100       306\n",
       "3200       282\n",
       "3400       271\n",
       "3300       259\n",
       "3500       252\n",
       "3800       240\n",
       "3600       233\n",
       "3700       223\n",
       "3900       200\n",
       "          ... \n",
       "38400        1\n",
       "139500       1\n",
       "168          1\n",
       "104          1\n",
       "53           1\n",
       "295          1\n",
       "72100        1\n",
       "92600        1\n",
       "309          1\n",
       "51500        1\n",
       "277          1\n",
       "43200        1\n",
       "39700        1\n",
       "149          1\n",
       "67700        1\n",
       "85           1\n",
       "59400        1\n",
       "8            1\n",
       "80800        1\n",
       "75600        1\n",
       "34500        1\n",
       "50700        1\n",
       "42400        1\n",
       "66900        1\n",
       "72900        1\n",
       "197600       1\n",
       "310800       1\n",
       "92           1\n",
       "57800        1\n",
       "82200        1\n",
       "Name: shares, dtype: int64"
      ]
     },
     "execution_count": 79,
     "metadata": {},
     "output_type": "execute_result"
    }
   ],
   "source": [
    "df.shares.value_counts()"
   ]
  },
  {
   "cell_type": "code",
   "execution_count": 58,
   "metadata": {
    "collapsed": false
   },
   "outputs": [
    {
     "data": {
      "text/plain": [
       "<matplotlib.axes._subplots.AxesSubplot at 0x17e4eb70>"
      ]
     },
     "execution_count": 58,
     "metadata": {},
     "output_type": "execute_result"
    },
    {
     "data": {
      "image/png": "[encoded data removed]",
      "text/plain": [
       "<matplotlib.figure.Figure at 0x188555c0>"
      ]
     },
     "metadata": {},
     "output_type": "display_data"
    }
   ],
   "source": [
    "df.shares.value_counts().plot('hist')"
   ]
  },
  {
   "cell_type": "code",
   "execution_count": 10,
   "metadata": {
    "collapsed": false
   },
   "outputs": [
    {
     "data": {
      "text/html": [
       "<div>\n",
       "<table border=\"1\" class=\"dataframe\">\n",
       "  <thead>\n",
       "    <tr style=\"text-align: right;\">\n",
       "      <th></th>\n",
       "      <th>timedelta</th>\n",
       "      <th>n_tokens_title</th>\n",
       "      <th>n_tokens_content</th>\n",
       "      <th>n_unique_tokens</th>\n",
       "      <th>n_non_stop_words</th>\n",
       "      <th>n_non_stop_unique_tokens</th>\n",
       "      <th>num_hrefs</th>\n",
       "      <th>num_self_hrefs</th>\n",
       "      <th>num_imgs</th>\n",
       "      <th>num_videos</th>\n",
       "      <th>...</th>\n",
       "      <th>min_positive_polarity</th>\n",
       "      <th>max_positive_polarity</th>\n",
       "      <th>avg_negative_polarity</th>\n",
       "      <th>min_negative_polarity</th>\n",
       "      <th>max_negative_polarity</th>\n",
       "      <th>title_subjectivity</th>\n",
       "      <th>title_sentiment_polarity</th>\n",
       "      <th>abs_title_subjectivity</th>\n",
       "      <th>abs_title_sentiment_polarity</th>\n",
       "      <th>shares</th>\n",
       "    </tr>\n",
       "  </thead>\n",
       "  <tbody>\n",
       "    <tr>\n",
       "      <th>count</th>\n",
       "      <td>39644.000000</td>\n",
       "      <td>39644.000000</td>\n",
       "      <td>39644.000000</td>\n",
       "      <td>39644.000000</td>\n",
       "      <td>39644.000000</td>\n",
       "      <td>39644.000000</td>\n",
       "      <td>39644.000000</td>\n",
       "      <td>39644.000000</td>\n",
       "      <td>39644.000000</td>\n",
       "      <td>39644.000000</td>\n",
       "      <td>...</td>\n",
       "      <td>39644.000000</td>\n",
       "      <td>39644.000000</td>\n",
       "      <td>39644.000000</td>\n",
       "      <td>39644.000000</td>\n",
       "      <td>39644.000000</td>\n",
       "      <td>39644.000000</td>\n",
       "      <td>39644.000000</td>\n",
       "      <td>39644.000000</td>\n",
       "      <td>39644.000000</td>\n",
       "      <td>39644.000000</td>\n",
       "    </tr>\n",
       "    <tr>\n",
       "      <th>mean</th>\n",
       "      <td>354.530471</td>\n",
       "      <td>10.398749</td>\n",
       "      <td>546.514731</td>\n",
       "      <td>0.548216</td>\n",
       "      <td>0.996469</td>\n",
       "      <td>0.689175</td>\n",
       "      <td>10.883690</td>\n",
       "      <td>3.293638</td>\n",
       "      <td>4.544143</td>\n",
       "      <td>1.249874</td>\n",
       "      <td>...</td>\n",
       "      <td>0.095446</td>\n",
       "      <td>0.756728</td>\n",
       "      <td>-0.259524</td>\n",
       "      <td>-0.521944</td>\n",
       "      <td>-0.107500</td>\n",
       "      <td>0.282353</td>\n",
       "      <td>0.071425</td>\n",
       "      <td>0.341843</td>\n",
       "      <td>0.156064</td>\n",
       "      <td>3395.380184</td>\n",
       "    </tr>\n",
       "    <tr>\n",
       "      <th>std</th>\n",
       "      <td>214.163767</td>\n",
       "      <td>2.114037</td>\n",
       "      <td>471.107508</td>\n",
       "      <td>3.520708</td>\n",
       "      <td>5.231231</td>\n",
       "      <td>3.264816</td>\n",
       "      <td>11.332017</td>\n",
       "      <td>3.855141</td>\n",
       "      <td>8.309434</td>\n",
       "      <td>4.107855</td>\n",
       "      <td>...</td>\n",
       "      <td>0.071315</td>\n",
       "      <td>0.247786</td>\n",
       "      <td>0.127726</td>\n",
       "      <td>0.290290</td>\n",
       "      <td>0.095373</td>\n",
       "      <td>0.324247</td>\n",
       "      <td>0.265450</td>\n",
       "      <td>0.188791</td>\n",
       "      <td>0.226294</td>\n",
       "      <td>11626.950749</td>\n",
       "    </tr>\n",
       "    <tr>\n",
       "      <th>min</th>\n",
       "      <td>8.000000</td>\n",
       "      <td>2.000000</td>\n",
       "      <td>0.000000</td>\n",
       "      <td>0.000000</td>\n",
       "      <td>0.000000</td>\n",
       "      <td>0.000000</td>\n",
       "      <td>0.000000</td>\n",
       "      <td>0.000000</td>\n",
       "      <td>0.000000</td>\n",
       "      <td>0.000000</td>\n",
       "      <td>...</td>\n",
       "      <td>0.000000</td>\n",
       "      <td>0.000000</td>\n",
       "      <td>-1.000000</td>\n",
       "      <td>-1.000000</td>\n",
       "      <td>-1.000000</td>\n",
       "      <td>0.000000</td>\n",
       "      <td>-1.000000</td>\n",
       "      <td>0.000000</td>\n",
       "      <td>0.000000</td>\n",
       "      <td>1.000000</td>\n",
       "    </tr>\n",
       "    <tr>\n",
       "      <th>25%</th>\n",
       "      <td>164.000000</td>\n",
       "      <td>9.000000</td>\n",
       "      <td>246.000000</td>\n",
       "      <td>0.470870</td>\n",
       "      <td>1.000000</td>\n",
       "      <td>0.625739</td>\n",
       "      <td>4.000000</td>\n",
       "      <td>1.000000</td>\n",
       "      <td>1.000000</td>\n",
       "      <td>0.000000</td>\n",
       "      <td>...</td>\n",
       "      <td>0.050000</td>\n",
       "      <td>0.600000</td>\n",
       "      <td>-0.328383</td>\n",
       "      <td>-0.700000</td>\n",
       "      <td>-0.125000</td>\n",
       "      <td>0.000000</td>\n",
       "      <td>0.000000</td>\n",
       "      <td>0.166667</td>\n",
       "      <td>0.000000</td>\n",
       "      <td>946.000000</td>\n",
       "    </tr>\n",
       "    <tr>\n",
       "      <th>50%</th>\n",
       "      <td>339.000000</td>\n",
       "      <td>10.000000</td>\n",
       "      <td>409.000000</td>\n",
       "      <td>0.539226</td>\n",
       "      <td>1.000000</td>\n",
       "      <td>0.690476</td>\n",
       "      <td>8.000000</td>\n",
       "      <td>3.000000</td>\n",
       "      <td>1.000000</td>\n",
       "      <td>0.000000</td>\n",
       "      <td>...</td>\n",
       "      <td>0.100000</td>\n",
       "      <td>0.800000</td>\n",
       "      <td>-0.253333</td>\n",
       "      <td>-0.500000</td>\n",
       "      <td>-0.100000</td>\n",
       "      <td>0.150000</td>\n",
       "      <td>0.000000</td>\n",
       "      <td>0.500000</td>\n",
       "      <td>0.000000</td>\n",
       "      <td>1400.000000</td>\n",
       "    </tr>\n",
       "    <tr>\n",
       "      <th>75%</th>\n",
       "      <td>542.000000</td>\n",
       "      <td>12.000000</td>\n",
       "      <td>716.000000</td>\n",
       "      <td>0.608696</td>\n",
       "      <td>1.000000</td>\n",
       "      <td>0.754630</td>\n",
       "      <td>14.000000</td>\n",
       "      <td>4.000000</td>\n",
       "      <td>4.000000</td>\n",
       "      <td>1.000000</td>\n",
       "      <td>...</td>\n",
       "      <td>0.100000</td>\n",
       "      <td>1.000000</td>\n",
       "      <td>-0.186905</td>\n",
       "      <td>-0.300000</td>\n",
       "      <td>-0.050000</td>\n",
       "      <td>0.500000</td>\n",
       "      <td>0.150000</td>\n",
       "      <td>0.500000</td>\n",
       "      <td>0.250000</td>\n",
       "      <td>2800.000000</td>\n",
       "    </tr>\n",
       "    <tr>\n",
       "      <th>max</th>\n",
       "      <td>731.000000</td>\n",
       "      <td>23.000000</td>\n",
       "      <td>8474.000000</td>\n",
       "      <td>701.000000</td>\n",
       "      <td>1042.000000</td>\n",
       "      <td>650.000000</td>\n",
       "      <td>304.000000</td>\n",
       "      <td>116.000000</td>\n",
       "      <td>128.000000</td>\n",
       "      <td>91.000000</td>\n",
       "      <td>...</td>\n",
       "      <td>1.000000</td>\n",
       "      <td>1.000000</td>\n",
       "      <td>0.000000</td>\n",
       "      <td>0.000000</td>\n",
       "      <td>0.000000</td>\n",
       "      <td>1.000000</td>\n",
       "      <td>1.000000</td>\n",
       "      <td>0.500000</td>\n",
       "      <td>1.000000</td>\n",
       "      <td>843300.000000</td>\n",
       "    </tr>\n",
       "  </tbody>\n",
       "</table>\n",
       "<p>8 rows × 60 columns</p>\n",
       "</div>"
      ],
      "text/plain": [
       "          timedelta  n_tokens_title  n_tokens_content  n_unique_tokens  \\\n",
       "count  39644.000000    39644.000000      39644.000000     39644.000000   \n",
       "mean     354.530471       10.398749        546.514731         0.548216   \n",
       "std      214.163767        2.114037        471.107508         3.520708   \n",
       "min        8.000000        2.000000          0.000000         0.000000   \n",
       "25%      164.000000        9.000000        246.000000         0.470870   \n",
       "50%      339.000000       10.000000        409.000000         0.539226   \n",
       "75%      542.000000       12.000000        716.000000         0.608696   \n",
       "max      731.000000       23.000000       8474.000000       701.000000   \n",
       "\n",
       "       n_non_stop_words  n_non_stop_unique_tokens     num_hrefs  \\\n",
       "count      39644.000000              39644.000000  39644.000000   \n",
       "mean           0.996469                  0.689175     10.883690   \n",
       "std            5.231231                  3.264816     11.332017   \n",
       "min            0.000000                  0.000000      0.000000   \n",
       "25%            1.000000                  0.625739      4.000000   \n",
       "50%            1.000000                  0.690476      8.000000   \n",
       "75%            1.000000                  0.754630     14.000000   \n",
       "max         1042.000000                650.000000    304.000000   \n",
       "\n",
       "       num_self_hrefs      num_imgs    num_videos      ...        \\\n",
       "count    39644.000000  39644.000000  39644.000000      ...         \n",
       "mean         3.293638      4.544143      1.249874      ...         \n",
       "std          3.855141      8.309434      4.107855      ...         \n",
       "min          0.000000      0.000000      0.000000      ...         \n",
       "25%          1.000000      1.000000      0.000000      ...         \n",
       "50%          3.000000      1.000000      0.000000      ...         \n",
       "75%          4.000000      4.000000      1.000000      ...         \n",
       "max        116.000000    128.000000     91.000000      ...         \n",
       "\n",
       "       min_positive_polarity  max_positive_polarity  avg_negative_polarity  \\\n",
       "count           39644.000000           39644.000000           39644.000000   \n",
       "mean                0.095446               0.756728              -0.259524   \n",
       "std                 0.071315               0.247786               0.127726   \n",
       "min                 0.000000               0.000000              -1.000000   \n",
       "25%                 0.050000               0.600000              -0.328383   \n",
       "50%                 0.100000               0.800000              -0.253333   \n",
       "75%                 0.100000               1.000000              -0.186905   \n",
       "max                 1.000000               1.000000               0.000000   \n",
       "\n",
       "       min_negative_polarity  max_negative_polarity  title_subjectivity  \\\n",
       "count           39644.000000           39644.000000        39644.000000   \n",
       "mean               -0.521944              -0.107500            0.282353   \n",
       "std                 0.290290               0.095373            0.324247   \n",
       "min                -1.000000              -1.000000            0.000000   \n",
       "25%                -0.700000              -0.125000            0.000000   \n",
       "50%                -0.500000              -0.100000            0.150000   \n",
       "75%                -0.300000              -0.050000            0.500000   \n",
       "max                 0.000000               0.000000            1.000000   \n",
       "\n",
       "       title_sentiment_polarity  abs_title_subjectivity  \\\n",
       "count              39644.000000            39644.000000   \n",
       "mean                   0.071425                0.341843   \n",
       "std                    0.265450                0.188791   \n",
       "min                   -1.000000                0.000000   \n",
       "25%                    0.000000                0.166667   \n",
       "50%                    0.000000                0.500000   \n",
       "75%                    0.150000                0.500000   \n",
       "max                    1.000000                0.500000   \n",
       "\n",
       "       abs_title_sentiment_polarity         shares  \n",
       "count                  39644.000000   39644.000000  \n",
       "mean                       0.156064    3395.380184  \n",
       "std                        0.226294   11626.950749  \n",
       "min                        0.000000       1.000000  \n",
       "25%                        0.000000     946.000000  \n",
       "50%                        0.000000    1400.000000  \n",
       "75%                        0.250000    2800.000000  \n",
       "max                        1.000000  843300.000000  \n",
       "\n",
       "[8 rows x 60 columns]"
      ]
     },
     "execution_count": 10,
     "metadata": {},
     "output_type": "execute_result"
    }
   ],
   "source": [
    "df.describe()"
   ]
  },
  {
   "cell_type": "markdown",
   "metadata": {},
   "source": [
    "This seemed like a good idea. If the shares are more than 1400 (mean of shares)  than it goes into the popular category and if it's less than or equal to 1400 then not so popular category"
   ]
  },
  {
   "cell_type": "code",
   "execution_count": 31,
   "metadata": {
    "collapsed": true
   },
   "outputs": [],
   "source": [
    "\n",
    "def shareC(c):\n",
    "    if c['shares'] > 1400:\n",
    "        return 1\n",
    "    elif c['shares'] <= 1400:\n",
    "        return 0\n",
    "  "
   ]
  },
  {
   "cell_type": "code",
   "execution_count": 32,
   "metadata": {
    "collapsed": true
   },
   "outputs": [],
   "source": [
    "df['Cshares'] = df.apply(shareC, axis=1)"
   ]
  },
  {
   "cell_type": "code",
   "execution_count": 33,
   "metadata": {
    "collapsed": false
   },
   "outputs": [
    {
     "data": {
      "text/plain": [
       "0    20082\n",
       "1    19562\n",
       "Name: Cshares, dtype: int64"
      ]
     },
     "execution_count": 33,
     "metadata": {},
     "output_type": "execute_result"
    }
   ],
   "source": [
    "df.Cshares.value_counts()"
   ]
  },
  {
   "cell_type": "code",
   "execution_count": 34,
   "metadata": {
    "collapsed": false
   },
   "outputs": [
    {
     "data": {
      "text/plain": [
       "<matplotlib.axes._subplots.AxesSubplot at 0xf455f60>"
      ]
     },
     "execution_count": 34,
     "metadata": {},
     "output_type": "execute_result"
    },
    {
     "data": {
      "image/png": "[encoded data removed]",
      "text/plain": [
       "<matplotlib.figure.Figure at 0x14b73d68>"
      ]
     },
     "metadata": {},
     "output_type": "display_data"
    }
   ],
   "source": [
    "df.Cshares.value_counts().plot('barh')"
   ]
  },
  {
   "cell_type": "code",
   "execution_count": 15,
   "metadata": {
    "collapsed": false
   },
   "outputs": [
    {
     "data": {
      "text/plain": [
       "Index([u'url', u'timedelta', u'n_tokens_title', u'n_tokens_content',\n",
       "       u'n_unique_tokens', u'n_non_stop_words', u'n_non_stop_unique_tokens',\n",
       "       u'num_hrefs', u'num_self_hrefs', u'num_imgs', u'num_videos',\n",
       "       u'average_token_length', u'num_keywords', u'data_channel_is_lifestyle',\n",
       "       u'data_channel_is_entertainment', u'data_channel_is_bus',\n",
       "       u'data_channel_is_socmed', u'data_channel_is_tech',\n",
       "       u'data_channel_is_world', u'kw_min_min', u'kw_max_min', u'kw_avg_min',\n",
       "       u'kw_min_max', u'kw_max_max', u'kw_avg_max', u'kw_min_avg',\n",
       "       u'kw_max_avg', u'kw_avg_avg', u'self_reference_min_shares',\n",
       "       u'self_reference_max_shares', u'self_reference_avg_sharess',\n",
       "       u'weekday_is_monday', u'weekday_is_tuesday', u'weekday_is_wednesday',\n",
       "       u'weekday_is_thursday', u'weekday_is_friday', u'weekday_is_saturday',\n",
       "       u'weekday_is_sunday', u'is_weekend', u'LDA_00', u'LDA_01', u'LDA_02',\n",
       "       u'LDA_03', u'LDA_04', u'global_subjectivity',\n",
       "       u'global_sentiment_polarity', u'global_rate_positive_words',\n",
       "       u'global_rate_negative_words', u'rate_positive_words',\n",
       "       u'rate_negative_words', u'avg_positive_polarity',\n",
       "       u'min_positive_polarity', u'max_positive_polarity',\n",
       "       u'avg_negative_polarity', u'min_negative_polarity',\n",
       "       u'max_negative_polarity', u'title_subjectivity',\n",
       "       u'title_sentiment_polarity', u'abs_title_subjectivity',\n",
       "       u'abs_title_sentiment_polarity', u'shares', u'Cshares'],\n",
       "      dtype='object')"
      ]
     },
     "execution_count": 15,
     "metadata": {},
     "output_type": "execute_result"
    }
   ],
   "source": [
    "df.columns"
   ]
  },
  {
   "cell_type": "markdown",
   "metadata": {},
   "source": [
    "### Weekdays and Weekends"
   ]
  },
  {
   "cell_type": "code",
   "execution_count": 16,
   "metadata": {
    "collapsed": false
   },
   "outputs": [
    {
     "data": {
      "text/plain": [
       "1    3140\n",
       "Name: Cshares, dtype: int64"
      ]
     },
     "execution_count": 16,
     "metadata": {},
     "output_type": "execute_result"
    }
   ],
   "source": [
    "df[(df.weekday_is_monday==1) & (df.Cshares==1)].Cshares.value_counts()"
   ]
  },
  {
   "cell_type": "code",
   "execution_count": 42,
   "metadata": {
    "collapsed": false
   },
   "outputs": [
    {
     "data": {
      "text/plain": [
       "1    3359\n",
       "Name: Cshares, dtype: int64"
      ]
     },
     "execution_count": 42,
     "metadata": {},
     "output_type": "execute_result"
    }
   ],
   "source": [
    "df[(df.weekday_is_tuesday==1) & (df.Cshares==1)].Cshares.value_counts()"
   ]
  },
  {
   "cell_type": "code",
   "execution_count": 43,
   "metadata": {
    "collapsed": false
   },
   "outputs": [
    {
     "data": {
      "text/plain": [
       "1    3335\n",
       "Name: Cshares, dtype: int64"
      ]
     },
     "execution_count": 43,
     "metadata": {},
     "output_type": "execute_result"
    }
   ],
   "source": [
    "df[(df.weekday_is_wednesday==1) & (df.Cshares==1)].Cshares.value_counts()"
   ]
  },
  {
   "cell_type": "code",
   "execution_count": 44,
   "metadata": {
    "collapsed": false
   },
   "outputs": [
    {
     "data": {
      "text/plain": [
       "1    3382\n",
       "Name: Cshares, dtype: int64"
      ]
     },
     "execution_count": 44,
     "metadata": {},
     "output_type": "execute_result"
    }
   ],
   "source": [
    "df[(df.weekday_is_thursday==1) & (df.Cshares==1)].Cshares.value_counts()"
   ]
  },
  {
   "cell_type": "code",
   "execution_count": 45,
   "metadata": {
    "collapsed": false
   },
   "outputs": [
    {
     "data": {
      "text/plain": [
       "1    2865\n",
       "Name: Cshares, dtype: int64"
      ]
     },
     "execution_count": 45,
     "metadata": {},
     "output_type": "execute_result"
    }
   ],
   "source": [
    "df[(df.weekday_is_friday==1) & (df.Cshares==1)].Cshares.value_counts()"
   ]
  },
  {
   "cell_type": "code",
   "execution_count": 46,
   "metadata": {
    "collapsed": false
   },
   "outputs": [
    {
     "data": {
      "text/plain": [
       "1    1720\n",
       "Name: Cshares, dtype: int64"
      ]
     },
     "execution_count": 46,
     "metadata": {},
     "output_type": "execute_result"
    }
   ],
   "source": [
    "df[(df.weekday_is_saturday==1) & (df.Cshares==1)].Cshares.value_counts()"
   ]
  },
  {
   "cell_type": "code",
   "execution_count": 47,
   "metadata": {
    "collapsed": false
   },
   "outputs": [
    {
     "data": {
      "text/plain": [
       "1    1761\n",
       "Name: Cshares, dtype: int64"
      ]
     },
     "execution_count": 47,
     "metadata": {},
     "output_type": "execute_result"
    }
   ],
   "source": [
    "df[(df.weekday_is_sunday==1) & (df.Cshares==1)].Cshares.value_counts()"
   ]
  },
  {
   "cell_type": "code",
   "execution_count": 48,
   "metadata": {
    "collapsed": false
   },
   "outputs": [
    {
     "data": {
      "text/plain": [
       "1    3481\n",
       "Name: Cshares, dtype: int64"
      ]
     },
     "execution_count": 48,
     "metadata": {},
     "output_type": "execute_result"
    }
   ],
   "source": [
    "df[(df.is_weekend==1) & (df.Cshares==1)].Cshares.value_counts()"
   ]
  },
  {
   "cell_type": "code",
   "execution_count": 51,
   "metadata": {
    "collapsed": false
   },
   "outputs": [
    {
     "data": {
      "text/plain": [
       "<matplotlib.axes._subplots.AxesSubplot at 0x111b9400>"
      ]
     },
     "execution_count": 51,
     "metadata": {},
     "output_type": "execute_result"
    },
    {
     "data": {
      "image/png": "[encoded data removed]",
      "text/plain": [
       "<matplotlib.figure.Figure at 0x13951240>"
      ]
     },
     "metadata": {},
     "output_type": "display_data"
    }
   ],
   "source": [
    "fig, axs = plt.subplots(1,2)\n",
    "df[df.is_weekend==1].Cshares.value_counts().plot(kind='barh',ax=axs[0], title=\"Weekend\")\n",
    "df[df.weekday_is_monday==1].Cshares.value_counts().plot(kind='barh',ax=axs[1], title=\"Monday\")\n",
    "#obvioulsy weekend has more "
   ]
  },
  {
   "cell_type": "code",
   "execution_count": 54,
   "metadata": {
    "collapsed": false
   },
   "outputs": [
    {
     "data": {
      "text/plain": [
       "<matplotlib.axes._subplots.AxesSubplot at 0xcc3d6a0>"
      ]
     },
     "execution_count": 54,
     "metadata": {},
     "output_type": "execute_result"
    },
    {
     "data": {
      "image/png": "[encoded data removed]",
      "text/plain": [
       "<matplotlib.figure.Figure at 0x173496a0>"
      ]
     },
     "metadata": {},
     "output_type": "display_data"
    }
   ],
   "source": [
    "fig, axs = plt.subplots(1,2)\n",
    "df[df.weekday_is_tuesday==1].Cshares.value_counts().plot(kind='barh',ax=axs[0], title=\"Tuesday\")\n",
    "df[df.weekday_is_wednesday==1].Cshares.value_counts().plot(kind='barh',ax=axs[1], title=\"Wednesday\")"
   ]
  },
  {
   "cell_type": "code",
   "execution_count": 56,
   "metadata": {
    "collapsed": false
   },
   "outputs": [
    {
     "data": {
      "text/plain": [
       "<matplotlib.axes._subplots.AxesSubplot at 0x112e6240>"
      ]
     },
     "execution_count": 56,
     "metadata": {},
     "output_type": "execute_result"
    },
    {
     "data": {
      "image/png": "[encoded data removed]",
      "text/plain": [
       "<matplotlib.figure.Figure at 0xcd648d0>"
      ]
     },
     "metadata": {},
     "output_type": "display_data"
    }
   ],
   "source": [
    "fig, axs = plt.subplots(1,2)\n",
    "df[df.weekday_is_saturday==1].Cshares.value_counts().plot(kind='bar',ax=axs[0], title=\"saturday\")\n",
    "df[df.weekday_is_sunday==1].Cshares.value_counts().plot(kind='bar',ax=axs[1], title=\"sunday\")\n",
    "#Almost the same"
   ]
  },
  {
   "cell_type": "markdown",
   "metadata": {},
   "source": [
    "### Various  data Channels "
   ]
  },
  {
   "cell_type": "code",
   "execution_count": 58,
   "metadata": {
    "collapsed": false
   },
   "outputs": [
    {
     "data": {
      "text/plain": [
       "1    1200\n",
       "Name: Cshares, dtype: int64"
      ]
     },
     "execution_count": 58,
     "metadata": {},
     "output_type": "execute_result"
    }
   ],
   "source": [
    "df[(df.data_channel_is_lifestyle==1) & (df.Cshares==1)].Cshares.value_counts()"
   ]
  },
  {
   "cell_type": "code",
   "execution_count": 59,
   "metadata": {
    "collapsed": false
   },
   "outputs": [
    {
     "data": {
      "text/plain": [
       "1    2644\n",
       "Name: Cshares, dtype: int64"
      ]
     },
     "execution_count": 59,
     "metadata": {},
     "output_type": "execute_result"
    }
   ],
   "source": [
    "df[(df.data_channel_is_entertainment==1) & (df.Cshares==1)].Cshares.value_counts()"
   ]
  },
  {
   "cell_type": "code",
   "execution_count": 60,
   "metadata": {
    "collapsed": false
   },
   "outputs": [
    {
     "data": {
      "text/plain": [
       "1    3029\n",
       "Name: Cshares, dtype: int64"
      ]
     },
     "execution_count": 60,
     "metadata": {},
     "output_type": "execute_result"
    }
   ],
   "source": [
    "df[(df.data_channel_is_bus==1) & (df.Cshares==1)].Cshares.value_counts()"
   ]
  },
  {
   "cell_type": "code",
   "execution_count": 61,
   "metadata": {
    "collapsed": false
   },
   "outputs": [
    {
     "data": {
      "text/plain": [
       "1    1659\n",
       "Name: Cshares, dtype: int64"
      ]
     },
     "execution_count": 61,
     "metadata": {},
     "output_type": "execute_result"
    }
   ],
   "source": [
    "df[(df.data_channel_is_socmed==1) & (df.Cshares==1)].Cshares.value_counts()"
   ]
  },
  {
   "cell_type": "code",
   "execution_count": 62,
   "metadata": {
    "collapsed": false
   },
   "outputs": [
    {
     "data": {
      "text/plain": [
       "1    4359\n",
       "Name: Cshares, dtype: int64"
      ]
     },
     "execution_count": 62,
     "metadata": {},
     "output_type": "execute_result"
    }
   ],
   "source": [
    "df[(df.data_channel_is_tech==1) & (df.Cshares==1)].Cshares.value_counts()\n"
   ]
  },
  {
   "cell_type": "code",
   "execution_count": 73,
   "metadata": {
    "collapsed": true
   },
   "outputs": [],
   "source": [
    "# Tech channel has more "
   ]
  },
  {
   "cell_type": "code",
   "execution_count": 63,
   "metadata": {
    "collapsed": false
   },
   "outputs": [
    {
     "data": {
      "text/plain": [
       "1    2936\n",
       "Name: Cshares, dtype: int64"
      ]
     },
     "execution_count": 63,
     "metadata": {},
     "output_type": "execute_result"
    }
   ],
   "source": [
    "df[(df.data_channel_is_world==1) & (df.Cshares==1)].Cshares.value_counts()"
   ]
  },
  {
   "cell_type": "markdown",
   "metadata": {},
   "source": [
    "#### Since tech data channel has more , let's see on which day of the week it has. "
   ]
  },
  {
   "cell_type": "code",
   "execution_count": 65,
   "metadata": {
    "collapsed": false
   },
   "outputs": [
    {
     "data": {
      "text/plain": [
       "1    308\n",
       "Name: Cshares, dtype: int64"
      ]
     },
     "execution_count": 65,
     "metadata": {},
     "output_type": "execute_result"
    }
   ],
   "source": [
    "df[(df.weekday_is_sunday==1) & (df.data_channel_is_tech) & (df.Cshares==1)].Cshares.value_counts()"
   ]
  },
  {
   "cell_type": "code",
   "execution_count": 67,
   "metadata": {
    "collapsed": false
   },
   "outputs": [
    {
     "data": {
      "text/plain": [
       "1    621\n",
       "Name: Cshares, dtype: int64"
      ]
     },
     "execution_count": 67,
     "metadata": {},
     "output_type": "execute_result"
    }
   ],
   "source": [
    "df[(df.weekday_is_friday==1) & (df.data_channel_is_tech) & (df.Cshares==1)].Cshares.value_counts()"
   ]
  },
  {
   "cell_type": "code",
   "execution_count": 69,
   "metadata": {
    "collapsed": false
   },
   "outputs": [
    {
     "data": {
      "text/plain": [
       "1    426\n",
       "Name: Cshares, dtype: int64"
      ]
     },
     "execution_count": 69,
     "metadata": {},
     "output_type": "execute_result"
    }
   ],
   "source": [
    "df[(df.weekday_is_saturday==1) & (df.data_channel_is_tech) & (df.Cshares==1)].Cshares.value_counts()"
   ]
  },
  {
   "cell_type": "code",
   "execution_count": 74,
   "metadata": {
    "collapsed": false
   },
   "outputs": [
    {
     "data": {
      "text/plain": [
       "1    696\n",
       "Name: Cshares, dtype: int64"
      ]
     },
     "execution_count": 74,
     "metadata": {},
     "output_type": "execute_result"
    }
   ],
   "source": [
    "df[(df.weekday_is_monday==1) & (df.data_channel_is_tech) & (df.Cshares==1)].Cshares.value_counts()"
   ]
  },
  {
   "cell_type": "code",
   "execution_count": 75,
   "metadata": {
    "collapsed": false
   },
   "outputs": [
    {
     "data": {
      "text/plain": [
       "1    813\n",
       "Name: Cshares, dtype: int64"
      ]
     },
     "execution_count": 75,
     "metadata": {},
     "output_type": "execute_result"
    }
   ],
   "source": [
    "df[(df.weekday_is_tuesday==1) & (df.data_channel_is_tech) & (df.Cshares==1)].Cshares.value_counts()"
   ]
  },
  {
   "cell_type": "code",
   "execution_count": 76,
   "metadata": {
    "collapsed": false
   },
   "outputs": [
    {
     "data": {
      "text/plain": [
       "1    772\n",
       "Name: Cshares, dtype: int64"
      ]
     },
     "execution_count": 76,
     "metadata": {},
     "output_type": "execute_result"
    }
   ],
   "source": [
    "df[(df.weekday_is_wednesday==1) & (df.data_channel_is_tech) & (df.Cshares==1)].Cshares.value_counts()"
   ]
  },
  {
   "cell_type": "code",
   "execution_count": 1,
   "metadata": {
    "collapsed": true
   },
   "outputs": [],
   "source": [
    "#On tuesday, tech data channel has more"
   ]
  },
  {
   "cell_type": "markdown",
   "metadata": {},
   "source": [
    "### Plots of different data channels"
   ]
  },
  {
   "cell_type": "code",
   "execution_count": 70,
   "metadata": {
    "collapsed": false
   },
   "outputs": [
    {
     "data": {
      "text/plain": [
       "<matplotlib.axes._subplots.AxesSubplot at 0xd42be48>"
      ]
     },
     "execution_count": 70,
     "metadata": {},
     "output_type": "execute_result"
    },
    {
     "data": {
      "image/png": "[encoded data removed]",
      "text/plain": [
       "<matplotlib.figure.Figure at 0x13951d68>"
      ]
     },
     "metadata": {},
     "output_type": "display_data"
    }
   ],
   "source": [
    "fig, axs = plt.subplots(1,2)\n",
    "df[df.data_channel_is_tech==1].Cshares.value_counts().plot(kind='bar',ax=axs[0], title=\"tech\")\n",
    "df[df.data_channel_is_world==1].Cshares.value_counts().plot(kind='bar',ax=axs[1], title=\"world\")"
   ]
  },
  {
   "cell_type": "code",
   "execution_count": 57,
   "metadata": {
    "collapsed": false
   },
   "outputs": [
    {
     "data": {
      "text/plain": [
       "<matplotlib.axes._subplots.AxesSubplot at 0x13ae9a20>"
      ]
     },
     "execution_count": 57,
     "metadata": {},
     "output_type": "execute_result"
    },
    {
     "data": {
      "image/png": "[encoded data removed]",
      "text/plain": [
       "<matplotlib.figure.Figure at 0x138c16d8>"
      ]
     },
     "metadata": {},
     "output_type": "display_data"
    }
   ],
   "source": [
    "fig, axs = plt.subplots(1,2)\n",
    "df[df.data_channel_is_lifestyle==1].Cshares.value_counts().plot(kind='bar',ax=axs[0], title=\"Lifestyle channel\")\n",
    "df[df.data_channel_is_entertainment==1].Cshares.value_counts().plot(kind='bar',ax=axs[1], title=\"Entertainment Channel\")"
   ]
  },
  {
   "cell_type": "code",
   "execution_count": 72,
   "metadata": {
    "collapsed": false
   },
   "outputs": [
    {
     "data": {
      "text/plain": [
       "<matplotlib.axes._subplots.AxesSubplot at 0x128b9e80>"
      ]
     },
     "execution_count": 72,
     "metadata": {},
     "output_type": "execute_result"
    },
    {
     "data": {
      "image/png": "[encoded data removed]",
      "text/plain": [
       "<matplotlib.figure.Figure at 0xd712208>"
      ]
     },
     "metadata": {},
     "output_type": "display_data"
    }
   ],
   "source": [
    "fig, axs = plt.subplots(1,2)\n",
    "df[df.data_channel_is_bus==1].Cshares.value_counts().plot(kind='bar',ax=axs[0], title=\"bus\")\n",
    "df[df.data_channel_is_socmed==1].Cshares.value_counts().plot(kind='bar',ax=axs[1], title=\"socmed\")"
   ]
  },
  {
   "cell_type": "markdown",
   "metadata": {
    "collapsed": true
   },
   "source": [
    "### OnlineNewsPopularity dataset has no null values and no missing values to handle. "
   ]
  },
  {
   "cell_type": "code",
   "execution_count": null,
   "metadata": {
    "collapsed": true
   },
   "outputs": [],
   "source": []
  }
 ],
 "metadata": {
  "anaconda-cloud": {},
  "kernelspec": {
   "display_name": "Python [Root]",
   "language": "python",
   "name": "Python [Root]"
  },
  "language_info": {
   "codemirror_mode": {
    "name": "ipython",
    "version": 2
   },
   "file_extension": ".py",
   "mimetype": "text/x-python",
   "name": "python",
   "nbconvert_exporter": "python",
   "pygments_lexer": "ipython2",
   "version": "2.7.12"
  }
 },
 "nbformat": 4,
 "nbformat_minor": 0
}
